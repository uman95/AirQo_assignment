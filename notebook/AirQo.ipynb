{
 "cells": [
  {
   "cell_type": "code",
   "execution_count": 30,
   "metadata": {},
   "outputs": [],
   "source": [
    "import os\n",
    "import numpy as np\n",
    "import pandas as pd\n",
    "import datetime\n",
    "from scipy.optimize import curve_fit\n",
    "from scipy import stats\n",
    "import matplotlib.pyplot as plt\n",
    "import seaborn as sns\n",
    "import tensorflow as tf\n",
    "from tensorflow.keras import datasets, preprocessing, models, layers\n",
    "from tensorflow.keras.preprocessing.sequence import TimeseriesGenerator"
   ]
  },
  {
   "cell_type": "code",
   "execution_count": 4,
   "metadata": {},
   "outputs": [],
   "source": [
    "Data = pd.read_csv('src/data/airquality-dataset/sample_dataset.csv', index_col=0, chunksize=50)"
   ]
  },
  {
   "cell_type": "code",
   "execution_count": 5,
   "metadata": {},
   "outputs": [
    {
     "name": "stdout",
     "output_type": "stream",
     "text": [
      "<class 'pandas.core.frame.DataFrame'>\n",
      "Int64Index: 50 entries, 0 to 49\n",
      "Data columns (total 7 columns):\n",
      " #   Column      Non-Null Count  Dtype  \n",
      "---  ------      --------------  -----  \n",
      " 0   channel_id  50 non-null     int64  \n",
      " 1   pm2_5       50 non-null     float64\n",
      " 2   pm10        50 non-null     float64\n",
      " 3   s2_pm2_5    50 non-null     float64\n",
      " 4   s2_pm10     50 non-null     float64\n",
      " 5   Site        50 non-null     object \n",
      " 6   TimeStamp   50 non-null     object \n",
      "dtypes: float64(4), int64(1), object(2)\n",
      "memory usage: 3.1+ KB\n"
     ]
    }
   ],
   "source": [
    "Data.get_chunk().info()"
   ]
  },
  {
   "cell_type": "code",
   "execution_count": null,
   "metadata": {},
   "outputs": [],
   "source": [
    "trai"
   ]
  },
  {
   "cell_type": "code",
   "execution_count": 6,
   "metadata": {},
   "outputs": [],
   "source": [
    "dataType = {'channel_id' : 'uint32',\n",
    "            'pm2_5' : 'float32',\n",
    "            'pm10' : 'float32',\n",
    "            's2_pm2_5' : 'float32',\n",
    "            's2_pm10' : 'float32',\n",
    "            'Site' : 'str',\n",
    "            'TimeStamp' : 'str'\n",
    "           }"
   ]
  },
  {
   "cell_type": "code",
   "execution_count": 7,
   "metadata": {},
   "outputs": [],
   "source": [
    "def load_data(dataPath, dataType: dict) -> pd.core.frame.DataFrame:\n",
    "    data = pd.read_csv(dataPath, dtype=dataType, index_col=0)\n",
    "    data = data.drop_duplicates(ignore_index=True)\n",
    "    data['TimeStamp'] = pd.to_datetime(data['TimeStamp'])\n",
    "    \n",
    "    return data"
   ]
  },
  {
   "cell_type": "code",
   "execution_count": 8,
   "metadata": {},
   "outputs": [
    {
     "name": "stderr",
     "output_type": "stream",
     "text": [
      "/home/usman/.local/lib/python3.8/site-packages/numpy/lib/arraysetops.py:569: FutureWarning: elementwise comparison failed; returning scalar instead, but in the future will perform elementwise comparison\n",
      "  mask |= (ar1 == a)\n"
     ]
    }
   ],
   "source": [
    "data = load_data(dataPath='src/data/airquality-dataset/sample_dataset.csv', dataType=dataType)"
   ]
  },
  {
   "cell_type": "code",
   "execution_count": 9,
   "metadata": {},
   "outputs": [
    {
     "data": {
      "text/html": [
       "<div>\n",
       "<style scoped>\n",
       "    .dataframe tbody tr th:only-of-type {\n",
       "        vertical-align: middle;\n",
       "    }\n",
       "\n",
       "    .dataframe tbody tr th {\n",
       "        vertical-align: top;\n",
       "    }\n",
       "\n",
       "    .dataframe thead th {\n",
       "        text-align: right;\n",
       "    }\n",
       "</style>\n",
       "<table border=\"1\" class=\"dataframe\">\n",
       "  <thead>\n",
       "    <tr style=\"text-align: right;\">\n",
       "      <th></th>\n",
       "      <th>channel_id</th>\n",
       "      <th>pm2_5</th>\n",
       "      <th>pm10</th>\n",
       "      <th>s2_pm2_5</th>\n",
       "      <th>s2_pm10</th>\n",
       "      <th>Site</th>\n",
       "      <th>TimeStamp</th>\n",
       "    </tr>\n",
       "  </thead>\n",
       "  <tbody>\n",
       "    <tr>\n",
       "      <th>0</th>\n",
       "      <td>912223</td>\n",
       "      <td>37.020000</td>\n",
       "      <td>45.230000</td>\n",
       "      <td>34.070000</td>\n",
       "      <td>39.820000</td>\n",
       "      <td>Banda, Kampala</td>\n",
       "      <td>2019-11-27 13:24:45</td>\n",
       "    </tr>\n",
       "    <tr>\n",
       "      <th>1</th>\n",
       "      <td>912223</td>\n",
       "      <td>41.700001</td>\n",
       "      <td>50.700001</td>\n",
       "      <td>38.549999</td>\n",
       "      <td>47.430000</td>\n",
       "      <td>Banda, Kampala</td>\n",
       "      <td>2019-11-27 13:26:13</td>\n",
       "    </tr>\n",
       "    <tr>\n",
       "      <th>2</th>\n",
       "      <td>912223</td>\n",
       "      <td>42.150002</td>\n",
       "      <td>52.869999</td>\n",
       "      <td>40.549999</td>\n",
       "      <td>49.950001</td>\n",
       "      <td>Banda, Kampala</td>\n",
       "      <td>2019-11-27 13:30:53</td>\n",
       "    </tr>\n",
       "    <tr>\n",
       "      <th>3</th>\n",
       "      <td>912223</td>\n",
       "      <td>45.099998</td>\n",
       "      <td>57.020000</td>\n",
       "      <td>44.750000</td>\n",
       "      <td>55.029999</td>\n",
       "      <td>Banda, Kampala</td>\n",
       "      <td>2019-11-27 13:32:22</td>\n",
       "    </tr>\n",
       "    <tr>\n",
       "      <th>4</th>\n",
       "      <td>912223</td>\n",
       "      <td>41.720001</td>\n",
       "      <td>52.080002</td>\n",
       "      <td>40.000000</td>\n",
       "      <td>49.200001</td>\n",
       "      <td>Banda, Kampala</td>\n",
       "      <td>2019-11-27 13:33:46</td>\n",
       "    </tr>\n",
       "  </tbody>\n",
       "</table>\n",
       "</div>"
      ],
      "text/plain": [
       "   channel_id      pm2_5       pm10   s2_pm2_5    s2_pm10            Site  \\\n",
       "0      912223  37.020000  45.230000  34.070000  39.820000  Banda, Kampala   \n",
       "1      912223  41.700001  50.700001  38.549999  47.430000  Banda, Kampala   \n",
       "2      912223  42.150002  52.869999  40.549999  49.950001  Banda, Kampala   \n",
       "3      912223  45.099998  57.020000  44.750000  55.029999  Banda, Kampala   \n",
       "4      912223  41.720001  52.080002  40.000000  49.200001  Banda, Kampala   \n",
       "\n",
       "            TimeStamp  \n",
       "0 2019-11-27 13:24:45  \n",
       "1 2019-11-27 13:26:13  \n",
       "2 2019-11-27 13:30:53  \n",
       "3 2019-11-27 13:32:22  \n",
       "4 2019-11-27 13:33:46  "
      ]
     },
     "execution_count": 9,
     "metadata": {},
     "output_type": "execute_result"
    }
   ],
   "source": [
    "data.head()"
   ]
  },
  {
   "cell_type": "code",
   "execution_count": 10,
   "metadata": {},
   "outputs": [
    {
     "name": "stdout",
     "output_type": "stream",
     "text": [
      "<class 'pandas.core.frame.DataFrame'>\n",
      "RangeIndex: 23530784 entries, 0 to 23530783\n",
      "Data columns (total 7 columns):\n",
      " #   Column      Dtype         \n",
      "---  ------      -----         \n",
      " 0   channel_id  uint32        \n",
      " 1   pm2_5       float32       \n",
      " 2   pm10        float32       \n",
      " 3   s2_pm2_5    float32       \n",
      " 4   s2_pm10     float32       \n",
      " 5   Site        object        \n",
      " 6   TimeStamp   datetime64[ns]\n",
      "dtypes: datetime64[ns](1), float32(4), object(1), uint32(1)\n",
      "memory usage: 807.9+ MB\n"
     ]
    }
   ],
   "source": [
    "data.info()"
   ]
  },
  {
   "cell_type": "code",
   "execution_count": 11,
   "metadata": {},
   "outputs": [],
   "source": [
    "channelSite = dict(zip(data['channel_id'].unique(), data['Site'].unique()))"
   ]
  },
  {
   "cell_type": "code",
   "execution_count": 12,
   "metadata": {},
   "outputs": [],
   "source": [
    "siteGroups = data.groupby('channel_id')"
   ]
  },
  {
   "cell_type": "code",
   "execution_count": 197,
   "metadata": {},
   "outputs": [],
   "source": [
    "# for x in siteGroups.groups:\n",
    "#     if not os.path.exists('data_group'):\n",
    "#         os.makedirs('data_group')\n",
    "#     siteGroups.get_group(x).to_csv(f'data_group/{x}.csv')"
   ]
  },
  {
   "cell_type": "code",
   "execution_count": 14,
   "metadata": {},
   "outputs": [],
   "source": [
    "def readChannel(channelId: int, dataPath='src/data/data_group/') -> pd.core.frame.DataFrame:\n",
    "    path = dataPath + str(channelId) + '.csv'\n",
    "    channelData = pd.read_csv(path, index_col=0, parse_dates=['TimeStamp'])\n",
    "    return channelData"
   ]
  },
  {
   "cell_type": "code",
   "execution_count": 15,
   "metadata": {},
   "outputs": [],
   "source": [
    "channel_one = readChannel(channelId=list(channelSite.keys())[0])"
   ]
  },
  {
   "cell_type": "code",
   "execution_count": 15,
   "metadata": {},
   "outputs": [],
   "source": [
    "channel_one = readChannel(channelId=list(channelSite.keys())[0])"
   ]
  },
  {
   "cell_type": "code",
   "execution_count": 146,
   "metadata": {},
   "outputs": [],
   "source": [
    "channel_one_new2 = preprocess(channel_one, ['hour', 'day', 'month', 'day_of_week', 'week_of_year'])"
   ]
  },
  {
   "cell_type": "code",
   "execution_count": 145,
   "metadata": {},
   "outputs": [],
   "source": [
    "def getFeatures(df: pd.core.frame.DataFrame) -> pd.core.frame.DataFrame:\n",
    "    \n",
    "    df = df.drop(labels='channel_id', axis=1).set_index(['TimeStamp']).resample('H').mean().fillna(method='ffill')\n",
    "    #df = df.drop(labels='channel_id', axis=1).groupby(pd.Grouper(key='TimeStamp', freq='1H')).mean().fillna(method='ffill')\n",
    "    df = df.assign(hour = df.index.hour,\n",
    "                   day = df.index.day,\n",
    "                   month = df.index.month,\n",
    "                   day_of_week = df.index.dayofweek,\n",
    "                   week_of_year = df.index.week)\n",
    "    \n",
    "    return df\n",
    "\n",
    "def generate_cyclical_features(df: pd.core.frame.DataFrame, col_name: list) -> pd.core.frame.DataFrame:\n",
    "    \n",
    "    \n",
    "    for time_col in col_name:\n",
    "        kwargs = {\n",
    "            f'sin_{time_col}' :lambda x: np.sin(2*np.pi*(x[time_col] - x[time_col].min()) / x[time_col].nunique()),\n",
    "            f'cos_{time_col}' :lambda x: np.cos(2*np.pi*(x[time_col] - x[time_col].min()) / x[time_col].nunique())    \n",
    "                 }\n",
    "        df_time = df.assign(**kwargs)[['sin_'+time_col, 'cos_'+time_col]]\n",
    "        \n",
    "        df = pd.concat([df, df_time], axis=1)\n",
    "    \n",
    "    return df\n",
    "\n",
    "def oneHotEncoding(df: pd.core.frame.DataFrame, col_name:list) -> pd.core.frame.DataFrame:\n",
    "    \n",
    "    return pd.get_dummies(data=df, columns=col_name, drop_first=True)\n",
    "\n",
    "def preprocess(df, col_list=['hour', 'day', 'month', 'day_of_week', 'week_of_year']):\n",
    "\n",
    "    df = getFeatures(df)\n",
    "    df = generate_cyclical_features(df, col_list)\n",
    "    df = oneHotEncoding(df, col_list)\n",
    "\n",
    "    return df"
   ]
  },
  {
   "cell_type": "code",
   "execution_count": 148,
   "metadata": {},
   "outputs": [],
   "source": [
    "target=['pm2_5', 'pm10', 's2_pm2_5', 's2_pm10']"
   ]
  },
  {
   "cell_type": "code",
   "execution_count": 20,
   "metadata": {
    "scrolled": true
   },
   "outputs": [
    {
     "data": {
      "text/html": [
       "<div>\n",
       "<style scoped>\n",
       "    .dataframe tbody tr th:only-of-type {\n",
       "        vertical-align: middle;\n",
       "    }\n",
       "\n",
       "    .dataframe tbody tr th {\n",
       "        vertical-align: top;\n",
       "    }\n",
       "\n",
       "    .dataframe thead th {\n",
       "        text-align: right;\n",
       "    }\n",
       "</style>\n",
       "<table border=\"1\" class=\"dataframe\">\n",
       "  <thead>\n",
       "    <tr style=\"text-align: right;\">\n",
       "      <th></th>\n",
       "      <th>channel_id</th>\n",
       "      <th>pm2_5</th>\n",
       "      <th>pm10</th>\n",
       "      <th>s2_pm2_5</th>\n",
       "      <th>s2_pm10</th>\n",
       "    </tr>\n",
       "    <tr>\n",
       "      <th>TimeStamp</th>\n",
       "      <th></th>\n",
       "      <th></th>\n",
       "      <th></th>\n",
       "      <th></th>\n",
       "      <th></th>\n",
       "    </tr>\n",
       "  </thead>\n",
       "  <tbody>\n",
       "    <tr>\n",
       "      <th>2019-11-27 13:00:00</th>\n",
       "      <td>912223.0</td>\n",
       "      <td>41.258947</td>\n",
       "      <td>51.221579</td>\n",
       "      <td>39.366842</td>\n",
       "      <td>48.085263</td>\n",
       "    </tr>\n",
       "    <tr>\n",
       "      <th>2019-11-27 14:00:00</th>\n",
       "      <td>912223.0</td>\n",
       "      <td>35.883077</td>\n",
       "      <td>43.583846</td>\n",
       "      <td>33.868718</td>\n",
       "      <td>39.694359</td>\n",
       "    </tr>\n",
       "    <tr>\n",
       "      <th>2019-11-27 15:00:00</th>\n",
       "      <td>912223.0</td>\n",
       "      <td>40.329231</td>\n",
       "      <td>49.360769</td>\n",
       "      <td>38.259744</td>\n",
       "      <td>46.074359</td>\n",
       "    </tr>\n",
       "    <tr>\n",
       "      <th>2019-11-27 16:00:00</th>\n",
       "      <td>912223.0</td>\n",
       "      <td>79.226667</td>\n",
       "      <td>90.660238</td>\n",
       "      <td>73.879048</td>\n",
       "      <td>84.298810</td>\n",
       "    </tr>\n",
       "    <tr>\n",
       "      <th>2019-11-27 17:00:00</th>\n",
       "      <td>912223.0</td>\n",
       "      <td>81.079250</td>\n",
       "      <td>90.701000</td>\n",
       "      <td>75.360000</td>\n",
       "      <td>84.586750</td>\n",
       "    </tr>\n",
       "    <tr>\n",
       "      <th>...</th>\n",
       "      <td>...</td>\n",
       "      <td>...</td>\n",
       "      <td>...</td>\n",
       "      <td>...</td>\n",
       "      <td>...</td>\n",
       "    </tr>\n",
       "    <tr>\n",
       "      <th>2021-11-16 02:00:00</th>\n",
       "      <td>NaN</td>\n",
       "      <td>NaN</td>\n",
       "      <td>NaN</td>\n",
       "      <td>NaN</td>\n",
       "      <td>NaN</td>\n",
       "    </tr>\n",
       "    <tr>\n",
       "      <th>2021-11-16 03:00:00</th>\n",
       "      <td>NaN</td>\n",
       "      <td>NaN</td>\n",
       "      <td>NaN</td>\n",
       "      <td>NaN</td>\n",
       "      <td>NaN</td>\n",
       "    </tr>\n",
       "    <tr>\n",
       "      <th>2021-11-16 04:00:00</th>\n",
       "      <td>NaN</td>\n",
       "      <td>NaN</td>\n",
       "      <td>NaN</td>\n",
       "      <td>NaN</td>\n",
       "      <td>NaN</td>\n",
       "    </tr>\n",
       "    <tr>\n",
       "      <th>2021-11-16 05:00:00</th>\n",
       "      <td>912223.0</td>\n",
       "      <td>45.170000</td>\n",
       "      <td>60.450000</td>\n",
       "      <td>46.580000</td>\n",
       "      <td>56.070000</td>\n",
       "    </tr>\n",
       "    <tr>\n",
       "      <th>2021-11-16 06:00:00</th>\n",
       "      <td>912223.0</td>\n",
       "      <td>44.580000</td>\n",
       "      <td>62.680000</td>\n",
       "      <td>41.230000</td>\n",
       "      <td>50.880000</td>\n",
       "    </tr>\n",
       "  </tbody>\n",
       "</table>\n",
       "<p>17274 rows × 5 columns</p>\n",
       "</div>"
      ],
      "text/plain": [
       "                     channel_id      pm2_5       pm10   s2_pm2_5    s2_pm10\n",
       "TimeStamp                                                                  \n",
       "2019-11-27 13:00:00    912223.0  41.258947  51.221579  39.366842  48.085263\n",
       "2019-11-27 14:00:00    912223.0  35.883077  43.583846  33.868718  39.694359\n",
       "2019-11-27 15:00:00    912223.0  40.329231  49.360769  38.259744  46.074359\n",
       "2019-11-27 16:00:00    912223.0  79.226667  90.660238  73.879048  84.298810\n",
       "2019-11-27 17:00:00    912223.0  81.079250  90.701000  75.360000  84.586750\n",
       "...                         ...        ...        ...        ...        ...\n",
       "2021-11-16 02:00:00         NaN        NaN        NaN        NaN        NaN\n",
       "2021-11-16 03:00:00         NaN        NaN        NaN        NaN        NaN\n",
       "2021-11-16 04:00:00         NaN        NaN        NaN        NaN        NaN\n",
       "2021-11-16 05:00:00    912223.0  45.170000  60.450000  46.580000  56.070000\n",
       "2021-11-16 06:00:00    912223.0  44.580000  62.680000  41.230000  50.880000\n",
       "\n",
       "[17274 rows x 5 columns]"
      ]
     },
     "execution_count": 20,
     "metadata": {},
     "output_type": "execute_result"
    }
   ],
   "source": [
    "channel_one_new.resample('H').mean()"
   ]
  },
  {
   "cell_type": "code",
   "execution_count": 26,
   "metadata": {
    "scrolled": true
   },
   "outputs": [
    {
     "data": {
      "text/plain": [
       "<Figure size 1008x720 with 0 Axes>"
      ]
     },
     "metadata": {},
     "output_type": "display_data"
    },
    {
     "data": {
      "image/png": "[encoded data removed]",
      "text/plain": [
       "<Figure size 1008x720 with 4 Axes>"
      ]
     },
     "metadata": {
      "needs_background": "light"
     },
     "output_type": "display_data"
    }
   ],
   "source": [
    "fig = plt.figure(figsize=(14,10))\n",
    "channel_one_new[:1000].drop('channel_id', axis=1).plot(subplots=True, layout=(2,2),\n",
    "                                                              figsize=(14,10), sharex=False, rot=45)\n",
    "plt.tight_layout(pad=5)"
   ]
  },
  {
   "cell_type": "code",
   "execution_count": 278,
   "metadata": {},
   "outputs": [],
   "source": [
    "batch_data = TimeseriesGenerator(data=channel_one_new2.to_numpy(), targets=channel_one_new2['pm2_5'].to_numpy().reshape(-1,1), length=24, sampling_rate=1, batch_size=100)"
   ]
  },
  {
   "cell_type": "code",
   "execution_count": null,
   "metadata": {},
   "outputs": [],
   "source": []
  },
  {
   "cell_type": "code",
   "execution_count": 279,
   "metadata": {},
   "outputs": [
    {
     "name": "stdout",
     "output_type": "stream",
     "text": [
      "(100, 1)\n"
     ]
    }
   ],
   "source": [
    "batch_0 = batch_data[0]\n",
    "x, y = batch_0\n",
    "print(y.shape)"
   ]
  },
  {
   "cell_type": "code",
   "execution_count": 305,
   "metadata": {},
   "outputs": [
    {
     "data": {
      "text/plain": [
       "(17274, 136)"
      ]
     },
     "execution_count": 305,
     "metadata": {},
     "output_type": "execute_result"
    }
   ],
   "source": [
    "channel_one_new2.shape"
   ]
  },
  {
   "cell_type": "code",
   "execution_count": 254,
   "metadata": {},
   "outputs": [
    {
     "data": {
      "text/plain": [
       "array([[[41.25894737, 51.22157895, 39.36684211, 48.08526316,\n",
       "         -0.25881905, -0.96592583, -0.84864426,  0.52896401,\n",
       "         -0.8660254 ,  0.5       ,  0.97492791, -0.22252093,\n",
       "         -0.65282212,  0.75751124,  0.        ,  0.        ,\n",
       "          0.        ,  0.        ,  0.        ,  0.        ,\n",
       "          0.        ,  0.        ,  0.        ,  0.        ,\n",
       "          0.        ,  0.        ,  1.        ,  0.        ,\n",
       "          0.        ,  0.        ,  0.        ,  0.        ,\n",
       "          0.        ,  0.        ,  0.        ,  0.        ,\n",
       "          0.        ,  0.        ,  0.        ,  0.        ,\n",
       "          0.        ,  0.        ,  0.        ,  0.        ,\n",
       "          0.        ,  0.        ,  0.        ,  0.        ,\n",
       "          0.        ,  0.        ,  0.        ,  0.        ,\n",
       "          0.        ,  0.        ,  0.        ,  0.        ,\n",
       "          0.        ,  0.        ,  0.        ,  0.        ,\n",
       "          0.        ,  0.        ,  1.        ,  0.        ,\n",
       "          0.        ,  0.        ,  0.        ,  0.        ,\n",
       "          0.        ,  0.        ,  0.        ,  0.        ,\n",
       "          0.        ,  0.        ,  0.        ,  0.        ,\n",
       "          1.        ,  0.        ,  0.        ,  1.        ,\n",
       "          0.        ,  0.        ,  0.        ,  0.        ,\n",
       "          0.        ,  0.        ,  0.        ,  0.        ,\n",
       "          0.        ,  0.        ,  0.        ,  0.        ,\n",
       "          0.        ,  0.        ,  0.        ,  0.        ,\n",
       "          0.        ,  0.        ,  0.        ,  0.        ,\n",
       "          0.        ,  0.        ,  0.        ,  0.        ,\n",
       "          0.        ,  0.        ,  0.        ,  0.        ,\n",
       "          0.        ,  0.        ,  0.        ,  0.        ,\n",
       "          0.        ,  0.        ,  0.        ,  0.        ,\n",
       "          0.        ,  0.        ,  0.        ,  0.        ,\n",
       "          0.        ,  0.        ,  0.        ,  0.        ,\n",
       "          0.        ,  0.        ,  0.        ,  0.        ,\n",
       "          0.        ,  0.        ,  1.        ,  0.        ,\n",
       "          0.        ,  0.        ,  0.        ,  0.        ]],\n",
       "\n",
       "       [[35.88307692, 43.58384615, 33.86871795, 39.69435897,\n",
       "         -0.5       , -0.8660254 , -0.84864426,  0.52896401,\n",
       "         -0.8660254 ,  0.5       ,  0.97492791, -0.22252093,\n",
       "         -0.65282212,  0.75751124,  0.        ,  0.        ,\n",
       "          0.        ,  0.        ,  0.        ,  0.        ,\n",
       "          0.        ,  0.        ,  0.        ,  0.        ,\n",
       "          0.        ,  0.        ,  0.        ,  1.        ,\n",
       "          0.        ,  0.        ,  0.        ,  0.        ,\n",
       "          0.        ,  0.        ,  0.        ,  0.        ,\n",
       "          0.        ,  0.        ,  0.        ,  0.        ,\n",
       "          0.        ,  0.        ,  0.        ,  0.        ,\n",
       "          0.        ,  0.        ,  0.        ,  0.        ,\n",
       "          0.        ,  0.        ,  0.        ,  0.        ,\n",
       "          0.        ,  0.        ,  0.        ,  0.        ,\n",
       "          0.        ,  0.        ,  0.        ,  0.        ,\n",
       "          0.        ,  0.        ,  1.        ,  0.        ,\n",
       "          0.        ,  0.        ,  0.        ,  0.        ,\n",
       "          0.        ,  0.        ,  0.        ,  0.        ,\n",
       "          0.        ,  0.        ,  0.        ,  0.        ,\n",
       "          1.        ,  0.        ,  0.        ,  1.        ,\n",
       "          0.        ,  0.        ,  0.        ,  0.        ,\n",
       "          0.        ,  0.        ,  0.        ,  0.        ,\n",
       "          0.        ,  0.        ,  0.        ,  0.        ,\n",
       "          0.        ,  0.        ,  0.        ,  0.        ,\n",
       "          0.        ,  0.        ,  0.        ,  0.        ,\n",
       "          0.        ,  0.        ,  0.        ,  0.        ,\n",
       "          0.        ,  0.        ,  0.        ,  0.        ,\n",
       "          0.        ,  0.        ,  0.        ,  0.        ,\n",
       "          0.        ,  0.        ,  0.        ,  0.        ,\n",
       "          0.        ,  0.        ,  0.        ,  0.        ,\n",
       "          0.        ,  0.        ,  0.        ,  0.        ,\n",
       "          0.        ,  0.        ,  0.        ,  0.        ,\n",
       "          0.        ,  0.        ,  1.        ,  0.        ,\n",
       "          0.        ,  0.        ,  0.        ,  0.        ]],\n",
       "\n",
       "       [[40.32923077, 49.36076923, 38.25974359, 46.07435897,\n",
       "         -0.70710678, -0.70710678, -0.84864426,  0.52896401,\n",
       "         -0.8660254 ,  0.5       ,  0.97492791, -0.22252093,\n",
       "         -0.65282212,  0.75751124,  0.        ,  0.        ,\n",
       "          0.        ,  0.        ,  0.        ,  0.        ,\n",
       "          0.        ,  0.        ,  0.        ,  0.        ,\n",
       "          0.        ,  0.        ,  0.        ,  0.        ,\n",
       "          1.        ,  0.        ,  0.        ,  0.        ,\n",
       "          0.        ,  0.        ,  0.        ,  0.        ,\n",
       "          0.        ,  0.        ,  0.        ,  0.        ,\n",
       "          0.        ,  0.        ,  0.        ,  0.        ,\n",
       "          0.        ,  0.        ,  0.        ,  0.        ,\n",
       "          0.        ,  0.        ,  0.        ,  0.        ,\n",
       "          0.        ,  0.        ,  0.        ,  0.        ,\n",
       "          0.        ,  0.        ,  0.        ,  0.        ,\n",
       "          0.        ,  0.        ,  1.        ,  0.        ,\n",
       "          0.        ,  0.        ,  0.        ,  0.        ,\n",
       "          0.        ,  0.        ,  0.        ,  0.        ,\n",
       "          0.        ,  0.        ,  0.        ,  0.        ,\n",
       "          1.        ,  0.        ,  0.        ,  1.        ,\n",
       "          0.        ,  0.        ,  0.        ,  0.        ,\n",
       "          0.        ,  0.        ,  0.        ,  0.        ,\n",
       "          0.        ,  0.        ,  0.        ,  0.        ,\n",
       "          0.        ,  0.        ,  0.        ,  0.        ,\n",
       "          0.        ,  0.        ,  0.        ,  0.        ,\n",
       "          0.        ,  0.        ,  0.        ,  0.        ,\n",
       "          0.        ,  0.        ,  0.        ,  0.        ,\n",
       "          0.        ,  0.        ,  0.        ,  0.        ,\n",
       "          0.        ,  0.        ,  0.        ,  0.        ,\n",
       "          0.        ,  0.        ,  0.        ,  0.        ,\n",
       "          0.        ,  0.        ,  0.        ,  0.        ,\n",
       "          0.        ,  0.        ,  0.        ,  0.        ,\n",
       "          0.        ,  0.        ,  1.        ,  0.        ,\n",
       "          0.        ,  0.        ,  0.        ,  0.        ]],\n",
       "\n",
       "       [[79.22666667, 90.6602381 , 73.87904762, 84.29880952,\n",
       "         -0.8660254 , -0.5       , -0.84864426,  0.52896401,\n",
       "         -0.8660254 ,  0.5       ,  0.97492791, -0.22252093,\n",
       "         -0.65282212,  0.75751124,  0.        ,  0.        ,\n",
       "          0.        ,  0.        ,  0.        ,  0.        ,\n",
       "          0.        ,  0.        ,  0.        ,  0.        ,\n",
       "          0.        ,  0.        ,  0.        ,  0.        ,\n",
       "          0.        ,  1.        ,  0.        ,  0.        ,\n",
       "          0.        ,  0.        ,  0.        ,  0.        ,\n",
       "          0.        ,  0.        ,  0.        ,  0.        ,\n",
       "          0.        ,  0.        ,  0.        ,  0.        ,\n",
       "          0.        ,  0.        ,  0.        ,  0.        ,\n",
       "          0.        ,  0.        ,  0.        ,  0.        ,\n",
       "          0.        ,  0.        ,  0.        ,  0.        ,\n",
       "          0.        ,  0.        ,  0.        ,  0.        ,\n",
       "          0.        ,  0.        ,  1.        ,  0.        ,\n",
       "          0.        ,  0.        ,  0.        ,  0.        ,\n",
       "          0.        ,  0.        ,  0.        ,  0.        ,\n",
       "          0.        ,  0.        ,  0.        ,  0.        ,\n",
       "          1.        ,  0.        ,  0.        ,  1.        ,\n",
       "          0.        ,  0.        ,  0.        ,  0.        ,\n",
       "          0.        ,  0.        ,  0.        ,  0.        ,\n",
       "          0.        ,  0.        ,  0.        ,  0.        ,\n",
       "          0.        ,  0.        ,  0.        ,  0.        ,\n",
       "          0.        ,  0.        ,  0.        ,  0.        ,\n",
       "          0.        ,  0.        ,  0.        ,  0.        ,\n",
       "          0.        ,  0.        ,  0.        ,  0.        ,\n",
       "          0.        ,  0.        ,  0.        ,  0.        ,\n",
       "          0.        ,  0.        ,  0.        ,  0.        ,\n",
       "          0.        ,  0.        ,  0.        ,  0.        ,\n",
       "          0.        ,  0.        ,  0.        ,  0.        ,\n",
       "          0.        ,  0.        ,  0.        ,  0.        ,\n",
       "          0.        ,  0.        ,  1.        ,  0.        ,\n",
       "          0.        ,  0.        ,  0.        ,  0.        ]],\n",
       "\n",
       "       [[81.07925   , 90.701     , 75.36      , 84.58675   ,\n",
       "         -0.96592583, -0.25881905, -0.84864426,  0.52896401,\n",
       "         -0.8660254 ,  0.5       ,  0.97492791, -0.22252093,\n",
       "         -0.65282212,  0.75751124,  0.        ,  0.        ,\n",
       "          0.        ,  0.        ,  0.        ,  0.        ,\n",
       "          0.        ,  0.        ,  0.        ,  0.        ,\n",
       "          0.        ,  0.        ,  0.        ,  0.        ,\n",
       "          0.        ,  0.        ,  1.        ,  0.        ,\n",
       "          0.        ,  0.        ,  0.        ,  0.        ,\n",
       "          0.        ,  0.        ,  0.        ,  0.        ,\n",
       "          0.        ,  0.        ,  0.        ,  0.        ,\n",
       "          0.        ,  0.        ,  0.        ,  0.        ,\n",
       "          0.        ,  0.        ,  0.        ,  0.        ,\n",
       "          0.        ,  0.        ,  0.        ,  0.        ,\n",
       "          0.        ,  0.        ,  0.        ,  0.        ,\n",
       "          0.        ,  0.        ,  1.        ,  0.        ,\n",
       "          0.        ,  0.        ,  0.        ,  0.        ,\n",
       "          0.        ,  0.        ,  0.        ,  0.        ,\n",
       "          0.        ,  0.        ,  0.        ,  0.        ,\n",
       "          1.        ,  0.        ,  0.        ,  1.        ,\n",
       "          0.        ,  0.        ,  0.        ,  0.        ,\n",
       "          0.        ,  0.        ,  0.        ,  0.        ,\n",
       "          0.        ,  0.        ,  0.        ,  0.        ,\n",
       "          0.        ,  0.        ,  0.        ,  0.        ,\n",
       "          0.        ,  0.        ,  0.        ,  0.        ,\n",
       "          0.        ,  0.        ,  0.        ,  0.        ,\n",
       "          0.        ,  0.        ,  0.        ,  0.        ,\n",
       "          0.        ,  0.        ,  0.        ,  0.        ,\n",
       "          0.        ,  0.        ,  0.        ,  0.        ,\n",
       "          0.        ,  0.        ,  0.        ,  0.        ,\n",
       "          0.        ,  0.        ,  0.        ,  0.        ,\n",
       "          0.        ,  0.        ,  0.        ,  0.        ,\n",
       "          0.        ,  0.        ,  1.        ,  0.        ,\n",
       "          0.        ,  0.        ,  0.        ,  0.        ]]])"
      ]
     },
     "execution_count": 254,
     "metadata": {},
     "output_type": "execute_result"
    }
   ],
   "source": [
    "x"
   ]
  },
  {
   "cell_type": "code",
   "execution_count": 256,
   "metadata": {},
   "outputs": [
    {
     "data": {
      "text/plain": [
       "array([ 82.61571429, 110.5208    , 116.99      , 116.99      ,\n",
       "       116.99      ])"
      ]
     },
     "execution_count": 256,
     "metadata": {},
     "output_type": "execute_result"
    }
   ],
   "source": [
    "y"
   ]
  },
  {
   "cell_type": "code",
   "execution_count": 239,
   "metadata": {},
   "outputs": [
    {
     "data": {
      "text/plain": [
       "array([35.88307692, 40.32923077, 79.22666667, 81.07925   , 82.61571429])"
      ]
     },
     "execution_count": 239,
     "metadata": {},
     "output_type": "execute_result"
    }
   ],
   "source": [
    "y"
   ]
  },
  {
   "cell_type": "code",
   "execution_count": 240,
   "metadata": {
    "scrolled": true
   },
   "outputs": [
    {
     "data": {
      "text/html": [
       "<div>\n",
       "<style scoped>\n",
       "    .dataframe tbody tr th:only-of-type {\n",
       "        vertical-align: middle;\n",
       "    }\n",
       "\n",
       "    .dataframe tbody tr th {\n",
       "        vertical-align: top;\n",
       "    }\n",
       "\n",
       "    .dataframe thead th {\n",
       "        text-align: right;\n",
       "    }\n",
       "</style>\n",
       "<table border=\"1\" class=\"dataframe\">\n",
       "  <thead>\n",
       "    <tr style=\"text-align: right;\">\n",
       "      <th></th>\n",
       "      <th>pm2_5</th>\n",
       "      <th>pm10</th>\n",
       "      <th>s2_pm2_5</th>\n",
       "      <th>s2_pm10</th>\n",
       "      <th>sin_hour</th>\n",
       "      <th>cos_hour</th>\n",
       "      <th>sin_day</th>\n",
       "      <th>cos_day</th>\n",
       "      <th>sin_month</th>\n",
       "      <th>cos_month</th>\n",
       "      <th>...</th>\n",
       "      <th>week_of_year_44</th>\n",
       "      <th>week_of_year_45</th>\n",
       "      <th>week_of_year_46</th>\n",
       "      <th>week_of_year_47</th>\n",
       "      <th>week_of_year_48</th>\n",
       "      <th>week_of_year_49</th>\n",
       "      <th>week_of_year_50</th>\n",
       "      <th>week_of_year_51</th>\n",
       "      <th>week_of_year_52</th>\n",
       "      <th>week_of_year_53</th>\n",
       "    </tr>\n",
       "    <tr>\n",
       "      <th>TimeStamp</th>\n",
       "      <th></th>\n",
       "      <th></th>\n",
       "      <th></th>\n",
       "      <th></th>\n",
       "      <th></th>\n",
       "      <th></th>\n",
       "      <th></th>\n",
       "      <th></th>\n",
       "      <th></th>\n",
       "      <th></th>\n",
       "      <th></th>\n",
       "      <th></th>\n",
       "      <th></th>\n",
       "      <th></th>\n",
       "      <th></th>\n",
       "      <th></th>\n",
       "      <th></th>\n",
       "      <th></th>\n",
       "      <th></th>\n",
       "      <th></th>\n",
       "      <th></th>\n",
       "    </tr>\n",
       "  </thead>\n",
       "  <tbody>\n",
       "    <tr>\n",
       "      <th>2019-11-27 13:00:00</th>\n",
       "      <td>41.258947</td>\n",
       "      <td>51.221579</td>\n",
       "      <td>39.366842</td>\n",
       "      <td>48.085263</td>\n",
       "      <td>-0.258819</td>\n",
       "      <td>-9.659258e-01</td>\n",
       "      <td>-0.848644</td>\n",
       "      <td>0.528964</td>\n",
       "      <td>-0.866025</td>\n",
       "      <td>0.5</td>\n",
       "      <td>...</td>\n",
       "      <td>0</td>\n",
       "      <td>0</td>\n",
       "      <td>0</td>\n",
       "      <td>0</td>\n",
       "      <td>1</td>\n",
       "      <td>0</td>\n",
       "      <td>0</td>\n",
       "      <td>0</td>\n",
       "      <td>0</td>\n",
       "      <td>0</td>\n",
       "    </tr>\n",
       "    <tr>\n",
       "      <th>2019-11-27 14:00:00</th>\n",
       "      <td>35.883077</td>\n",
       "      <td>43.583846</td>\n",
       "      <td>33.868718</td>\n",
       "      <td>39.694359</td>\n",
       "      <td>-0.500000</td>\n",
       "      <td>-8.660254e-01</td>\n",
       "      <td>-0.848644</td>\n",
       "      <td>0.528964</td>\n",
       "      <td>-0.866025</td>\n",
       "      <td>0.5</td>\n",
       "      <td>...</td>\n",
       "      <td>0</td>\n",
       "      <td>0</td>\n",
       "      <td>0</td>\n",
       "      <td>0</td>\n",
       "      <td>1</td>\n",
       "      <td>0</td>\n",
       "      <td>0</td>\n",
       "      <td>0</td>\n",
       "      <td>0</td>\n",
       "      <td>0</td>\n",
       "    </tr>\n",
       "    <tr>\n",
       "      <th>2019-11-27 15:00:00</th>\n",
       "      <td>40.329231</td>\n",
       "      <td>49.360769</td>\n",
       "      <td>38.259744</td>\n",
       "      <td>46.074359</td>\n",
       "      <td>-0.707107</td>\n",
       "      <td>-7.071068e-01</td>\n",
       "      <td>-0.848644</td>\n",
       "      <td>0.528964</td>\n",
       "      <td>-0.866025</td>\n",
       "      <td>0.5</td>\n",
       "      <td>...</td>\n",
       "      <td>0</td>\n",
       "      <td>0</td>\n",
       "      <td>0</td>\n",
       "      <td>0</td>\n",
       "      <td>1</td>\n",
       "      <td>0</td>\n",
       "      <td>0</td>\n",
       "      <td>0</td>\n",
       "      <td>0</td>\n",
       "      <td>0</td>\n",
       "    </tr>\n",
       "    <tr>\n",
       "      <th>2019-11-27 16:00:00</th>\n",
       "      <td>79.226667</td>\n",
       "      <td>90.660238</td>\n",
       "      <td>73.879048</td>\n",
       "      <td>84.298810</td>\n",
       "      <td>-0.866025</td>\n",
       "      <td>-5.000000e-01</td>\n",
       "      <td>-0.848644</td>\n",
       "      <td>0.528964</td>\n",
       "      <td>-0.866025</td>\n",
       "      <td>0.5</td>\n",
       "      <td>...</td>\n",
       "      <td>0</td>\n",
       "      <td>0</td>\n",
       "      <td>0</td>\n",
       "      <td>0</td>\n",
       "      <td>1</td>\n",
       "      <td>0</td>\n",
       "      <td>0</td>\n",
       "      <td>0</td>\n",
       "      <td>0</td>\n",
       "      <td>0</td>\n",
       "    </tr>\n",
       "    <tr>\n",
       "      <th>2019-11-27 17:00:00</th>\n",
       "      <td>81.079250</td>\n",
       "      <td>90.701000</td>\n",
       "      <td>75.360000</td>\n",
       "      <td>84.586750</td>\n",
       "      <td>-0.965926</td>\n",
       "      <td>-2.588190e-01</td>\n",
       "      <td>-0.848644</td>\n",
       "      <td>0.528964</td>\n",
       "      <td>-0.866025</td>\n",
       "      <td>0.5</td>\n",
       "      <td>...</td>\n",
       "      <td>0</td>\n",
       "      <td>0</td>\n",
       "      <td>0</td>\n",
       "      <td>0</td>\n",
       "      <td>1</td>\n",
       "      <td>0</td>\n",
       "      <td>0</td>\n",
       "      <td>0</td>\n",
       "      <td>0</td>\n",
       "      <td>0</td>\n",
       "    </tr>\n",
       "    <tr>\n",
       "      <th>2019-11-27 18:00:00</th>\n",
       "      <td>82.615714</td>\n",
       "      <td>91.975714</td>\n",
       "      <td>76.539143</td>\n",
       "      <td>85.343143</td>\n",
       "      <td>-1.000000</td>\n",
       "      <td>-1.836970e-16</td>\n",
       "      <td>-0.848644</td>\n",
       "      <td>0.528964</td>\n",
       "      <td>-0.866025</td>\n",
       "      <td>0.5</td>\n",
       "      <td>...</td>\n",
       "      <td>0</td>\n",
       "      <td>0</td>\n",
       "      <td>0</td>\n",
       "      <td>0</td>\n",
       "      <td>1</td>\n",
       "      <td>0</td>\n",
       "      <td>0</td>\n",
       "      <td>0</td>\n",
       "      <td>0</td>\n",
       "      <td>0</td>\n",
       "    </tr>\n",
       "    <tr>\n",
       "      <th>2019-11-27 19:00:00</th>\n",
       "      <td>110.520800</td>\n",
       "      <td>122.654400</td>\n",
       "      <td>102.071200</td>\n",
       "      <td>111.690000</td>\n",
       "      <td>-0.965926</td>\n",
       "      <td>2.588190e-01</td>\n",
       "      <td>-0.848644</td>\n",
       "      <td>0.528964</td>\n",
       "      <td>-0.866025</td>\n",
       "      <td>0.5</td>\n",
       "      <td>...</td>\n",
       "      <td>0</td>\n",
       "      <td>0</td>\n",
       "      <td>0</td>\n",
       "      <td>0</td>\n",
       "      <td>1</td>\n",
       "      <td>0</td>\n",
       "      <td>0</td>\n",
       "      <td>0</td>\n",
       "      <td>0</td>\n",
       "      <td>0</td>\n",
       "    </tr>\n",
       "    <tr>\n",
       "      <th>2019-11-27 20:00:00</th>\n",
       "      <td>116.990000</td>\n",
       "      <td>128.516667</td>\n",
       "      <td>106.956667</td>\n",
       "      <td>115.806667</td>\n",
       "      <td>-0.866025</td>\n",
       "      <td>5.000000e-01</td>\n",
       "      <td>-0.848644</td>\n",
       "      <td>0.528964</td>\n",
       "      <td>-0.866025</td>\n",
       "      <td>0.5</td>\n",
       "      <td>...</td>\n",
       "      <td>0</td>\n",
       "      <td>0</td>\n",
       "      <td>0</td>\n",
       "      <td>0</td>\n",
       "      <td>1</td>\n",
       "      <td>0</td>\n",
       "      <td>0</td>\n",
       "      <td>0</td>\n",
       "      <td>0</td>\n",
       "      <td>0</td>\n",
       "    </tr>\n",
       "    <tr>\n",
       "      <th>2019-11-27 21:00:00</th>\n",
       "      <td>116.990000</td>\n",
       "      <td>128.516667</td>\n",
       "      <td>106.956667</td>\n",
       "      <td>115.806667</td>\n",
       "      <td>-0.707107</td>\n",
       "      <td>7.071068e-01</td>\n",
       "      <td>-0.848644</td>\n",
       "      <td>0.528964</td>\n",
       "      <td>-0.866025</td>\n",
       "      <td>0.5</td>\n",
       "      <td>...</td>\n",
       "      <td>0</td>\n",
       "      <td>0</td>\n",
       "      <td>0</td>\n",
       "      <td>0</td>\n",
       "      <td>1</td>\n",
       "      <td>0</td>\n",
       "      <td>0</td>\n",
       "      <td>0</td>\n",
       "      <td>0</td>\n",
       "      <td>0</td>\n",
       "    </tr>\n",
       "    <tr>\n",
       "      <th>2019-11-27 22:00:00</th>\n",
       "      <td>116.990000</td>\n",
       "      <td>128.516667</td>\n",
       "      <td>106.956667</td>\n",
       "      <td>115.806667</td>\n",
       "      <td>-0.500000</td>\n",
       "      <td>8.660254e-01</td>\n",
       "      <td>-0.848644</td>\n",
       "      <td>0.528964</td>\n",
       "      <td>-0.866025</td>\n",
       "      <td>0.5</td>\n",
       "      <td>...</td>\n",
       "      <td>0</td>\n",
       "      <td>0</td>\n",
       "      <td>0</td>\n",
       "      <td>0</td>\n",
       "      <td>1</td>\n",
       "      <td>0</td>\n",
       "      <td>0</td>\n",
       "      <td>0</td>\n",
       "      <td>0</td>\n",
       "      <td>0</td>\n",
       "    </tr>\n",
       "    <tr>\n",
       "      <th>2019-11-27 23:00:00</th>\n",
       "      <td>116.990000</td>\n",
       "      <td>128.516667</td>\n",
       "      <td>106.956667</td>\n",
       "      <td>115.806667</td>\n",
       "      <td>-0.258819</td>\n",
       "      <td>9.659258e-01</td>\n",
       "      <td>-0.848644</td>\n",
       "      <td>0.528964</td>\n",
       "      <td>-0.866025</td>\n",
       "      <td>0.5</td>\n",
       "      <td>...</td>\n",
       "      <td>0</td>\n",
       "      <td>0</td>\n",
       "      <td>0</td>\n",
       "      <td>0</td>\n",
       "      <td>1</td>\n",
       "      <td>0</td>\n",
       "      <td>0</td>\n",
       "      <td>0</td>\n",
       "      <td>0</td>\n",
       "      <td>0</td>\n",
       "    </tr>\n",
       "    <tr>\n",
       "      <th>2019-11-28 00:00:00</th>\n",
       "      <td>116.990000</td>\n",
       "      <td>128.516667</td>\n",
       "      <td>106.956667</td>\n",
       "      <td>115.806667</td>\n",
       "      <td>0.000000</td>\n",
       "      <td>1.000000e+00</td>\n",
       "      <td>-0.724793</td>\n",
       "      <td>0.688967</td>\n",
       "      <td>-0.866025</td>\n",
       "      <td>0.5</td>\n",
       "      <td>...</td>\n",
       "      <td>0</td>\n",
       "      <td>0</td>\n",
       "      <td>0</td>\n",
       "      <td>0</td>\n",
       "      <td>1</td>\n",
       "      <td>0</td>\n",
       "      <td>0</td>\n",
       "      <td>0</td>\n",
       "      <td>0</td>\n",
       "      <td>0</td>\n",
       "    </tr>\n",
       "    <tr>\n",
       "      <th>2019-11-28 01:00:00</th>\n",
       "      <td>116.990000</td>\n",
       "      <td>128.516667</td>\n",
       "      <td>106.956667</td>\n",
       "      <td>115.806667</td>\n",
       "      <td>0.258819</td>\n",
       "      <td>9.659258e-01</td>\n",
       "      <td>-0.724793</td>\n",
       "      <td>0.688967</td>\n",
       "      <td>-0.866025</td>\n",
       "      <td>0.5</td>\n",
       "      <td>...</td>\n",
       "      <td>0</td>\n",
       "      <td>0</td>\n",
       "      <td>0</td>\n",
       "      <td>0</td>\n",
       "      <td>1</td>\n",
       "      <td>0</td>\n",
       "      <td>0</td>\n",
       "      <td>0</td>\n",
       "      <td>0</td>\n",
       "      <td>0</td>\n",
       "    </tr>\n",
       "    <tr>\n",
       "      <th>2019-11-28 02:00:00</th>\n",
       "      <td>116.990000</td>\n",
       "      <td>128.516667</td>\n",
       "      <td>106.956667</td>\n",
       "      <td>115.806667</td>\n",
       "      <td>0.500000</td>\n",
       "      <td>8.660254e-01</td>\n",
       "      <td>-0.724793</td>\n",
       "      <td>0.688967</td>\n",
       "      <td>-0.866025</td>\n",
       "      <td>0.5</td>\n",
       "      <td>...</td>\n",
       "      <td>0</td>\n",
       "      <td>0</td>\n",
       "      <td>0</td>\n",
       "      <td>0</td>\n",
       "      <td>1</td>\n",
       "      <td>0</td>\n",
       "      <td>0</td>\n",
       "      <td>0</td>\n",
       "      <td>0</td>\n",
       "      <td>0</td>\n",
       "    </tr>\n",
       "    <tr>\n",
       "      <th>2019-11-28 03:00:00</th>\n",
       "      <td>116.990000</td>\n",
       "      <td>128.516667</td>\n",
       "      <td>106.956667</td>\n",
       "      <td>115.806667</td>\n",
       "      <td>0.707107</td>\n",
       "      <td>7.071068e-01</td>\n",
       "      <td>-0.724793</td>\n",
       "      <td>0.688967</td>\n",
       "      <td>-0.866025</td>\n",
       "      <td>0.5</td>\n",
       "      <td>...</td>\n",
       "      <td>0</td>\n",
       "      <td>0</td>\n",
       "      <td>0</td>\n",
       "      <td>0</td>\n",
       "      <td>1</td>\n",
       "      <td>0</td>\n",
       "      <td>0</td>\n",
       "      <td>0</td>\n",
       "      <td>0</td>\n",
       "      <td>0</td>\n",
       "    </tr>\n",
       "    <tr>\n",
       "      <th>2019-11-28 04:00:00</th>\n",
       "      <td>116.990000</td>\n",
       "      <td>128.516667</td>\n",
       "      <td>106.956667</td>\n",
       "      <td>115.806667</td>\n",
       "      <td>0.866025</td>\n",
       "      <td>5.000000e-01</td>\n",
       "      <td>-0.724793</td>\n",
       "      <td>0.688967</td>\n",
       "      <td>-0.866025</td>\n",
       "      <td>0.5</td>\n",
       "      <td>...</td>\n",
       "      <td>0</td>\n",
       "      <td>0</td>\n",
       "      <td>0</td>\n",
       "      <td>0</td>\n",
       "      <td>1</td>\n",
       "      <td>0</td>\n",
       "      <td>0</td>\n",
       "      <td>0</td>\n",
       "      <td>0</td>\n",
       "      <td>0</td>\n",
       "    </tr>\n",
       "    <tr>\n",
       "      <th>2019-11-28 05:00:00</th>\n",
       "      <td>41.700000</td>\n",
       "      <td>51.425000</td>\n",
       "      <td>39.666667</td>\n",
       "      <td>47.971667</td>\n",
       "      <td>0.965926</td>\n",
       "      <td>2.588190e-01</td>\n",
       "      <td>-0.724793</td>\n",
       "      <td>0.688967</td>\n",
       "      <td>-0.866025</td>\n",
       "      <td>0.5</td>\n",
       "      <td>...</td>\n",
       "      <td>0</td>\n",
       "      <td>0</td>\n",
       "      <td>0</td>\n",
       "      <td>0</td>\n",
       "      <td>1</td>\n",
       "      <td>0</td>\n",
       "      <td>0</td>\n",
       "      <td>0</td>\n",
       "      <td>0</td>\n",
       "      <td>0</td>\n",
       "    </tr>\n",
       "    <tr>\n",
       "      <th>2019-11-28 06:00:00</th>\n",
       "      <td>42.099000</td>\n",
       "      <td>51.832500</td>\n",
       "      <td>40.199000</td>\n",
       "      <td>48.578000</td>\n",
       "      <td>1.000000</td>\n",
       "      <td>6.123234e-17</td>\n",
       "      <td>-0.724793</td>\n",
       "      <td>0.688967</td>\n",
       "      <td>-0.866025</td>\n",
       "      <td>0.5</td>\n",
       "      <td>...</td>\n",
       "      <td>0</td>\n",
       "      <td>0</td>\n",
       "      <td>0</td>\n",
       "      <td>0</td>\n",
       "      <td>1</td>\n",
       "      <td>0</td>\n",
       "      <td>0</td>\n",
       "      <td>0</td>\n",
       "      <td>0</td>\n",
       "      <td>0</td>\n",
       "    </tr>\n",
       "    <tr>\n",
       "      <th>2019-11-28 07:00:00</th>\n",
       "      <td>31.133953</td>\n",
       "      <td>35.935116</td>\n",
       "      <td>28.978605</td>\n",
       "      <td>33.045349</td>\n",
       "      <td>0.965926</td>\n",
       "      <td>-2.588190e-01</td>\n",
       "      <td>-0.724793</td>\n",
       "      <td>0.688967</td>\n",
       "      <td>-0.866025</td>\n",
       "      <td>0.5</td>\n",
       "      <td>...</td>\n",
       "      <td>0</td>\n",
       "      <td>0</td>\n",
       "      <td>0</td>\n",
       "      <td>0</td>\n",
       "      <td>1</td>\n",
       "      <td>0</td>\n",
       "      <td>0</td>\n",
       "      <td>0</td>\n",
       "      <td>0</td>\n",
       "      <td>0</td>\n",
       "    </tr>\n",
       "    <tr>\n",
       "      <th>2019-11-28 08:00:00</th>\n",
       "      <td>17.107442</td>\n",
       "      <td>18.674651</td>\n",
       "      <td>15.610000</td>\n",
       "      <td>16.774884</td>\n",
       "      <td>0.866025</td>\n",
       "      <td>-5.000000e-01</td>\n",
       "      <td>-0.724793</td>\n",
       "      <td>0.688967</td>\n",
       "      <td>-0.866025</td>\n",
       "      <td>0.5</td>\n",
       "      <td>...</td>\n",
       "      <td>0</td>\n",
       "      <td>0</td>\n",
       "      <td>0</td>\n",
       "      <td>0</td>\n",
       "      <td>1</td>\n",
       "      <td>0</td>\n",
       "      <td>0</td>\n",
       "      <td>0</td>\n",
       "      <td>0</td>\n",
       "      <td>0</td>\n",
       "    </tr>\n",
       "  </tbody>\n",
       "</table>\n",
       "<p>20 rows × 136 columns</p>\n",
       "</div>"
      ],
      "text/plain": [
       "                          pm2_5        pm10    s2_pm2_5     s2_pm10  sin_hour  \\\n",
       "TimeStamp                                                                       \n",
       "2019-11-27 13:00:00   41.258947   51.221579   39.366842   48.085263 -0.258819   \n",
       "2019-11-27 14:00:00   35.883077   43.583846   33.868718   39.694359 -0.500000   \n",
       "2019-11-27 15:00:00   40.329231   49.360769   38.259744   46.074359 -0.707107   \n",
       "2019-11-27 16:00:00   79.226667   90.660238   73.879048   84.298810 -0.866025   \n",
       "2019-11-27 17:00:00   81.079250   90.701000   75.360000   84.586750 -0.965926   \n",
       "2019-11-27 18:00:00   82.615714   91.975714   76.539143   85.343143 -1.000000   \n",
       "2019-11-27 19:00:00  110.520800  122.654400  102.071200  111.690000 -0.965926   \n",
       "2019-11-27 20:00:00  116.990000  128.516667  106.956667  115.806667 -0.866025   \n",
       "2019-11-27 21:00:00  116.990000  128.516667  106.956667  115.806667 -0.707107   \n",
       "2019-11-27 22:00:00  116.990000  128.516667  106.956667  115.806667 -0.500000   \n",
       "2019-11-27 23:00:00  116.990000  128.516667  106.956667  115.806667 -0.258819   \n",
       "2019-11-28 00:00:00  116.990000  128.516667  106.956667  115.806667  0.000000   \n",
       "2019-11-28 01:00:00  116.990000  128.516667  106.956667  115.806667  0.258819   \n",
       "2019-11-28 02:00:00  116.990000  128.516667  106.956667  115.806667  0.500000   \n",
       "2019-11-28 03:00:00  116.990000  128.516667  106.956667  115.806667  0.707107   \n",
       "2019-11-28 04:00:00  116.990000  128.516667  106.956667  115.806667  0.866025   \n",
       "2019-11-28 05:00:00   41.700000   51.425000   39.666667   47.971667  0.965926   \n",
       "2019-11-28 06:00:00   42.099000   51.832500   40.199000   48.578000  1.000000   \n",
       "2019-11-28 07:00:00   31.133953   35.935116   28.978605   33.045349  0.965926   \n",
       "2019-11-28 08:00:00   17.107442   18.674651   15.610000   16.774884  0.866025   \n",
       "\n",
       "                         cos_hour   sin_day   cos_day  sin_month  cos_month  \\\n",
       "TimeStamp                                                                     \n",
       "2019-11-27 13:00:00 -9.659258e-01 -0.848644  0.528964  -0.866025        0.5   \n",
       "2019-11-27 14:00:00 -8.660254e-01 -0.848644  0.528964  -0.866025        0.5   \n",
       "2019-11-27 15:00:00 -7.071068e-01 -0.848644  0.528964  -0.866025        0.5   \n",
       "2019-11-27 16:00:00 -5.000000e-01 -0.848644  0.528964  -0.866025        0.5   \n",
       "2019-11-27 17:00:00 -2.588190e-01 -0.848644  0.528964  -0.866025        0.5   \n",
       "2019-11-27 18:00:00 -1.836970e-16 -0.848644  0.528964  -0.866025        0.5   \n",
       "2019-11-27 19:00:00  2.588190e-01 -0.848644  0.528964  -0.866025        0.5   \n",
       "2019-11-27 20:00:00  5.000000e-01 -0.848644  0.528964  -0.866025        0.5   \n",
       "2019-11-27 21:00:00  7.071068e-01 -0.848644  0.528964  -0.866025        0.5   \n",
       "2019-11-27 22:00:00  8.660254e-01 -0.848644  0.528964  -0.866025        0.5   \n",
       "2019-11-27 23:00:00  9.659258e-01 -0.848644  0.528964  -0.866025        0.5   \n",
       "2019-11-28 00:00:00  1.000000e+00 -0.724793  0.688967  -0.866025        0.5   \n",
       "2019-11-28 01:00:00  9.659258e-01 -0.724793  0.688967  -0.866025        0.5   \n",
       "2019-11-28 02:00:00  8.660254e-01 -0.724793  0.688967  -0.866025        0.5   \n",
       "2019-11-28 03:00:00  7.071068e-01 -0.724793  0.688967  -0.866025        0.5   \n",
       "2019-11-28 04:00:00  5.000000e-01 -0.724793  0.688967  -0.866025        0.5   \n",
       "2019-11-28 05:00:00  2.588190e-01 -0.724793  0.688967  -0.866025        0.5   \n",
       "2019-11-28 06:00:00  6.123234e-17 -0.724793  0.688967  -0.866025        0.5   \n",
       "2019-11-28 07:00:00 -2.588190e-01 -0.724793  0.688967  -0.866025        0.5   \n",
       "2019-11-28 08:00:00 -5.000000e-01 -0.724793  0.688967  -0.866025        0.5   \n",
       "\n",
       "                     ...  week_of_year_44  week_of_year_45  week_of_year_46  \\\n",
       "TimeStamp            ...                                                      \n",
       "2019-11-27 13:00:00  ...                0                0                0   \n",
       "2019-11-27 14:00:00  ...                0                0                0   \n",
       "2019-11-27 15:00:00  ...                0                0                0   \n",
       "2019-11-27 16:00:00  ...                0                0                0   \n",
       "2019-11-27 17:00:00  ...                0                0                0   \n",
       "2019-11-27 18:00:00  ...                0                0                0   \n",
       "2019-11-27 19:00:00  ...                0                0                0   \n",
       "2019-11-27 20:00:00  ...                0                0                0   \n",
       "2019-11-27 21:00:00  ...                0                0                0   \n",
       "2019-11-27 22:00:00  ...                0                0                0   \n",
       "2019-11-27 23:00:00  ...                0                0                0   \n",
       "2019-11-28 00:00:00  ...                0                0                0   \n",
       "2019-11-28 01:00:00  ...                0                0                0   \n",
       "2019-11-28 02:00:00  ...                0                0                0   \n",
       "2019-11-28 03:00:00  ...                0                0                0   \n",
       "2019-11-28 04:00:00  ...                0                0                0   \n",
       "2019-11-28 05:00:00  ...                0                0                0   \n",
       "2019-11-28 06:00:00  ...                0                0                0   \n",
       "2019-11-28 07:00:00  ...                0                0                0   \n",
       "2019-11-28 08:00:00  ...                0                0                0   \n",
       "\n",
       "                     week_of_year_47  week_of_year_48  week_of_year_49  \\\n",
       "TimeStamp                                                                \n",
       "2019-11-27 13:00:00                0                1                0   \n",
       "2019-11-27 14:00:00                0                1                0   \n",
       "2019-11-27 15:00:00                0                1                0   \n",
       "2019-11-27 16:00:00                0                1                0   \n",
       "2019-11-27 17:00:00                0                1                0   \n",
       "2019-11-27 18:00:00                0                1                0   \n",
       "2019-11-27 19:00:00                0                1                0   \n",
       "2019-11-27 20:00:00                0                1                0   \n",
       "2019-11-27 21:00:00                0                1                0   \n",
       "2019-11-27 22:00:00                0                1                0   \n",
       "2019-11-27 23:00:00                0                1                0   \n",
       "2019-11-28 00:00:00                0                1                0   \n",
       "2019-11-28 01:00:00                0                1                0   \n",
       "2019-11-28 02:00:00                0                1                0   \n",
       "2019-11-28 03:00:00                0                1                0   \n",
       "2019-11-28 04:00:00                0                1                0   \n",
       "2019-11-28 05:00:00                0                1                0   \n",
       "2019-11-28 06:00:00                0                1                0   \n",
       "2019-11-28 07:00:00                0                1                0   \n",
       "2019-11-28 08:00:00                0                1                0   \n",
       "\n",
       "                     week_of_year_50  week_of_year_51  week_of_year_52  \\\n",
       "TimeStamp                                                                \n",
       "2019-11-27 13:00:00                0                0                0   \n",
       "2019-11-27 14:00:00                0                0                0   \n",
       "2019-11-27 15:00:00                0                0                0   \n",
       "2019-11-27 16:00:00                0                0                0   \n",
       "2019-11-27 17:00:00                0                0                0   \n",
       "2019-11-27 18:00:00                0                0                0   \n",
       "2019-11-27 19:00:00                0                0                0   \n",
       "2019-11-27 20:00:00                0                0                0   \n",
       "2019-11-27 21:00:00                0                0                0   \n",
       "2019-11-27 22:00:00                0                0                0   \n",
       "2019-11-27 23:00:00                0                0                0   \n",
       "2019-11-28 00:00:00                0                0                0   \n",
       "2019-11-28 01:00:00                0                0                0   \n",
       "2019-11-28 02:00:00                0                0                0   \n",
       "2019-11-28 03:00:00                0                0                0   \n",
       "2019-11-28 04:00:00                0                0                0   \n",
       "2019-11-28 05:00:00                0                0                0   \n",
       "2019-11-28 06:00:00                0                0                0   \n",
       "2019-11-28 07:00:00                0                0                0   \n",
       "2019-11-28 08:00:00                0                0                0   \n",
       "\n",
       "                     week_of_year_53  \n",
       "TimeStamp                             \n",
       "2019-11-27 13:00:00                0  \n",
       "2019-11-27 14:00:00                0  \n",
       "2019-11-27 15:00:00                0  \n",
       "2019-11-27 16:00:00                0  \n",
       "2019-11-27 17:00:00                0  \n",
       "2019-11-27 18:00:00                0  \n",
       "2019-11-27 19:00:00                0  \n",
       "2019-11-27 20:00:00                0  \n",
       "2019-11-27 21:00:00                0  \n",
       "2019-11-27 22:00:00                0  \n",
       "2019-11-27 23:00:00                0  \n",
       "2019-11-28 00:00:00                0  \n",
       "2019-11-28 01:00:00                0  \n",
       "2019-11-28 02:00:00                0  \n",
       "2019-11-28 03:00:00                0  \n",
       "2019-11-28 04:00:00                0  \n",
       "2019-11-28 05:00:00                0  \n",
       "2019-11-28 06:00:00                0  \n",
       "2019-11-28 07:00:00                0  \n",
       "2019-11-28 08:00:00                0  \n",
       "\n",
       "[20 rows x 136 columns]"
      ]
     },
     "execution_count": 240,
     "metadata": {},
     "output_type": "execute_result"
    }
   ],
   "source": [
    "channel_one_new2[:20]"
   ]
  },
  {
   "cell_type": "code",
   "execution_count": 246,
   "metadata": {},
   "outputs": [
    {
     "name": "stdout",
     "output_type": "stream",
     "text": [
      "(5,)\n"
     ]
    }
   ],
   "source": [
    "batch_1 = DDD[1]\n",
    "x1, y1 = batch_1\n",
    "print(y1.shape)"
   ]
  },
  {
   "cell_type": "code",
   "execution_count": 248,
   "metadata": {},
   "outputs": [
    {
     "data": {
      "text/plain": [
       "(5, 1, 136)"
      ]
     },
     "execution_count": 248,
     "metadata": {},
     "output_type": "execute_result"
    }
   ],
   "source": [
    "x1.shape"
   ]
  },
  {
   "cell_type": "code",
   "execution_count": 249,
   "metadata": {},
   "outputs": [
    {
     "data": {
      "text/plain": [
       "array([[[ 8.26157143e+01,  9.19757143e+01,  7.65391429e+01,\n",
       "          8.53431429e+01, -1.00000000e+00, -1.83697020e-16,\n",
       "         -8.48644257e-01,  5.28964010e-01, -8.66025404e-01,\n",
       "          5.00000000e-01,  9.74927912e-01, -2.22520934e-01,\n",
       "         -6.52822118e-01,  7.57511242e-01,  0.00000000e+00,\n",
       "          0.00000000e+00,  0.00000000e+00,  0.00000000e+00,\n",
       "          0.00000000e+00,  0.00000000e+00,  0.00000000e+00,\n",
       "          0.00000000e+00,  0.00000000e+00,  0.00000000e+00,\n",
       "          0.00000000e+00,  0.00000000e+00,  0.00000000e+00,\n",
       "          0.00000000e+00,  0.00000000e+00,  0.00000000e+00,\n",
       "          0.00000000e+00,  1.00000000e+00,  0.00000000e+00,\n",
       "          0.00000000e+00,  0.00000000e+00,  0.00000000e+00,\n",
       "          0.00000000e+00,  0.00000000e+00,  0.00000000e+00,\n",
       "          0.00000000e+00,  0.00000000e+00,  0.00000000e+00,\n",
       "          0.00000000e+00,  0.00000000e+00,  0.00000000e+00,\n",
       "          0.00000000e+00,  0.00000000e+00,  0.00000000e+00,\n",
       "          0.00000000e+00,  0.00000000e+00,  0.00000000e+00,\n",
       "          0.00000000e+00,  0.00000000e+00,  0.00000000e+00,\n",
       "          0.00000000e+00,  0.00000000e+00,  0.00000000e+00,\n",
       "          0.00000000e+00,  0.00000000e+00,  0.00000000e+00,\n",
       "          0.00000000e+00,  0.00000000e+00,  1.00000000e+00,\n",
       "          0.00000000e+00,  0.00000000e+00,  0.00000000e+00,\n",
       "          0.00000000e+00,  0.00000000e+00,  0.00000000e+00,\n",
       "          0.00000000e+00,  0.00000000e+00,  0.00000000e+00,\n",
       "          0.00000000e+00,  0.00000000e+00,  0.00000000e+00,\n",
       "          0.00000000e+00,  1.00000000e+00,  0.00000000e+00,\n",
       "          0.00000000e+00,  1.00000000e+00,  0.00000000e+00,\n",
       "          0.00000000e+00,  0.00000000e+00,  0.00000000e+00,\n",
       "          0.00000000e+00,  0.00000000e+00,  0.00000000e+00,\n",
       "          0.00000000e+00,  0.00000000e+00,  0.00000000e+00,\n",
       "          0.00000000e+00,  0.00000000e+00,  0.00000000e+00,\n",
       "          0.00000000e+00,  0.00000000e+00,  0.00000000e+00,\n",
       "          0.00000000e+00,  0.00000000e+00,  0.00000000e+00,\n",
       "          0.00000000e+00,  0.00000000e+00,  0.00000000e+00,\n",
       "          0.00000000e+00,  0.00000000e+00,  0.00000000e+00,\n",
       "          0.00000000e+00,  0.00000000e+00,  0.00000000e+00,\n",
       "          0.00000000e+00,  0.00000000e+00,  0.00000000e+00,\n",
       "          0.00000000e+00,  0.00000000e+00,  0.00000000e+00,\n",
       "          0.00000000e+00,  0.00000000e+00,  0.00000000e+00,\n",
       "          0.00000000e+00,  0.00000000e+00,  0.00000000e+00,\n",
       "          0.00000000e+00,  0.00000000e+00,  0.00000000e+00,\n",
       "          0.00000000e+00,  0.00000000e+00,  0.00000000e+00,\n",
       "          0.00000000e+00,  0.00000000e+00,  0.00000000e+00,\n",
       "          0.00000000e+00,  1.00000000e+00,  0.00000000e+00,\n",
       "          0.00000000e+00,  0.00000000e+00,  0.00000000e+00,\n",
       "          0.00000000e+00]],\n",
       "\n",
       "       [[ 1.10520800e+02,  1.22654400e+02,  1.02071200e+02,\n",
       "          1.11690000e+02, -9.65925826e-01,  2.58819045e-01,\n",
       "         -8.48644257e-01,  5.28964010e-01, -8.66025404e-01,\n",
       "          5.00000000e-01,  9.74927912e-01, -2.22520934e-01,\n",
       "         -6.52822118e-01,  7.57511242e-01,  0.00000000e+00,\n",
       "          0.00000000e+00,  0.00000000e+00,  0.00000000e+00,\n",
       "          0.00000000e+00,  0.00000000e+00,  0.00000000e+00,\n",
       "          0.00000000e+00,  0.00000000e+00,  0.00000000e+00,\n",
       "          0.00000000e+00,  0.00000000e+00,  0.00000000e+00,\n",
       "          0.00000000e+00,  0.00000000e+00,  0.00000000e+00,\n",
       "          0.00000000e+00,  0.00000000e+00,  1.00000000e+00,\n",
       "          0.00000000e+00,  0.00000000e+00,  0.00000000e+00,\n",
       "          0.00000000e+00,  0.00000000e+00,  0.00000000e+00,\n",
       "          0.00000000e+00,  0.00000000e+00,  0.00000000e+00,\n",
       "          0.00000000e+00,  0.00000000e+00,  0.00000000e+00,\n",
       "          0.00000000e+00,  0.00000000e+00,  0.00000000e+00,\n",
       "          0.00000000e+00,  0.00000000e+00,  0.00000000e+00,\n",
       "          0.00000000e+00,  0.00000000e+00,  0.00000000e+00,\n",
       "          0.00000000e+00,  0.00000000e+00,  0.00000000e+00,\n",
       "          0.00000000e+00,  0.00000000e+00,  0.00000000e+00,\n",
       "          0.00000000e+00,  0.00000000e+00,  1.00000000e+00,\n",
       "          0.00000000e+00,  0.00000000e+00,  0.00000000e+00,\n",
       "          0.00000000e+00,  0.00000000e+00,  0.00000000e+00,\n",
       "          0.00000000e+00,  0.00000000e+00,  0.00000000e+00,\n",
       "          0.00000000e+00,  0.00000000e+00,  0.00000000e+00,\n",
       "          0.00000000e+00,  1.00000000e+00,  0.00000000e+00,\n",
       "          0.00000000e+00,  1.00000000e+00,  0.00000000e+00,\n",
       "          0.00000000e+00,  0.00000000e+00,  0.00000000e+00,\n",
       "          0.00000000e+00,  0.00000000e+00,  0.00000000e+00,\n",
       "          0.00000000e+00,  0.00000000e+00,  0.00000000e+00,\n",
       "          0.00000000e+00,  0.00000000e+00,  0.00000000e+00,\n",
       "          0.00000000e+00,  0.00000000e+00,  0.00000000e+00,\n",
       "          0.00000000e+00,  0.00000000e+00,  0.00000000e+00,\n",
       "          0.00000000e+00,  0.00000000e+00,  0.00000000e+00,\n",
       "          0.00000000e+00,  0.00000000e+00,  0.00000000e+00,\n",
       "          0.00000000e+00,  0.00000000e+00,  0.00000000e+00,\n",
       "          0.00000000e+00,  0.00000000e+00,  0.00000000e+00,\n",
       "          0.00000000e+00,  0.00000000e+00,  0.00000000e+00,\n",
       "          0.00000000e+00,  0.00000000e+00,  0.00000000e+00,\n",
       "          0.00000000e+00,  0.00000000e+00,  0.00000000e+00,\n",
       "          0.00000000e+00,  0.00000000e+00,  0.00000000e+00,\n",
       "          0.00000000e+00,  0.00000000e+00,  0.00000000e+00,\n",
       "          0.00000000e+00,  0.00000000e+00,  0.00000000e+00,\n",
       "          0.00000000e+00,  1.00000000e+00,  0.00000000e+00,\n",
       "          0.00000000e+00,  0.00000000e+00,  0.00000000e+00,\n",
       "          0.00000000e+00]],\n",
       "\n",
       "       [[ 1.16990000e+02,  1.28516667e+02,  1.06956667e+02,\n",
       "          1.15806667e+02, -8.66025404e-01,  5.00000000e-01,\n",
       "         -8.48644257e-01,  5.28964010e-01, -8.66025404e-01,\n",
       "          5.00000000e-01,  9.74927912e-01, -2.22520934e-01,\n",
       "         -6.52822118e-01,  7.57511242e-01,  0.00000000e+00,\n",
       "          0.00000000e+00,  0.00000000e+00,  0.00000000e+00,\n",
       "          0.00000000e+00,  0.00000000e+00,  0.00000000e+00,\n",
       "          0.00000000e+00,  0.00000000e+00,  0.00000000e+00,\n",
       "          0.00000000e+00,  0.00000000e+00,  0.00000000e+00,\n",
       "          0.00000000e+00,  0.00000000e+00,  0.00000000e+00,\n",
       "          0.00000000e+00,  0.00000000e+00,  0.00000000e+00,\n",
       "          1.00000000e+00,  0.00000000e+00,  0.00000000e+00,\n",
       "          0.00000000e+00,  0.00000000e+00,  0.00000000e+00,\n",
       "          0.00000000e+00,  0.00000000e+00,  0.00000000e+00,\n",
       "          0.00000000e+00,  0.00000000e+00,  0.00000000e+00,\n",
       "          0.00000000e+00,  0.00000000e+00,  0.00000000e+00,\n",
       "          0.00000000e+00,  0.00000000e+00,  0.00000000e+00,\n",
       "          0.00000000e+00,  0.00000000e+00,  0.00000000e+00,\n",
       "          0.00000000e+00,  0.00000000e+00,  0.00000000e+00,\n",
       "          0.00000000e+00,  0.00000000e+00,  0.00000000e+00,\n",
       "          0.00000000e+00,  0.00000000e+00,  1.00000000e+00,\n",
       "          0.00000000e+00,  0.00000000e+00,  0.00000000e+00,\n",
       "          0.00000000e+00,  0.00000000e+00,  0.00000000e+00,\n",
       "          0.00000000e+00,  0.00000000e+00,  0.00000000e+00,\n",
       "          0.00000000e+00,  0.00000000e+00,  0.00000000e+00,\n",
       "          0.00000000e+00,  1.00000000e+00,  0.00000000e+00,\n",
       "          0.00000000e+00,  1.00000000e+00,  0.00000000e+00,\n",
       "          0.00000000e+00,  0.00000000e+00,  0.00000000e+00,\n",
       "          0.00000000e+00,  0.00000000e+00,  0.00000000e+00,\n",
       "          0.00000000e+00,  0.00000000e+00,  0.00000000e+00,\n",
       "          0.00000000e+00,  0.00000000e+00,  0.00000000e+00,\n",
       "          0.00000000e+00,  0.00000000e+00,  0.00000000e+00,\n",
       "          0.00000000e+00,  0.00000000e+00,  0.00000000e+00,\n",
       "          0.00000000e+00,  0.00000000e+00,  0.00000000e+00,\n",
       "          0.00000000e+00,  0.00000000e+00,  0.00000000e+00,\n",
       "          0.00000000e+00,  0.00000000e+00,  0.00000000e+00,\n",
       "          0.00000000e+00,  0.00000000e+00,  0.00000000e+00,\n",
       "          0.00000000e+00,  0.00000000e+00,  0.00000000e+00,\n",
       "          0.00000000e+00,  0.00000000e+00,  0.00000000e+00,\n",
       "          0.00000000e+00,  0.00000000e+00,  0.00000000e+00,\n",
       "          0.00000000e+00,  0.00000000e+00,  0.00000000e+00,\n",
       "          0.00000000e+00,  0.00000000e+00,  0.00000000e+00,\n",
       "          0.00000000e+00,  0.00000000e+00,  0.00000000e+00,\n",
       "          0.00000000e+00,  1.00000000e+00,  0.00000000e+00,\n",
       "          0.00000000e+00,  0.00000000e+00,  0.00000000e+00,\n",
       "          0.00000000e+00]],\n",
       "\n",
       "       [[ 1.16990000e+02,  1.28516667e+02,  1.06956667e+02,\n",
       "          1.15806667e+02, -7.07106781e-01,  7.07106781e-01,\n",
       "         -8.48644257e-01,  5.28964010e-01, -8.66025404e-01,\n",
       "          5.00000000e-01,  9.74927912e-01, -2.22520934e-01,\n",
       "         -6.52822118e-01,  7.57511242e-01,  0.00000000e+00,\n",
       "          0.00000000e+00,  0.00000000e+00,  0.00000000e+00,\n",
       "          0.00000000e+00,  0.00000000e+00,  0.00000000e+00,\n",
       "          0.00000000e+00,  0.00000000e+00,  0.00000000e+00,\n",
       "          0.00000000e+00,  0.00000000e+00,  0.00000000e+00,\n",
       "          0.00000000e+00,  0.00000000e+00,  0.00000000e+00,\n",
       "          0.00000000e+00,  0.00000000e+00,  0.00000000e+00,\n",
       "          0.00000000e+00,  1.00000000e+00,  0.00000000e+00,\n",
       "          0.00000000e+00,  0.00000000e+00,  0.00000000e+00,\n",
       "          0.00000000e+00,  0.00000000e+00,  0.00000000e+00,\n",
       "          0.00000000e+00,  0.00000000e+00,  0.00000000e+00,\n",
       "          0.00000000e+00,  0.00000000e+00,  0.00000000e+00,\n",
       "          0.00000000e+00,  0.00000000e+00,  0.00000000e+00,\n",
       "          0.00000000e+00,  0.00000000e+00,  0.00000000e+00,\n",
       "          0.00000000e+00,  0.00000000e+00,  0.00000000e+00,\n",
       "          0.00000000e+00,  0.00000000e+00,  0.00000000e+00,\n",
       "          0.00000000e+00,  0.00000000e+00,  1.00000000e+00,\n",
       "          0.00000000e+00,  0.00000000e+00,  0.00000000e+00,\n",
       "          0.00000000e+00,  0.00000000e+00,  0.00000000e+00,\n",
       "          0.00000000e+00,  0.00000000e+00,  0.00000000e+00,\n",
       "          0.00000000e+00,  0.00000000e+00,  0.00000000e+00,\n",
       "          0.00000000e+00,  1.00000000e+00,  0.00000000e+00,\n",
       "          0.00000000e+00,  1.00000000e+00,  0.00000000e+00,\n",
       "          0.00000000e+00,  0.00000000e+00,  0.00000000e+00,\n",
       "          0.00000000e+00,  0.00000000e+00,  0.00000000e+00,\n",
       "          0.00000000e+00,  0.00000000e+00,  0.00000000e+00,\n",
       "          0.00000000e+00,  0.00000000e+00,  0.00000000e+00,\n",
       "          0.00000000e+00,  0.00000000e+00,  0.00000000e+00,\n",
       "          0.00000000e+00,  0.00000000e+00,  0.00000000e+00,\n",
       "          0.00000000e+00,  0.00000000e+00,  0.00000000e+00,\n",
       "          0.00000000e+00,  0.00000000e+00,  0.00000000e+00,\n",
       "          0.00000000e+00,  0.00000000e+00,  0.00000000e+00,\n",
       "          0.00000000e+00,  0.00000000e+00,  0.00000000e+00,\n",
       "          0.00000000e+00,  0.00000000e+00,  0.00000000e+00,\n",
       "          0.00000000e+00,  0.00000000e+00,  0.00000000e+00,\n",
       "          0.00000000e+00,  0.00000000e+00,  0.00000000e+00,\n",
       "          0.00000000e+00,  0.00000000e+00,  0.00000000e+00,\n",
       "          0.00000000e+00,  0.00000000e+00,  0.00000000e+00,\n",
       "          0.00000000e+00,  0.00000000e+00,  0.00000000e+00,\n",
       "          0.00000000e+00,  1.00000000e+00,  0.00000000e+00,\n",
       "          0.00000000e+00,  0.00000000e+00,  0.00000000e+00,\n",
       "          0.00000000e+00]],\n",
       "\n",
       "       [[ 1.16990000e+02,  1.28516667e+02,  1.06956667e+02,\n",
       "          1.15806667e+02, -5.00000000e-01,  8.66025404e-01,\n",
       "         -8.48644257e-01,  5.28964010e-01, -8.66025404e-01,\n",
       "          5.00000000e-01,  9.74927912e-01, -2.22520934e-01,\n",
       "         -6.52822118e-01,  7.57511242e-01,  0.00000000e+00,\n",
       "          0.00000000e+00,  0.00000000e+00,  0.00000000e+00,\n",
       "          0.00000000e+00,  0.00000000e+00,  0.00000000e+00,\n",
       "          0.00000000e+00,  0.00000000e+00,  0.00000000e+00,\n",
       "          0.00000000e+00,  0.00000000e+00,  0.00000000e+00,\n",
       "          0.00000000e+00,  0.00000000e+00,  0.00000000e+00,\n",
       "          0.00000000e+00,  0.00000000e+00,  0.00000000e+00,\n",
       "          0.00000000e+00,  0.00000000e+00,  1.00000000e+00,\n",
       "          0.00000000e+00,  0.00000000e+00,  0.00000000e+00,\n",
       "          0.00000000e+00,  0.00000000e+00,  0.00000000e+00,\n",
       "          0.00000000e+00,  0.00000000e+00,  0.00000000e+00,\n",
       "          0.00000000e+00,  0.00000000e+00,  0.00000000e+00,\n",
       "          0.00000000e+00,  0.00000000e+00,  0.00000000e+00,\n",
       "          0.00000000e+00,  0.00000000e+00,  0.00000000e+00,\n",
       "          0.00000000e+00,  0.00000000e+00,  0.00000000e+00,\n",
       "          0.00000000e+00,  0.00000000e+00,  0.00000000e+00,\n",
       "          0.00000000e+00,  0.00000000e+00,  1.00000000e+00,\n",
       "          0.00000000e+00,  0.00000000e+00,  0.00000000e+00,\n",
       "          0.00000000e+00,  0.00000000e+00,  0.00000000e+00,\n",
       "          0.00000000e+00,  0.00000000e+00,  0.00000000e+00,\n",
       "          0.00000000e+00,  0.00000000e+00,  0.00000000e+00,\n",
       "          0.00000000e+00,  1.00000000e+00,  0.00000000e+00,\n",
       "          0.00000000e+00,  1.00000000e+00,  0.00000000e+00,\n",
       "          0.00000000e+00,  0.00000000e+00,  0.00000000e+00,\n",
       "          0.00000000e+00,  0.00000000e+00,  0.00000000e+00,\n",
       "          0.00000000e+00,  0.00000000e+00,  0.00000000e+00,\n",
       "          0.00000000e+00,  0.00000000e+00,  0.00000000e+00,\n",
       "          0.00000000e+00,  0.00000000e+00,  0.00000000e+00,\n",
       "          0.00000000e+00,  0.00000000e+00,  0.00000000e+00,\n",
       "          0.00000000e+00,  0.00000000e+00,  0.00000000e+00,\n",
       "          0.00000000e+00,  0.00000000e+00,  0.00000000e+00,\n",
       "          0.00000000e+00,  0.00000000e+00,  0.00000000e+00,\n",
       "          0.00000000e+00,  0.00000000e+00,  0.00000000e+00,\n",
       "          0.00000000e+00,  0.00000000e+00,  0.00000000e+00,\n",
       "          0.00000000e+00,  0.00000000e+00,  0.00000000e+00,\n",
       "          0.00000000e+00,  0.00000000e+00,  0.00000000e+00,\n",
       "          0.00000000e+00,  0.00000000e+00,  0.00000000e+00,\n",
       "          0.00000000e+00,  0.00000000e+00,  0.00000000e+00,\n",
       "          0.00000000e+00,  0.00000000e+00,  0.00000000e+00,\n",
       "          0.00000000e+00,  1.00000000e+00,  0.00000000e+00,\n",
       "          0.00000000e+00,  0.00000000e+00,  0.00000000e+00,\n",
       "          0.00000000e+00]]])"
      ]
     },
     "execution_count": 249,
     "metadata": {},
     "output_type": "execute_result"
    }
   ],
   "source": [
    "x1"
   ]
  },
  {
   "cell_type": "code",
   "execution_count": 274,
   "metadata": {},
   "outputs": [],
   "source": [
    "dataa = np.array([[i] for i in range(50)])\n",
    "targets = np.array([[i] for i in range(50)])\n",
    "data_gen = TimeseriesGenerator(dataa, targets,\n",
    "                               length=10, sampling_rate=2,\n",
    "                               batch_size=2)"
   ]
  },
  {
   "cell_type": "code",
   "execution_count": 277,
   "metadata": {},
   "outputs": [
    {
     "data": {
      "text/plain": [
       "(2, 1)"
      ]
     },
     "execution_count": 277,
     "metadata": {},
     "output_type": "execute_result"
    }
   ],
   "source": [
    "data_gen[0][1].shape"
   ]
  },
  {
   "cell_type": "code",
   "execution_count": 250,
   "metadata": {},
   "outputs": [
    {
     "data": {
      "text/plain": [
       "array([110.5208, 116.99  , 116.99  , 116.99  , 116.99  ])"
      ]
     },
     "execution_count": 250,
     "metadata": {},
     "output_type": "execute_result"
    }
   ],
   "source": [
    "y1"
   ]
  },
  {
   "cell_type": "code",
   "execution_count": 272,
   "metadata": {},
   "outputs": [],
   "source": [
    "TimeseriesGenerator?"
   ]
  },
  {
   "cell_type": "code",
   "execution_count": 312,
   "metadata": {},
   "outputs": [],
   "source": [
    "model.fit?"
   ]
  },
  {
   "cell_type": "code",
   "execution_count": 281,
   "metadata": {},
   "outputs": [
    {
     "name": "stdout",
     "output_type": "stream",
     "text": [
      "Model: \"sequential_8\"\n",
      "_________________________________________________________________\n",
      " Layer (type)                Output Shape              Param #   \n",
      "=================================================================\n",
      " dense_12 (Dense)            (None, 24, 100)           13700     \n",
      "                                                                 \n",
      " flatten_4 (Flatten)         (None, 2400)              0         \n",
      "                                                                 \n",
      " dense_13 (Dense)            (None, 1)                 2401      \n",
      "                                                                 \n",
      "=================================================================\n",
      "Total params: 16,101\n",
      "Trainable params: 16,101\n",
      "Non-trainable params: 0\n",
      "_________________________________________________________________\n",
      "None\n"
     ]
    }
   ],
   "source": [
    "model = models.Sequential([\n",
    "    layers.Dense(100, input_shape=(x.shape[1], x.shape[2]), activation='relu'),\n",
    "    layers.Flatten(),\n",
    "    layers.Dense(1)\n",
    "])\n",
    "print(model.summary())"
   ]
  },
  {
   "cell_type": "code",
   "execution_count": 282,
   "metadata": {},
   "outputs": [],
   "source": [
    "model.compile(optimizer='adam', loss='mse')"
   ]
  },
  {
   "cell_type": "code",
   "execution_count": 313,
   "metadata": {},
   "outputs": [
    {
     "name": "stdout",
     "output_type": "stream",
     "text": [
      "Epoch 1/5\n",
      "173/173 [==============================] - 2s 9ms/step - loss: 12751.5635\n",
      "Epoch 2/5\n",
      "173/173 [==============================] - 1s 7ms/step - loss: 14747.6455\n",
      "Epoch 3/5\n",
      "173/173 [==============================] - 1s 5ms/step - loss: 13268.9854\n",
      "Epoch 4/5\n",
      "173/173 [==============================] - 1s 5ms/step - loss: 16302.8906\n",
      "Epoch 5/5\n",
      "173/173 [==============================] - 1s 7ms/step - loss: 12849.8145\n"
     ]
    }
   ],
   "source": [
    "history = model.fit(batch_data, epochs=5)"
   ]
  },
  {
   "cell_type": "code",
   "execution_count": 316,
   "metadata": {},
   "outputs": [
    {
     "data": {
      "text/plain": [
       "{'loss': [12751.5634765625,\n",
       "  14747.6455078125,\n",
       "  13268.9853515625,\n",
       "  16302.890625,\n",
       "  12849.814453125]}"
      ]
     },
     "execution_count": 316,
     "metadata": {},
     "output_type": "execute_result"
    }
   ],
   "source": [
    "history.history"
   ]
  },
  {
   "cell_type": "code",
   "execution_count": 317,
   "metadata": {},
   "outputs": [],
   "source": [
    "plt.xticks?"
   ]
  },
  {
   "cell_type": "code",
   "execution_count": 295,
   "metadata": {},
   "outputs": [
    {
     "name": "stdout",
     "output_type": "stream",
     "text": [
      "173/173 [==============================] - 1s 4ms/step - loss: 12362.2959\n"
     ]
    },
    {
     "data": {
      "text/plain": [
       "12362.2958984375"
      ]
     },
     "execution_count": 295,
     "metadata": {},
     "output_type": "execute_result"
    }
   ],
   "source": [
    "model.evaluate(batch_data)"
   ]
  },
  {
   "cell_type": "code",
   "execution_count": 306,
   "metadata": {},
   "outputs": [],
   "source": [
    "model.fit?"
   ]
  },
  {
   "cell_type": "code",
   "execution_count": 297,
   "metadata": {},
   "outputs": [
    {
     "data": {
      "text/plain": [
       "[<KerasTensor: shape=(None, 1) dtype=float32 (created by layer 'dense_13')>]"
      ]
     },
     "execution_count": 297,
     "metadata": {},
     "output_type": "execute_result"
    }
   ],
   "source": [
    "model.outputs"
   ]
  },
  {
   "cell_type": "code",
   "execution_count": 293,
   "metadata": {},
   "outputs": [],
   "source": [
    "YYY = model.evaluate(batch_data, verbose=0)"
   ]
  },
  {
   "cell_type": "code",
   "execution_count": 294,
   "metadata": {},
   "outputs": [
    {
     "data": {
      "text/plain": [
       "12362.2958984375"
      ]
     },
     "execution_count": 294,
     "metadata": {},
     "output_type": "execute_result"
    }
   ],
   "source": [
    "YYY"
   ]
  },
  {
   "cell_type": "code",
   "execution_count": null,
   "metadata": {},
   "outputs": [],
   "source": []
  },
  {
   "cell_type": "code",
   "execution_count": 304,
   "metadata": {},
   "outputs": [
    {
     "data": {
      "text/plain": [
       "(24, 136)"
      ]
     },
     "execution_count": 304,
     "metadata": {},
     "output_type": "execute_result"
    }
   ],
   "source": [
    "batch_data[0][0].shape[1:]"
   ]
  },
  {
   "cell_type": "markdown",
   "metadata": {},
   "source": [
    "RNN"
   ]
  },
  {
   "cell_type": "code",
   "execution_count": null,
   "metadata": {},
   "outputs": [],
   "source": []
  },
  {
   "cell_type": "code",
   "execution_count": 289,
   "metadata": {},
   "outputs": [
    {
     "data": {
      "text/plain": [
       "(100, 24, 136)"
      ]
     },
     "execution_count": 289,
     "metadata": {},
     "output_type": "execute_result"
    }
   ],
   "source": [
    "x.shape"
   ]
  },
  {
   "cell_type": "code",
   "execution_count": 284,
   "metadata": {
    "scrolled": true
   },
   "outputs": [
    {
     "name": "stdout",
     "output_type": "stream",
     "text": [
      "Model: \"sequential_9\"\n",
      "_________________________________________________________________\n",
      " Layer (type)                Output Shape              Param #   \n",
      "=================================================================\n",
      " simple_rnn_2 (SimpleRNN)    (None, 100)               23700     \n",
      "                                                                 \n",
      " dense_14 (Dense)            (None, 1)                 101       \n",
      "                                                                 \n",
      "=================================================================\n",
      "Total params: 23,801\n",
      "Trainable params: 23,801\n",
      "Non-trainable params: 0\n",
      "_________________________________________________________________\n",
      "None\n"
     ]
    }
   ],
   "source": [
    "rnn_model = models.Sequential([\n",
    "    layers.SimpleRNN(100, input_shape=(x.shape[1], x.shape[2]), dropout=0.5, recurrent_dropout=0.5),\n",
    "    layers.Dense(1)\n",
    "])\n",
    "print(rnn_model.summary())"
   ]
  },
  {
   "cell_type": "code",
   "execution_count": 286,
   "metadata": {
    "scrolled": true
   },
   "outputs": [
    {
     "name": "stdout",
     "output_type": "stream",
     "text": [
      "Epoch 1/5\n",
      "173/173 [==============================] - 4s 15ms/step - loss: 31362.1406\n",
      "Epoch 2/5\n",
      "173/173 [==============================] - 3s 16ms/step - loss: 30064.0371\n",
      "Epoch 3/5\n",
      "173/173 [==============================] - 3s 16ms/step - loss: 29527.4062\n",
      "Epoch 4/5\n",
      "173/173 [==============================] - 3s 16ms/step - loss: 29221.7930\n",
      "Epoch 5/5\n",
      "173/173 [==============================] - 3s 18ms/step - loss: 29038.9473\n"
     ]
    },
    {
     "data": {
      "text/plain": [
       "<keras.callbacks.History at 0x7f65610109d0>"
      ]
     },
     "execution_count": 286,
     "metadata": {},
     "output_type": "execute_result"
    }
   ],
   "source": [
    "rnn_model.compile(optimizer='adam', loss='mse')\n",
    "rnn_model.fit(batch_data, epochs=5)"
   ]
  },
  {
   "cell_type": "markdown",
   "metadata": {},
   "source": [
    "LSTM"
   ]
  },
  {
   "cell_type": "code",
   "execution_count": 287,
   "metadata": {},
   "outputs": [
    {
     "name": "stdout",
     "output_type": "stream",
     "text": [
      "Model: \"sequential_10\"\n",
      "_________________________________________________________________\n",
      " Layer (type)                Output Shape              Param #   \n",
      "=================================================================\n",
      " bidirectional_4 (Bidirectio  (None, 24, 200)          189600    \n",
      " nal)                                                            \n",
      "                                                                 \n",
      " bidirectional_5 (Bidirectio  (None, 200)              240800    \n",
      " nal)                                                            \n",
      "                                                                 \n",
      " dense_15 (Dense)            (None, 1)                 201       \n",
      "                                                                 \n",
      "=================================================================\n",
      "Total params: 430,601\n",
      "Trainable params: 430,601\n",
      "Non-trainable params: 0\n",
      "_________________________________________________________________\n",
      "None\n"
     ]
    }
   ],
   "source": [
    "lstm_model = models.Sequential([\n",
    "    layers.Bidirectional(layers.LSTM(100, return_sequences=True, recurrent_dropout=0.5), input_shape=(x.shape[1], x.shape[2])),\n",
    "    layers.Bidirectional(layers.LSTM(100, recurrent_dropout=0.5)),\n",
    "    layers.Dense(1)\n",
    "])\n",
    "print(lstm_model.summary())"
   ]
  },
  {
   "cell_type": "code",
   "execution_count": 288,
   "metadata": {},
   "outputs": [
    {
     "name": "stdout",
     "output_type": "stream",
     "text": [
      "Epoch 1/5\n",
      "173/173 [==============================] - 38s 131ms/step - loss: 29832.6445\n",
      "Epoch 2/5\n",
      "173/173 [==============================] - 24s 139ms/step - loss: 29054.2832\n",
      "Epoch 3/5\n",
      "173/173 [==============================] - 23s 130ms/step - loss: 28570.3887\n",
      "Epoch 4/5\n",
      "173/173 [==============================] - 26s 152ms/step - loss: 28266.8301\n",
      "Epoch 5/5\n",
      "173/173 [==============================] - 23s 132ms/step - loss: 28039.3555\n"
     ]
    },
    {
     "data": {
      "text/plain": [
       "<keras.callbacks.History at 0x7f655fc90c10>"
      ]
     },
     "execution_count": 288,
     "metadata": {},
     "output_type": "execute_result"
    }
   ],
   "source": [
    "lstm_model.compile(optimizer='adam', loss='mse')\n",
    "lstm_model.fit(batch_data, epochs=5)"
   ]
  },
  {
   "cell_type": "code",
   "execution_count": null,
   "metadata": {},
   "outputs": [],
   "source": []
  },
  {
   "cell_type": "code",
   "execution_count": null,
   "metadata": {},
   "outputs": [],
   "source": []
  },
  {
   "cell_type": "code",
   "execution_count": 330,
   "metadata": {},
   "outputs": [
    {
     "data": {
      "text/html": [
       "<div>\n",
       "<style scoped>\n",
       "    .dataframe tbody tr th:only-of-type {\n",
       "        vertical-align: middle;\n",
       "    }\n",
       "\n",
       "    .dataframe tbody tr th {\n",
       "        vertical-align: top;\n",
       "    }\n",
       "\n",
       "    .dataframe thead th {\n",
       "        text-align: right;\n",
       "    }\n",
       "</style>\n",
       "<table border=\"1\" class=\"dataframe\">\n",
       "  <thead>\n",
       "    <tr style=\"text-align: right;\">\n",
       "      <th></th>\n",
       "      <th>channel_id</th>\n",
       "      <th>pm2_5</th>\n",
       "      <th>pm10</th>\n",
       "      <th>s2_pm2_5</th>\n",
       "      <th>s2_pm10</th>\n",
       "    </tr>\n",
       "    <tr>\n",
       "      <th>TimeStamp</th>\n",
       "      <th></th>\n",
       "      <th></th>\n",
       "      <th></th>\n",
       "      <th></th>\n",
       "      <th></th>\n",
       "    </tr>\n",
       "  </thead>\n",
       "  <tbody>\n",
       "    <tr>\n",
       "      <th>2019-11-27 13:00:00</th>\n",
       "      <td>912223.0</td>\n",
       "      <td>41.258947</td>\n",
       "      <td>51.221579</td>\n",
       "      <td>39.366842</td>\n",
       "      <td>48.085263</td>\n",
       "    </tr>\n",
       "    <tr>\n",
       "      <th>2019-11-27 14:00:00</th>\n",
       "      <td>912223.0</td>\n",
       "      <td>35.883077</td>\n",
       "      <td>43.583846</td>\n",
       "      <td>33.868718</td>\n",
       "      <td>39.694359</td>\n",
       "    </tr>\n",
       "    <tr>\n",
       "      <th>2019-11-27 15:00:00</th>\n",
       "      <td>912223.0</td>\n",
       "      <td>40.329231</td>\n",
       "      <td>49.360769</td>\n",
       "      <td>38.259744</td>\n",
       "      <td>46.074359</td>\n",
       "    </tr>\n",
       "    <tr>\n",
       "      <th>2019-11-27 16:00:00</th>\n",
       "      <td>912223.0</td>\n",
       "      <td>79.226667</td>\n",
       "      <td>90.660238</td>\n",
       "      <td>73.879048</td>\n",
       "      <td>84.298810</td>\n",
       "    </tr>\n",
       "    <tr>\n",
       "      <th>2019-11-27 17:00:00</th>\n",
       "      <td>912223.0</td>\n",
       "      <td>81.079250</td>\n",
       "      <td>90.701000</td>\n",
       "      <td>75.360000</td>\n",
       "      <td>84.586750</td>\n",
       "    </tr>\n",
       "    <tr>\n",
       "      <th>...</th>\n",
       "      <td>...</td>\n",
       "      <td>...</td>\n",
       "      <td>...</td>\n",
       "      <td>...</td>\n",
       "      <td>...</td>\n",
       "    </tr>\n",
       "    <tr>\n",
       "      <th>2021-11-16 02:00:00</th>\n",
       "      <td>NaN</td>\n",
       "      <td>NaN</td>\n",
       "      <td>NaN</td>\n",
       "      <td>NaN</td>\n",
       "      <td>NaN</td>\n",
       "    </tr>\n",
       "    <tr>\n",
       "      <th>2021-11-16 03:00:00</th>\n",
       "      <td>NaN</td>\n",
       "      <td>NaN</td>\n",
       "      <td>NaN</td>\n",
       "      <td>NaN</td>\n",
       "      <td>NaN</td>\n",
       "    </tr>\n",
       "    <tr>\n",
       "      <th>2021-11-16 04:00:00</th>\n",
       "      <td>NaN</td>\n",
       "      <td>NaN</td>\n",
       "      <td>NaN</td>\n",
       "      <td>NaN</td>\n",
       "      <td>NaN</td>\n",
       "    </tr>\n",
       "    <tr>\n",
       "      <th>2021-11-16 05:00:00</th>\n",
       "      <td>912223.0</td>\n",
       "      <td>45.170000</td>\n",
       "      <td>60.450000</td>\n",
       "      <td>46.580000</td>\n",
       "      <td>56.070000</td>\n",
       "    </tr>\n",
       "    <tr>\n",
       "      <th>2021-11-16 06:00:00</th>\n",
       "      <td>912223.0</td>\n",
       "      <td>44.580000</td>\n",
       "      <td>62.680000</td>\n",
       "      <td>41.230000</td>\n",
       "      <td>50.880000</td>\n",
       "    </tr>\n",
       "  </tbody>\n",
       "</table>\n",
       "<p>17274 rows × 5 columns</p>\n",
       "</div>"
      ],
      "text/plain": [
       "                     channel_id      pm2_5       pm10   s2_pm2_5    s2_pm10\n",
       "TimeStamp                                                                  \n",
       "2019-11-27 13:00:00    912223.0  41.258947  51.221579  39.366842  48.085263\n",
       "2019-11-27 14:00:00    912223.0  35.883077  43.583846  33.868718  39.694359\n",
       "2019-11-27 15:00:00    912223.0  40.329231  49.360769  38.259744  46.074359\n",
       "2019-11-27 16:00:00    912223.0  79.226667  90.660238  73.879048  84.298810\n",
       "2019-11-27 17:00:00    912223.0  81.079250  90.701000  75.360000  84.586750\n",
       "...                         ...        ...        ...        ...        ...\n",
       "2021-11-16 02:00:00         NaN        NaN        NaN        NaN        NaN\n",
       "2021-11-16 03:00:00         NaN        NaN        NaN        NaN        NaN\n",
       "2021-11-16 04:00:00         NaN        NaN        NaN        NaN        NaN\n",
       "2021-11-16 05:00:00    912223.0  45.170000  60.450000  46.580000  56.070000\n",
       "2021-11-16 06:00:00    912223.0  44.580000  62.680000  41.230000  50.880000\n",
       "\n",
       "[17274 rows x 5 columns]"
      ]
     },
     "execution_count": 330,
     "metadata": {},
     "output_type": "execute_result"
    }
   ],
   "source": [
    "channel_one.groupby(pd.Grouper(key='TimeStamp', freq='1H')).mean()"
   ]
  },
  {
   "cell_type": "code",
   "execution_count": 368,
   "metadata": {},
   "outputs": [],
   "source": [
    "from sklearn.model_selection import train_test_split\n",
    "from sklearn.preprocessing import StandardScaler, MinMaxScaler, PowerTransformer, RobustScaler, QuantileTransformer\n",
    "from sklearn.linear_model import LinearRegression, Ridge\n",
    "from sklearn.multioutput import MultiOutputRegressor"
   ]
  },
  {
   "cell_type": "code",
   "execution_count": null,
   "metadata": {},
   "outputs": [],
   "source": []
  },
  {
   "cell_type": "code",
   "execution_count": 408,
   "metadata": {},
   "outputs": [],
   "source": [
    "def getFeatures(df: pd.core.frame.DataFrame) -> pd.core.frame.DataFrame:\n",
    "    df = df.drop(labels='channel_id', axis=1).groupby(pd.Grouper(key='TimeStamp', freq='1H')).mean().fillna(method='ffill')\n",
    "    df = df.assign(hour = KK.index.hour,\n",
    "                   day = KK.index.day,\n",
    "                   month = KK.index.month,\n",
    "                   day_of_week = KK.index.dayofweek,\n",
    "                   week_of_year = KK.index.week)\n",
    "    \n",
    "    return df\n",
    "\n",
    "def generate_cyclical_features(df: pd.core.frame.DataFrame, col_name: list) -> pd.core.frame.DataFrame:\n",
    "    \n",
    "    \n",
    "    for time_col in col_name:\n",
    "        kwargs = {\n",
    "            f'sin_{time_col}' :lambda x: np.sin(2*np.pi*(x[time_col] - x[time_col].min()) / x[time_col].nunique()),\n",
    "            f'cos_{time_col}' :lambda x: np.cos(2*np.pi*(x[time_col] - x[time_col].min()) / x[time_col].nunique())    \n",
    "                 }\n",
    "        df_time = df.assign(**kwargs)[['sin_'+time_col, 'cos_'+time_col]]\n",
    "        \n",
    "        df = pd.concat([df, df_time], axis=1)\n",
    "    \n",
    "    return df\n",
    "\n",
    "def oneHotEncoding(df: pd.core.frame.DataFrame, col_name:list) -> pd.core.frame.DataFrame:\n",
    "    \n",
    "    return pd.get_dummies(data=df, columns=col_name, drop_first=True)\n",
    "    \n",
    "    \n",
    "def featureLabelSplit(df, target:list):\n",
    "    Y = df[target].to_numpy()\n",
    "    X = df.drop(columns=target).to_numpy()\n",
    "    return (X,Y)\n",
    "    \n",
    "def train_test_spliting(X , Y, test_ratio:float):\n",
    "    X_train, X_val, Y_train, Y_val = train_test_split(X, Y, test_size=test_ratio, shuffle=False)\n",
    "    return X_train, Y_train, X_val, Y_val"
   ]
  },
  {
   "cell_type": "code",
   "execution_count": 446,
   "metadata": {},
   "outputs": [],
   "source": [
    "def scaler_transform(X, Y, scaler=\"standard\"):\n",
    "    scalers = {\n",
    "        \"minmax\": MinMaxScaler,\n",
    "        \"standard\": StandardScaler,\n",
    "        \"power\": PowerTransformer,\n",
    "        \"robust\": RobustScaler,\n",
    "        \"quantile\": QuantileTransformer\n",
    "    }\n",
    "    \n",
    "    scaler = scalers[scaler]()\n",
    "    X = scaler.fit_transform(X)\n",
    "    Y = scaler.fit_transform(Y)\n",
    "    \n",
    "    return scaler, X, Y"
   ]
  },
  {
   "cell_type": "code",
   "execution_count": 331,
   "metadata": {
    "scrolled": true
   },
   "outputs": [],
   "source": [
    "AA = getFeatures(channel_one)"
   ]
  },
  {
   "cell_type": "code",
   "execution_count": 334,
   "metadata": {},
   "outputs": [],
   "source": [
    "BB = generate_cyclical_features(AA, ['hour', 'day', 'month',\n",
    "       'day_of_week', 'week_of_year'])"
   ]
  },
  {
   "cell_type": "code",
   "execution_count": 348,
   "metadata": {},
   "outputs": [],
   "source": [
    "CC = oneHotEncoding(BB, col_name=['hour', 'day', 'month','day_of_week', 'week_of_year'])"
   ]
  },
  {
   "cell_type": "code",
   "execution_count": 361,
   "metadata": {},
   "outputs": [],
   "source": [
    "DD = featureLabelSplit(CC, target=['pm2_5', 'pm10', 's2_pm2_5', 's2_pm10'])"
   ]
  },
  {
   "cell_type": "code",
   "execution_count": 362,
   "metadata": {},
   "outputs": [],
   "source": [
    "P, Q = DD"
   ]
  },
  {
   "cell_type": "code",
   "execution_count": 409,
   "metadata": {},
   "outputs": [],
   "source": [
    "P_train, Q_train, P_val, Q_val = train_test_spliting(P, Q, test_ratio=0.3)"
   ]
  },
  {
   "cell_type": "code",
   "execution_count": 456,
   "metadata": {},
   "outputs": [],
   "source": [
    "scaler = RobustScaler()\n",
    "P_train_scale = scaler.fit_transform(P_train)\n",
    "P_val_scale = scaler.transform(P_val)\n",
    "\n",
    "Q_train_scale = scaler.fit_transform(Q_train)\n",
    "Q_val_scale = scaler.transform(Q_val)"
   ]
  },
  {
   "cell_type": "code",
   "execution_count": 457,
   "metadata": {},
   "outputs": [],
   "source": [
    "clf = MultiOutputRegressor(estimator=Ridge()).fit(P_train_scale, Q_train_scale)"
   ]
  },
  {
   "cell_type": "code",
   "execution_count": 458,
   "metadata": {},
   "outputs": [],
   "source": [
    "Y_pred = clf.predict(P_val_scale)"
   ]
  },
  {
   "cell_type": "code",
   "execution_count": 459,
   "metadata": {
    "scrolled": true
   },
   "outputs": [
    {
     "data": {
      "text/plain": [
       "array([[-1.13109931e+00, -1.14459786e+00, -1.09916293e+00,\n",
       "        -1.14221452e+00],\n",
       "       [-1.22479924e+00, -1.23414573e+00, -1.20370056e+00,\n",
       "        -1.24125185e+00],\n",
       "       [-1.26355555e+00, -1.27095796e+00, -1.23730050e+00,\n",
       "        -1.27265021e+00],\n",
       "       ...,\n",
       "       [-9.92626977e-02, -1.23147425e-01,  1.42712284e-01,\n",
       "         9.52877928e-02],\n",
       "       [ 6.32849306e-01,  4.93898803e-01,  4.87581634e-02,\n",
       "        -1.03394804e-04],\n",
       "       [-7.52379299e-02, -1.51281185e-01, -3.00242849e-01,\n",
       "        -3.36449483e-01]])"
      ]
     },
     "execution_count": 459,
     "metadata": {},
     "output_type": "execute_result"
    }
   ],
   "source": [
    "Y_pred"
   ]
  },
  {
   "cell_type": "code",
   "execution_count": 461,
   "metadata": {},
   "outputs": [
    {
     "data": {
      "text/plain": [
       "array([[-2.99202452, -0.92966754,  3.56811309,  5.04850126],\n",
       "       [-6.91736827, -5.28626198, -0.37708712,  0.65953674],\n",
       "       [-8.54097516, -7.07721457, -1.64513304, -0.73192136],\n",
       "       ...,\n",
       "       [40.23440732, 48.76492963, 50.43589382, 59.88997832],\n",
       "       [70.90456297, 78.78485303, 46.89010992, 55.66259742],\n",
       "       [41.24086994, 47.39619374, 33.71897752, 40.75699592]])"
      ]
     },
     "execution_count": 461,
     "metadata": {},
     "output_type": "execute_result"
    }
   ],
   "source": [
    "scaler.inverse_transform(Y_pred)"
   ]
  },
  {
   "cell_type": "code",
   "execution_count": 462,
   "metadata": {},
   "outputs": [
    {
     "data": {
      "text/plain": [
       "array([[10.7774359 , 11.75384615, 11.84435897, 13.20615385],\n",
       "       [ 7.7197619 ,  8.49119048,  8.7297619 ,  9.60833333],\n",
       "       [ 6.55266667,  7.19466667,  7.44688889,  8.08066667],\n",
       "       ...,\n",
       "       [55.364     , 75.686     , 53.398     , 65.636     ],\n",
       "       [45.17      , 60.45      , 46.58      , 56.07      ],\n",
       "       [44.58      , 62.68      , 41.23      , 50.88      ]])"
      ]
     },
     "execution_count": 462,
     "metadata": {},
     "output_type": "execute_result"
    }
   ],
   "source": [
    "Q_val"
   ]
  },
  {
   "cell_type": "code",
   "execution_count": 463,
   "metadata": {},
   "outputs": [
    {
     "data": {
      "text/plain": [
       "array([[-0.80241538, -0.88389385, -0.87986378, -0.95813643],\n",
       "       [-0.8754036 , -0.95095629, -0.96239256, -1.03932154],\n",
       "       [-0.90326275, -0.97760577, -0.99638539, -1.07379346],\n",
       "       ...,\n",
       "       [ 0.26188827,  0.43020325,  0.22120045,  0.22494723],\n",
       "       [ 0.01855238,  0.11703402,  0.04054105,  0.00908968],\n",
       "       [ 0.00446878,  0.16287068, -0.10122014, -0.10802309]])"
      ]
     },
     "execution_count": 463,
     "metadata": {},
     "output_type": "execute_result"
    }
   ],
   "source": [
    "Q_val_scale"
   ]
  },
  {
   "cell_type": "code",
   "execution_count": 464,
   "metadata": {},
   "outputs": [
    {
     "data": {
      "text/plain": [
       "array([[-1.13109931e+00, -1.14459786e+00, -1.09916293e+00,\n",
       "        -1.14221452e+00],\n",
       "       [-1.22479924e+00, -1.23414573e+00, -1.20370056e+00,\n",
       "        -1.24125185e+00],\n",
       "       [-1.26355555e+00, -1.27095796e+00, -1.23730050e+00,\n",
       "        -1.27265021e+00],\n",
       "       ...,\n",
       "       [-9.92626977e-02, -1.23147425e-01,  1.42712284e-01,\n",
       "         9.52877928e-02],\n",
       "       [ 6.32849306e-01,  4.93898803e-01,  4.87581634e-02,\n",
       "        -1.03394804e-04],\n",
       "       [-7.52379299e-02, -1.51281185e-01, -3.00242849e-01,\n",
       "        -3.36449483e-01]])"
      ]
     },
     "execution_count": 464,
     "metadata": {},
     "output_type": "execute_result"
    }
   ],
   "source": [
    "Y_pred"
   ]
  },
  {
   "cell_type": "code",
   "execution_count": 455,
   "metadata": {},
   "outputs": [
    {
     "data": {
      "text/plain": [
       "array([[0.01191101, 0.01478711, 0.0650449 , 0.07795967],\n",
       "       [0.01035905, 0.01258218, 0.0558709 , 0.06416411],\n",
       "       [0.01164261, 0.01424991, 0.06319763, 0.07465352],\n",
       "       ...,\n",
       "       [0.02262745, 0.02567023, 0.12775503, 0.14026273],\n",
       "       [0.00741109, 0.00825295, 0.04332026, 0.04878706],\n",
       "       [0.00354595, 0.00382041, 0.02138817, 0.0221616 ]])"
      ]
     },
     "execution_count": 455,
     "metadata": {},
     "output_type": "execute_result"
    }
   ],
   "source": [
    "Q_train_scale"
   ]
  },
  {
   "cell_type": "code",
   "execution_count": 440,
   "metadata": {},
   "outputs": [
    {
     "data": {
      "text/plain": [
       "array([[0.00308034, 0.00335941, 0.04204783, 0.04108246],\n",
       "       [0.00220641, 0.0024269 , 0.02852002, 0.02712673],\n",
       "       [0.00187284, 0.00205633, 0.02294805, 0.021201  ],\n",
       "       ...,\n",
       "       [0.01582378, 0.02163208, 0.22253018, 0.24445473],\n",
       "       [0.01291019, 0.01727742, 0.19291717, 0.20734878],\n",
       "       [0.01274156, 0.01791479, 0.1696802 , 0.18721708]])"
      ]
     },
     "execution_count": 440,
     "metadata": {},
     "output_type": "execute_result"
    }
   ],
   "source": [
    "Q_val_scale"
   ]
  },
  {
   "cell_type": "code",
   "execution_count": 223,
   "metadata": {},
   "outputs": [],
   "source": [
    "def generate_time_lags(df, n_lags):\n",
    "    df_n = df.copy()\n",
    "    for n in range(1, n_lags + 1):\n",
    "        df_n[f\"lag{n}\"] = df_n[\"pm2_5\"].shift(n)\n",
    "    df_n = df_n.iloc[n_lags:]\n",
    "    return df_n"
   ]
  },
  {
   "cell_type": "code",
   "execution_count": 224,
   "metadata": {},
   "outputs": [
    {
     "data": {
      "text/html": [
       "<div>\n",
       "<style scoped>\n",
       "    .dataframe tbody tr th:only-of-type {\n",
       "        vertical-align: middle;\n",
       "    }\n",
       "\n",
       "    .dataframe tbody tr th {\n",
       "        vertical-align: top;\n",
       "    }\n",
       "\n",
       "    .dataframe thead th {\n",
       "        text-align: right;\n",
       "    }\n",
       "</style>\n",
       "<table border=\"1\" class=\"dataframe\">\n",
       "  <thead>\n",
       "    <tr style=\"text-align: right;\">\n",
       "      <th></th>\n",
       "      <th>pm2_5</th>\n",
       "      <th>pm10</th>\n",
       "      <th>s2_pm2_5</th>\n",
       "      <th>s2_pm10</th>\n",
       "      <th>lag1</th>\n",
       "      <th>lag2</th>\n",
       "      <th>lag3</th>\n",
       "      <th>lag4</th>\n",
       "      <th>lag5</th>\n",
       "      <th>lag6</th>\n",
       "      <th>...</th>\n",
       "      <th>lag15</th>\n",
       "      <th>lag16</th>\n",
       "      <th>lag17</th>\n",
       "      <th>lag18</th>\n",
       "      <th>lag19</th>\n",
       "      <th>lag20</th>\n",
       "      <th>lag21</th>\n",
       "      <th>lag22</th>\n",
       "      <th>lag23</th>\n",
       "      <th>lag24</th>\n",
       "    </tr>\n",
       "    <tr>\n",
       "      <th>TimeStamp</th>\n",
       "      <th></th>\n",
       "      <th></th>\n",
       "      <th></th>\n",
       "      <th></th>\n",
       "      <th></th>\n",
       "      <th></th>\n",
       "      <th></th>\n",
       "      <th></th>\n",
       "      <th></th>\n",
       "      <th></th>\n",
       "      <th></th>\n",
       "      <th></th>\n",
       "      <th></th>\n",
       "      <th></th>\n",
       "      <th></th>\n",
       "      <th></th>\n",
       "      <th></th>\n",
       "      <th></th>\n",
       "      <th></th>\n",
       "      <th></th>\n",
       "      <th></th>\n",
       "    </tr>\n",
       "  </thead>\n",
       "  <tbody>\n",
       "    <tr>\n",
       "      <th>2019-11-28 13:00:00</th>\n",
       "      <td>30.688611</td>\n",
       "      <td>34.675833</td>\n",
       "      <td>28.362222</td>\n",
       "      <td>31.460556</td>\n",
       "      <td>30.525405</td>\n",
       "      <td>25.983953</td>\n",
       "      <td>31.153611</td>\n",
       "      <td>14.856818</td>\n",
       "      <td>17.107442</td>\n",
       "      <td>31.133953</td>\n",
       "      <td>...</td>\n",
       "      <td>0.000000</td>\n",
       "      <td>0.000000</td>\n",
       "      <td>116.990000</td>\n",
       "      <td>110.520800</td>\n",
       "      <td>82.615714</td>\n",
       "      <td>81.079250</td>\n",
       "      <td>79.226667</td>\n",
       "      <td>40.329231</td>\n",
       "      <td>35.883077</td>\n",
       "      <td>41.258947</td>\n",
       "    </tr>\n",
       "    <tr>\n",
       "      <th>2019-11-28 14:00:00</th>\n",
       "      <td>22.213421</td>\n",
       "      <td>24.083947</td>\n",
       "      <td>20.923158</td>\n",
       "      <td>22.537632</td>\n",
       "      <td>30.688611</td>\n",
       "      <td>30.525405</td>\n",
       "      <td>25.983953</td>\n",
       "      <td>31.153611</td>\n",
       "      <td>14.856818</td>\n",
       "      <td>17.107442</td>\n",
       "      <td>...</td>\n",
       "      <td>0.000000</td>\n",
       "      <td>0.000000</td>\n",
       "      <td>0.000000</td>\n",
       "      <td>116.990000</td>\n",
       "      <td>110.520800</td>\n",
       "      <td>82.615714</td>\n",
       "      <td>81.079250</td>\n",
       "      <td>79.226667</td>\n",
       "      <td>40.329231</td>\n",
       "      <td>35.883077</td>\n",
       "    </tr>\n",
       "    <tr>\n",
       "      <th>2019-11-28 15:00:00</th>\n",
       "      <td>23.437436</td>\n",
       "      <td>26.122564</td>\n",
       "      <td>21.779487</td>\n",
       "      <td>23.848974</td>\n",
       "      <td>22.213421</td>\n",
       "      <td>30.688611</td>\n",
       "      <td>30.525405</td>\n",
       "      <td>25.983953</td>\n",
       "      <td>31.153611</td>\n",
       "      <td>14.856818</td>\n",
       "      <td>...</td>\n",
       "      <td>0.000000</td>\n",
       "      <td>0.000000</td>\n",
       "      <td>0.000000</td>\n",
       "      <td>0.000000</td>\n",
       "      <td>116.990000</td>\n",
       "      <td>110.520800</td>\n",
       "      <td>82.615714</td>\n",
       "      <td>81.079250</td>\n",
       "      <td>79.226667</td>\n",
       "      <td>40.329231</td>\n",
       "    </tr>\n",
       "    <tr>\n",
       "      <th>2019-11-28 16:00:00</th>\n",
       "      <td>40.217500</td>\n",
       "      <td>49.051500</td>\n",
       "      <td>37.680000</td>\n",
       "      <td>44.879250</td>\n",
       "      <td>23.437436</td>\n",
       "      <td>22.213421</td>\n",
       "      <td>30.688611</td>\n",
       "      <td>30.525405</td>\n",
       "      <td>25.983953</td>\n",
       "      <td>31.153611</td>\n",
       "      <td>...</td>\n",
       "      <td>0.000000</td>\n",
       "      <td>0.000000</td>\n",
       "      <td>0.000000</td>\n",
       "      <td>0.000000</td>\n",
       "      <td>0.000000</td>\n",
       "      <td>116.990000</td>\n",
       "      <td>110.520800</td>\n",
       "      <td>82.615714</td>\n",
       "      <td>81.079250</td>\n",
       "      <td>79.226667</td>\n",
       "    </tr>\n",
       "    <tr>\n",
       "      <th>2019-11-28 17:00:00</th>\n",
       "      <td>87.453721</td>\n",
       "      <td>96.437907</td>\n",
       "      <td>80.326047</td>\n",
       "      <td>88.528140</td>\n",
       "      <td>40.217500</td>\n",
       "      <td>23.437436</td>\n",
       "      <td>22.213421</td>\n",
       "      <td>30.688611</td>\n",
       "      <td>30.525405</td>\n",
       "      <td>25.983953</td>\n",
       "      <td>...</td>\n",
       "      <td>0.000000</td>\n",
       "      <td>0.000000</td>\n",
       "      <td>0.000000</td>\n",
       "      <td>0.000000</td>\n",
       "      <td>0.000000</td>\n",
       "      <td>0.000000</td>\n",
       "      <td>116.990000</td>\n",
       "      <td>110.520800</td>\n",
       "      <td>82.615714</td>\n",
       "      <td>81.079250</td>\n",
       "    </tr>\n",
       "    <tr>\n",
       "      <th>...</th>\n",
       "      <td>...</td>\n",
       "      <td>...</td>\n",
       "      <td>...</td>\n",
       "      <td>...</td>\n",
       "      <td>...</td>\n",
       "      <td>...</td>\n",
       "      <td>...</td>\n",
       "      <td>...</td>\n",
       "      <td>...</td>\n",
       "      <td>...</td>\n",
       "      <td>...</td>\n",
       "      <td>...</td>\n",
       "      <td>...</td>\n",
       "      <td>...</td>\n",
       "      <td>...</td>\n",
       "      <td>...</td>\n",
       "      <td>...</td>\n",
       "      <td>...</td>\n",
       "      <td>...</td>\n",
       "      <td>...</td>\n",
       "      <td>...</td>\n",
       "    </tr>\n",
       "    <tr>\n",
       "      <th>2021-11-16 02:00:00</th>\n",
       "      <td>0.000000</td>\n",
       "      <td>0.000000</td>\n",
       "      <td>0.000000</td>\n",
       "      <td>0.000000</td>\n",
       "      <td>0.000000</td>\n",
       "      <td>0.000000</td>\n",
       "      <td>0.000000</td>\n",
       "      <td>0.000000</td>\n",
       "      <td>55.364000</td>\n",
       "      <td>39.253750</td>\n",
       "      <td>...</td>\n",
       "      <td>38.719070</td>\n",
       "      <td>31.557907</td>\n",
       "      <td>27.168864</td>\n",
       "      <td>26.934186</td>\n",
       "      <td>36.511628</td>\n",
       "      <td>41.242778</td>\n",
       "      <td>47.470000</td>\n",
       "      <td>0.000000</td>\n",
       "      <td>0.000000</td>\n",
       "      <td>0.000000</td>\n",
       "    </tr>\n",
       "    <tr>\n",
       "      <th>2021-11-16 03:00:00</th>\n",
       "      <td>0.000000</td>\n",
       "      <td>0.000000</td>\n",
       "      <td>0.000000</td>\n",
       "      <td>0.000000</td>\n",
       "      <td>0.000000</td>\n",
       "      <td>0.000000</td>\n",
       "      <td>0.000000</td>\n",
       "      <td>0.000000</td>\n",
       "      <td>0.000000</td>\n",
       "      <td>55.364000</td>\n",
       "      <td>...</td>\n",
       "      <td>33.848372</td>\n",
       "      <td>38.719070</td>\n",
       "      <td>31.557907</td>\n",
       "      <td>27.168864</td>\n",
       "      <td>26.934186</td>\n",
       "      <td>36.511628</td>\n",
       "      <td>41.242778</td>\n",
       "      <td>47.470000</td>\n",
       "      <td>0.000000</td>\n",
       "      <td>0.000000</td>\n",
       "    </tr>\n",
       "    <tr>\n",
       "      <th>2021-11-16 04:00:00</th>\n",
       "      <td>0.000000</td>\n",
       "      <td>0.000000</td>\n",
       "      <td>0.000000</td>\n",
       "      <td>0.000000</td>\n",
       "      <td>0.000000</td>\n",
       "      <td>0.000000</td>\n",
       "      <td>0.000000</td>\n",
       "      <td>0.000000</td>\n",
       "      <td>0.000000</td>\n",
       "      <td>0.000000</td>\n",
       "      <td>...</td>\n",
       "      <td>35.956977</td>\n",
       "      <td>33.848372</td>\n",
       "      <td>38.719070</td>\n",
       "      <td>31.557907</td>\n",
       "      <td>27.168864</td>\n",
       "      <td>26.934186</td>\n",
       "      <td>36.511628</td>\n",
       "      <td>41.242778</td>\n",
       "      <td>47.470000</td>\n",
       "      <td>0.000000</td>\n",
       "    </tr>\n",
       "    <tr>\n",
       "      <th>2021-11-16 05:00:00</th>\n",
       "      <td>45.170000</td>\n",
       "      <td>60.450000</td>\n",
       "      <td>46.580000</td>\n",
       "      <td>56.070000</td>\n",
       "      <td>0.000000</td>\n",
       "      <td>0.000000</td>\n",
       "      <td>0.000000</td>\n",
       "      <td>0.000000</td>\n",
       "      <td>0.000000</td>\n",
       "      <td>0.000000</td>\n",
       "      <td>...</td>\n",
       "      <td>38.830698</td>\n",
       "      <td>35.956977</td>\n",
       "      <td>33.848372</td>\n",
       "      <td>38.719070</td>\n",
       "      <td>31.557907</td>\n",
       "      <td>27.168864</td>\n",
       "      <td>26.934186</td>\n",
       "      <td>36.511628</td>\n",
       "      <td>41.242778</td>\n",
       "      <td>47.470000</td>\n",
       "    </tr>\n",
       "    <tr>\n",
       "      <th>2021-11-16 06:00:00</th>\n",
       "      <td>44.580000</td>\n",
       "      <td>62.680000</td>\n",
       "      <td>41.230000</td>\n",
       "      <td>50.880000</td>\n",
       "      <td>45.170000</td>\n",
       "      <td>0.000000</td>\n",
       "      <td>0.000000</td>\n",
       "      <td>0.000000</td>\n",
       "      <td>0.000000</td>\n",
       "      <td>0.000000</td>\n",
       "      <td>...</td>\n",
       "      <td>53.047674</td>\n",
       "      <td>38.830698</td>\n",
       "      <td>35.956977</td>\n",
       "      <td>33.848372</td>\n",
       "      <td>38.719070</td>\n",
       "      <td>31.557907</td>\n",
       "      <td>27.168864</td>\n",
       "      <td>26.934186</td>\n",
       "      <td>36.511628</td>\n",
       "      <td>41.242778</td>\n",
       "    </tr>\n",
       "  </tbody>\n",
       "</table>\n",
       "<p>17250 rows × 28 columns</p>\n",
       "</div>"
      ],
      "text/plain": [
       "                         pm2_5       pm10   s2_pm2_5    s2_pm10       lag1  \\\n",
       "TimeStamp                                                                    \n",
       "2019-11-28 13:00:00  30.688611  34.675833  28.362222  31.460556  30.525405   \n",
       "2019-11-28 14:00:00  22.213421  24.083947  20.923158  22.537632  30.688611   \n",
       "2019-11-28 15:00:00  23.437436  26.122564  21.779487  23.848974  22.213421   \n",
       "2019-11-28 16:00:00  40.217500  49.051500  37.680000  44.879250  23.437436   \n",
       "2019-11-28 17:00:00  87.453721  96.437907  80.326047  88.528140  40.217500   \n",
       "...                        ...        ...        ...        ...        ...   \n",
       "2021-11-16 02:00:00   0.000000   0.000000   0.000000   0.000000   0.000000   \n",
       "2021-11-16 03:00:00   0.000000   0.000000   0.000000   0.000000   0.000000   \n",
       "2021-11-16 04:00:00   0.000000   0.000000   0.000000   0.000000   0.000000   \n",
       "2021-11-16 05:00:00  45.170000  60.450000  46.580000  56.070000   0.000000   \n",
       "2021-11-16 06:00:00  44.580000  62.680000  41.230000  50.880000  45.170000   \n",
       "\n",
       "                          lag2       lag3       lag4       lag5       lag6  \\\n",
       "TimeStamp                                                                    \n",
       "2019-11-28 13:00:00  25.983953  31.153611  14.856818  17.107442  31.133953   \n",
       "2019-11-28 14:00:00  30.525405  25.983953  31.153611  14.856818  17.107442   \n",
       "2019-11-28 15:00:00  30.688611  30.525405  25.983953  31.153611  14.856818   \n",
       "2019-11-28 16:00:00  22.213421  30.688611  30.525405  25.983953  31.153611   \n",
       "2019-11-28 17:00:00  23.437436  22.213421  30.688611  30.525405  25.983953   \n",
       "...                        ...        ...        ...        ...        ...   \n",
       "2021-11-16 02:00:00   0.000000   0.000000   0.000000  55.364000  39.253750   \n",
       "2021-11-16 03:00:00   0.000000   0.000000   0.000000   0.000000  55.364000   \n",
       "2021-11-16 04:00:00   0.000000   0.000000   0.000000   0.000000   0.000000   \n",
       "2021-11-16 05:00:00   0.000000   0.000000   0.000000   0.000000   0.000000   \n",
       "2021-11-16 06:00:00   0.000000   0.000000   0.000000   0.000000   0.000000   \n",
       "\n",
       "                     ...      lag15      lag16       lag17       lag18  \\\n",
       "TimeStamp            ...                                                 \n",
       "2019-11-28 13:00:00  ...   0.000000   0.000000  116.990000  110.520800   \n",
       "2019-11-28 14:00:00  ...   0.000000   0.000000    0.000000  116.990000   \n",
       "2019-11-28 15:00:00  ...   0.000000   0.000000    0.000000    0.000000   \n",
       "2019-11-28 16:00:00  ...   0.000000   0.000000    0.000000    0.000000   \n",
       "2019-11-28 17:00:00  ...   0.000000   0.000000    0.000000    0.000000   \n",
       "...                  ...        ...        ...         ...         ...   \n",
       "2021-11-16 02:00:00  ...  38.719070  31.557907   27.168864   26.934186   \n",
       "2021-11-16 03:00:00  ...  33.848372  38.719070   31.557907   27.168864   \n",
       "2021-11-16 04:00:00  ...  35.956977  33.848372   38.719070   31.557907   \n",
       "2021-11-16 05:00:00  ...  38.830698  35.956977   33.848372   38.719070   \n",
       "2021-11-16 06:00:00  ...  53.047674  38.830698   35.956977   33.848372   \n",
       "\n",
       "                          lag19       lag20       lag21       lag22  \\\n",
       "TimeStamp                                                             \n",
       "2019-11-28 13:00:00   82.615714   81.079250   79.226667   40.329231   \n",
       "2019-11-28 14:00:00  110.520800   82.615714   81.079250   79.226667   \n",
       "2019-11-28 15:00:00  116.990000  110.520800   82.615714   81.079250   \n",
       "2019-11-28 16:00:00    0.000000  116.990000  110.520800   82.615714   \n",
       "2019-11-28 17:00:00    0.000000    0.000000  116.990000  110.520800   \n",
       "...                         ...         ...         ...         ...   \n",
       "2021-11-16 02:00:00   36.511628   41.242778   47.470000    0.000000   \n",
       "2021-11-16 03:00:00   26.934186   36.511628   41.242778   47.470000   \n",
       "2021-11-16 04:00:00   27.168864   26.934186   36.511628   41.242778   \n",
       "2021-11-16 05:00:00   31.557907   27.168864   26.934186   36.511628   \n",
       "2021-11-16 06:00:00   38.719070   31.557907   27.168864   26.934186   \n",
       "\n",
       "                         lag23      lag24  \n",
       "TimeStamp                                  \n",
       "2019-11-28 13:00:00  35.883077  41.258947  \n",
       "2019-11-28 14:00:00  40.329231  35.883077  \n",
       "2019-11-28 15:00:00  79.226667  40.329231  \n",
       "2019-11-28 16:00:00  81.079250  79.226667  \n",
       "2019-11-28 17:00:00  82.615714  81.079250  \n",
       "...                        ...        ...  \n",
       "2021-11-16 02:00:00   0.000000   0.000000  \n",
       "2021-11-16 03:00:00   0.000000   0.000000  \n",
       "2021-11-16 04:00:00  47.470000   0.000000  \n",
       "2021-11-16 05:00:00  41.242778  47.470000  \n",
       "2021-11-16 06:00:00  36.511628  41.242778  \n",
       "\n",
       "[17250 rows x 28 columns]"
      ]
     },
     "execution_count": 224,
     "metadata": {},
     "output_type": "execute_result"
    }
   ],
   "source": [
    "generate_time_lags(KK, 24)"
   ]
  },
  {
   "cell_type": "code",
   "execution_count": 257,
   "metadata": {},
   "outputs": [
    {
     "name": "stderr",
     "output_type": "stream",
     "text": [
      "/home/usman/.local/lib/python3.8/site-packages/pandas/core/ops/array_ops.py:253: FutureWarning: elementwise comparison failed; returning scalar instead, but in the future will perform elementwise comparison\n",
      "  res_values = method(rvalues)\n"
     ]
    },
    {
     "ename": "ValueError",
     "evalue": "The truth value of a DataFrame is ambiguous. Use a.empty, a.bool(), a.item(), a.any() or a.all().",
     "output_type": "error",
     "traceback": [
      "\u001b[0;31m---------------------------------------------------------------------------\u001b[0m",
      "\u001b[0;31mValueError\u001b[0m                                Traceback (most recent call last)",
      "\u001b[0;32m<ipython-input-257-fdb4431cb7bb>\u001b[0m in \u001b[0;36m<module>\u001b[0;34m\u001b[0m\n\u001b[0;32m----> 1\u001b[0;31m \u001b[0mKK\u001b[0m\u001b[0;34m.\u001b[0m\u001b[0massign\u001b[0m\u001b[0;34m(\u001b[0m\u001b[0mhour\u001b[0m\u001b[0;34m=\u001b[0m\u001b[0mKK\u001b[0m\u001b[0;34m.\u001b[0m\u001b[0mindex\u001b[0m\u001b[0;34m.\u001b[0m\u001b[0mget_level_values\u001b[0m\u001b[0;34m)\u001b[0m\u001b[0;34m\u001b[0m\u001b[0;34m\u001b[0m\u001b[0m\n\u001b[0m",
      "\u001b[0;32m~/.local/lib/python3.8/site-packages/pandas/core/frame.py\u001b[0m in \u001b[0;36massign\u001b[0;34m(self, **kwargs)\u001b[0m\n\u001b[1;32m   3565\u001b[0m \u001b[0;34m\u001b[0m\u001b[0m\n\u001b[1;32m   3566\u001b[0m         \u001b[0;32mfor\u001b[0m \u001b[0mk\u001b[0m\u001b[0;34m,\u001b[0m \u001b[0mv\u001b[0m \u001b[0;32min\u001b[0m \u001b[0mkwargs\u001b[0m\u001b[0;34m.\u001b[0m\u001b[0mitems\u001b[0m\u001b[0;34m(\u001b[0m\u001b[0;34m)\u001b[0m\u001b[0;34m:\u001b[0m\u001b[0;34m\u001b[0m\u001b[0;34m\u001b[0m\u001b[0m\n\u001b[0;32m-> 3567\u001b[0;31m             \u001b[0mdata\u001b[0m\u001b[0;34m[\u001b[0m\u001b[0mk\u001b[0m\u001b[0;34m]\u001b[0m \u001b[0;34m=\u001b[0m \u001b[0mcom\u001b[0m\u001b[0;34m.\u001b[0m\u001b[0mapply_if_callable\u001b[0m\u001b[0;34m(\u001b[0m\u001b[0mv\u001b[0m\u001b[0;34m,\u001b[0m \u001b[0mdata\u001b[0m\u001b[0;34m)\u001b[0m\u001b[0;34m\u001b[0m\u001b[0;34m\u001b[0m\u001b[0m\n\u001b[0m\u001b[1;32m   3568\u001b[0m         \u001b[0;32mreturn\u001b[0m \u001b[0mdata\u001b[0m\u001b[0;34m\u001b[0m\u001b[0;34m\u001b[0m\u001b[0m\n\u001b[1;32m   3569\u001b[0m \u001b[0;34m\u001b[0m\u001b[0m\n",
      "\u001b[0;32m~/.local/lib/python3.8/site-packages/pandas/core/common.py\u001b[0m in \u001b[0;36mapply_if_callable\u001b[0;34m(maybe_callable, obj, **kwargs)\u001b[0m\n\u001b[1;32m    341\u001b[0m \u001b[0;34m\u001b[0m\u001b[0m\n\u001b[1;32m    342\u001b[0m     \u001b[0;32mif\u001b[0m \u001b[0mcallable\u001b[0m\u001b[0;34m(\u001b[0m\u001b[0mmaybe_callable\u001b[0m\u001b[0;34m)\u001b[0m\u001b[0;34m:\u001b[0m\u001b[0;34m\u001b[0m\u001b[0;34m\u001b[0m\u001b[0m\n\u001b[0;32m--> 343\u001b[0;31m         \u001b[0;32mreturn\u001b[0m \u001b[0mmaybe_callable\u001b[0m\u001b[0;34m(\u001b[0m\u001b[0mobj\u001b[0m\u001b[0;34m,\u001b[0m \u001b[0;34m**\u001b[0m\u001b[0mkwargs\u001b[0m\u001b[0;34m)\u001b[0m\u001b[0;34m\u001b[0m\u001b[0;34m\u001b[0m\u001b[0m\n\u001b[0m\u001b[1;32m    344\u001b[0m \u001b[0;34m\u001b[0m\u001b[0m\n\u001b[1;32m    345\u001b[0m     \u001b[0;32mreturn\u001b[0m \u001b[0mmaybe_callable\u001b[0m\u001b[0;34m\u001b[0m\u001b[0;34m\u001b[0m\u001b[0m\n",
      "\u001b[0;32m~/.local/lib/python3.8/site-packages/pandas/core/indexes/base.py\u001b[0m in \u001b[0;36m_get_level_values\u001b[0;34m(self, level)\u001b[0m\n\u001b[1;32m   1477\u001b[0m         \u001b[0mIndex\u001b[0m\u001b[0;34m(\u001b[0m\u001b[0;34m[\u001b[0m\u001b[0;34m'a'\u001b[0m\u001b[0;34m,\u001b[0m \u001b[0;34m'b'\u001b[0m\u001b[0;34m,\u001b[0m \u001b[0;34m'c'\u001b[0m\u001b[0;34m]\u001b[0m\u001b[0;34m,\u001b[0m \u001b[0mdtype\u001b[0m\u001b[0;34m=\u001b[0m\u001b[0;34m'object'\u001b[0m\u001b[0;34m)\u001b[0m\u001b[0;34m\u001b[0m\u001b[0;34m\u001b[0m\u001b[0m\n\u001b[1;32m   1478\u001b[0m         \"\"\"\n\u001b[0;32m-> 1479\u001b[0;31m         \u001b[0mself\u001b[0m\u001b[0;34m.\u001b[0m\u001b[0m_validate_index_level\u001b[0m\u001b[0;34m(\u001b[0m\u001b[0mlevel\u001b[0m\u001b[0;34m)\u001b[0m\u001b[0;34m\u001b[0m\u001b[0;34m\u001b[0m\u001b[0m\n\u001b[0m\u001b[1;32m   1480\u001b[0m         \u001b[0;32mreturn\u001b[0m \u001b[0mself\u001b[0m\u001b[0;34m\u001b[0m\u001b[0;34m\u001b[0m\u001b[0m\n\u001b[1;32m   1481\u001b[0m \u001b[0;34m\u001b[0m\u001b[0m\n",
      "\u001b[0;32m~/.local/lib/python3.8/site-packages/pandas/core/indexes/base.py\u001b[0m in \u001b[0;36m_validate_index_level\u001b[0;34m(self, level)\u001b[0m\n\u001b[1;32m   1412\u001b[0m                     \u001b[0;34mf\"Too many levels: Index has only 1 level, not {level + 1}\"\u001b[0m\u001b[0;34m\u001b[0m\u001b[0;34m\u001b[0m\u001b[0m\n\u001b[1;32m   1413\u001b[0m                 )\n\u001b[0;32m-> 1414\u001b[0;31m         \u001b[0;32melif\u001b[0m \u001b[0mlevel\u001b[0m \u001b[0;34m!=\u001b[0m \u001b[0mself\u001b[0m\u001b[0;34m.\u001b[0m\u001b[0mname\u001b[0m\u001b[0;34m:\u001b[0m\u001b[0;34m\u001b[0m\u001b[0;34m\u001b[0m\u001b[0m\n\u001b[0m\u001b[1;32m   1415\u001b[0m             raise KeyError(\n\u001b[1;32m   1416\u001b[0m                 \u001b[0;34mf\"Requested level ({level}) does not match index name ({self.name})\"\u001b[0m\u001b[0;34m\u001b[0m\u001b[0;34m\u001b[0m\u001b[0m\n",
      "\u001b[0;32m~/.local/lib/python3.8/site-packages/pandas/core/generic.py\u001b[0m in \u001b[0;36m__nonzero__\u001b[0;34m(self)\u001b[0m\n\u001b[1;32m   1476\u001b[0m \u001b[0;34m\u001b[0m\u001b[0m\n\u001b[1;32m   1477\u001b[0m     \u001b[0;32mdef\u001b[0m \u001b[0m__nonzero__\u001b[0m\u001b[0;34m(\u001b[0m\u001b[0mself\u001b[0m\u001b[0;34m)\u001b[0m\u001b[0;34m:\u001b[0m\u001b[0;34m\u001b[0m\u001b[0;34m\u001b[0m\u001b[0m\n\u001b[0;32m-> 1478\u001b[0;31m         raise ValueError(\n\u001b[0m\u001b[1;32m   1479\u001b[0m             \u001b[0;34mf\"The truth value of a {type(self).__name__} is ambiguous. \"\u001b[0m\u001b[0;34m\u001b[0m\u001b[0;34m\u001b[0m\u001b[0m\n\u001b[1;32m   1480\u001b[0m             \u001b[0;34m\"Use a.empty, a.bool(), a.item(), a.any() or a.all().\"\u001b[0m\u001b[0;34m\u001b[0m\u001b[0;34m\u001b[0m\u001b[0m\n",
      "\u001b[0;31mValueError\u001b[0m: The truth value of a DataFrame is ambiguous. Use a.empty, a.bool(), a.item(), a.any() or a.all()."
     ]
    }
   ],
   "source": [
    "KK.assign(hour=KK.index)"
   ]
  },
  {
   "cell_type": "code",
   "execution_count": 259,
   "metadata": {},
   "outputs": [],
   "source": [
    "feat = KK.assign(hour = KK.index.hour,\n",
    "                 day = KK.index.day,\n",
    "                 month = KK.index.month,\n",
    "                 day_of_week = KK.index.dayofweek,\n",
    "                 week_of_year = KK.index.week)"
   ]
  },
  {
   "cell_type": "code",
   "execution_count": 267,
   "metadata": {},
   "outputs": [
    {
     "data": {
      "text/plain": [
       "7"
      ]
     },
     "execution_count": 267,
     "metadata": {},
     "output_type": "execute_result"
    }
   ],
   "source": [
    "feat.day_of_week.nunique()"
   ]
  },
  {
   "cell_type": "code",
   "execution_count": 274,
   "metadata": {},
   "outputs": [],
   "source": [
    "time_col = 'hour'"
   ]
  },
  {
   "cell_type": "code",
   "execution_count": 288,
   "metadata": {},
   "outputs": [],
   "source": [
    "dico = {f'sin_{time_col}' :lambda x: np.sin(2*np.pi*(x[time_col] - x[time_col].min()) / x[time_col].nunique()),\n",
    "        f'cos_{time_col}' :lambda x: np.cos(2*np.pi*(x[time_col] - x[time_col].min()) / x[time_col].nunique())}"
   ]
  },
  {
   "cell_type": "code",
   "execution_count": 290,
   "metadata": {},
   "outputs": [
    {
     "data": {
      "text/plain": [
       "-0.2588190451025208"
      ]
     },
     "execution_count": 290,
     "metadata": {},
     "output_type": "execute_result"
    }
   ],
   "source": [
    "np.sin(2*np.pi*(13-0)/24)"
   ]
  },
  {
   "cell_type": "code",
   "execution_count": 289,
   "metadata": {
    "scrolled": true
   },
   "outputs": [
    {
     "data": {
      "text/html": [
       "<div>\n",
       "<style scoped>\n",
       "    .dataframe tbody tr th:only-of-type {\n",
       "        vertical-align: middle;\n",
       "    }\n",
       "\n",
       "    .dataframe tbody tr th {\n",
       "        vertical-align: top;\n",
       "    }\n",
       "\n",
       "    .dataframe thead th {\n",
       "        text-align: right;\n",
       "    }\n",
       "</style>\n",
       "<table border=\"1\" class=\"dataframe\">\n",
       "  <thead>\n",
       "    <tr style=\"text-align: right;\">\n",
       "      <th></th>\n",
       "      <th>pm2_5</th>\n",
       "      <th>pm10</th>\n",
       "      <th>s2_pm2_5</th>\n",
       "      <th>s2_pm10</th>\n",
       "      <th>hour</th>\n",
       "      <th>sin_hour</th>\n",
       "      <th>cos_hour</th>\n",
       "    </tr>\n",
       "    <tr>\n",
       "      <th>TimeStamp</th>\n",
       "      <th></th>\n",
       "      <th></th>\n",
       "      <th></th>\n",
       "      <th></th>\n",
       "      <th></th>\n",
       "      <th></th>\n",
       "      <th></th>\n",
       "    </tr>\n",
       "  </thead>\n",
       "  <tbody>\n",
       "    <tr>\n",
       "      <th>2019-11-27 13:00:00</th>\n",
       "      <td>41.258947</td>\n",
       "      <td>51.221579</td>\n",
       "      <td>39.366842</td>\n",
       "      <td>48.085263</td>\n",
       "      <td>13</td>\n",
       "      <td>-0.258819</td>\n",
       "      <td>-9.659258e-01</td>\n",
       "    </tr>\n",
       "    <tr>\n",
       "      <th>2019-11-27 14:00:00</th>\n",
       "      <td>35.883077</td>\n",
       "      <td>43.583846</td>\n",
       "      <td>33.868718</td>\n",
       "      <td>39.694359</td>\n",
       "      <td>14</td>\n",
       "      <td>-0.500000</td>\n",
       "      <td>-8.660254e-01</td>\n",
       "    </tr>\n",
       "    <tr>\n",
       "      <th>2019-11-27 15:00:00</th>\n",
       "      <td>40.329231</td>\n",
       "      <td>49.360769</td>\n",
       "      <td>38.259744</td>\n",
       "      <td>46.074359</td>\n",
       "      <td>15</td>\n",
       "      <td>-0.707107</td>\n",
       "      <td>-7.071068e-01</td>\n",
       "    </tr>\n",
       "    <tr>\n",
       "      <th>2019-11-27 16:00:00</th>\n",
       "      <td>79.226667</td>\n",
       "      <td>90.660238</td>\n",
       "      <td>73.879048</td>\n",
       "      <td>84.298810</td>\n",
       "      <td>16</td>\n",
       "      <td>-0.866025</td>\n",
       "      <td>-5.000000e-01</td>\n",
       "    </tr>\n",
       "    <tr>\n",
       "      <th>2019-11-27 17:00:00</th>\n",
       "      <td>81.079250</td>\n",
       "      <td>90.701000</td>\n",
       "      <td>75.360000</td>\n",
       "      <td>84.586750</td>\n",
       "      <td>17</td>\n",
       "      <td>-0.965926</td>\n",
       "      <td>-2.588190e-01</td>\n",
       "    </tr>\n",
       "    <tr>\n",
       "      <th>...</th>\n",
       "      <td>...</td>\n",
       "      <td>...</td>\n",
       "      <td>...</td>\n",
       "      <td>...</td>\n",
       "      <td>...</td>\n",
       "      <td>...</td>\n",
       "      <td>...</td>\n",
       "    </tr>\n",
       "    <tr>\n",
       "      <th>2021-11-16 02:00:00</th>\n",
       "      <td>NaN</td>\n",
       "      <td>NaN</td>\n",
       "      <td>NaN</td>\n",
       "      <td>NaN</td>\n",
       "      <td>2</td>\n",
       "      <td>0.500000</td>\n",
       "      <td>8.660254e-01</td>\n",
       "    </tr>\n",
       "    <tr>\n",
       "      <th>2021-11-16 03:00:00</th>\n",
       "      <td>NaN</td>\n",
       "      <td>NaN</td>\n",
       "      <td>NaN</td>\n",
       "      <td>NaN</td>\n",
       "      <td>3</td>\n",
       "      <td>0.707107</td>\n",
       "      <td>7.071068e-01</td>\n",
       "    </tr>\n",
       "    <tr>\n",
       "      <th>2021-11-16 04:00:00</th>\n",
       "      <td>NaN</td>\n",
       "      <td>NaN</td>\n",
       "      <td>NaN</td>\n",
       "      <td>NaN</td>\n",
       "      <td>4</td>\n",
       "      <td>0.866025</td>\n",
       "      <td>5.000000e-01</td>\n",
       "    </tr>\n",
       "    <tr>\n",
       "      <th>2021-11-16 05:00:00</th>\n",
       "      <td>45.170000</td>\n",
       "      <td>60.450000</td>\n",
       "      <td>46.580000</td>\n",
       "      <td>56.070000</td>\n",
       "      <td>5</td>\n",
       "      <td>0.965926</td>\n",
       "      <td>2.588190e-01</td>\n",
       "    </tr>\n",
       "    <tr>\n",
       "      <th>2021-11-16 06:00:00</th>\n",
       "      <td>44.580000</td>\n",
       "      <td>62.680000</td>\n",
       "      <td>41.230000</td>\n",
       "      <td>50.880000</td>\n",
       "      <td>6</td>\n",
       "      <td>1.000000</td>\n",
       "      <td>6.123234e-17</td>\n",
       "    </tr>\n",
       "  </tbody>\n",
       "</table>\n",
       "<p>17274 rows × 7 columns</p>\n",
       "</div>"
      ],
      "text/plain": [
       "                         pm2_5       pm10   s2_pm2_5    s2_pm10  hour  \\\n",
       "TimeStamp                                                               \n",
       "2019-11-27 13:00:00  41.258947  51.221579  39.366842  48.085263    13   \n",
       "2019-11-27 14:00:00  35.883077  43.583846  33.868718  39.694359    14   \n",
       "2019-11-27 15:00:00  40.329231  49.360769  38.259744  46.074359    15   \n",
       "2019-11-27 16:00:00  79.226667  90.660238  73.879048  84.298810    16   \n",
       "2019-11-27 17:00:00  81.079250  90.701000  75.360000  84.586750    17   \n",
       "...                        ...        ...        ...        ...   ...   \n",
       "2021-11-16 02:00:00        NaN        NaN        NaN        NaN     2   \n",
       "2021-11-16 03:00:00        NaN        NaN        NaN        NaN     3   \n",
       "2021-11-16 04:00:00        NaN        NaN        NaN        NaN     4   \n",
       "2021-11-16 05:00:00  45.170000  60.450000  46.580000  56.070000     5   \n",
       "2021-11-16 06:00:00  44.580000  62.680000  41.230000  50.880000     6   \n",
       "\n",
       "                     sin_hour      cos_hour  \n",
       "TimeStamp                                    \n",
       "2019-11-27 13:00:00 -0.258819 -9.659258e-01  \n",
       "2019-11-27 14:00:00 -0.500000 -8.660254e-01  \n",
       "2019-11-27 15:00:00 -0.707107 -7.071068e-01  \n",
       "2019-11-27 16:00:00 -0.866025 -5.000000e-01  \n",
       "2019-11-27 17:00:00 -0.965926 -2.588190e-01  \n",
       "...                       ...           ...  \n",
       "2021-11-16 02:00:00  0.500000  8.660254e-01  \n",
       "2021-11-16 03:00:00  0.707107  7.071068e-01  \n",
       "2021-11-16 04:00:00  0.866025  5.000000e-01  \n",
       "2021-11-16 05:00:00  0.965926  2.588190e-01  \n",
       "2021-11-16 06:00:00  1.000000  6.123234e-17  \n",
       "\n",
       "[17274 rows x 7 columns]"
      ]
     },
     "execution_count": 289,
     "metadata": {},
     "output_type": "execute_result"
    }
   ],
   "source": [
    "KK.assign(hour = KK.index.hour, month=KK.).assign(**dico)"
   ]
  },
  {
   "cell_type": "code",
   "execution_count": 302,
   "metadata": {},
   "outputs": [],
   "source": [
    "KK.assign?"
   ]
  },
  {
   "cell_type": "code",
   "execution_count": 306,
   "metadata": {},
   "outputs": [],
   "source": [
    "KKKK.agg?"
   ]
  },
  {
   "cell_type": "code",
   "execution_count": 308,
   "metadata": {},
   "outputs": [
    {
     "name": "stdout",
     "output_type": "stream",
     "text": [
      "Object `apply` not found.\n"
     ]
    }
   ],
   "source": [
    "KKKK['hour'].apply?"
   ]
  },
  {
   "cell_type": "code",
   "execution_count": 316,
   "metadata": {},
   "outputs": [
    {
     "data": {
      "text/html": [
       "<div>\n",
       "<style scoped>\n",
       "    .dataframe tbody tr th:only-of-type {\n",
       "        vertical-align: middle;\n",
       "    }\n",
       "\n",
       "    .dataframe tbody tr th {\n",
       "        vertical-align: top;\n",
       "    }\n",
       "\n",
       "    .dataframe thead th {\n",
       "        text-align: right;\n",
       "    }\n",
       "</style>\n",
       "<table border=\"1\" class=\"dataframe\">\n",
       "  <thead>\n",
       "    <tr style=\"text-align: right;\">\n",
       "      <th></th>\n",
       "      <th>hour</th>\n",
       "      <th>month</th>\n",
       "    </tr>\n",
       "    <tr>\n",
       "      <th>TimeStamp</th>\n",
       "      <th></th>\n",
       "      <th></th>\n",
       "    </tr>\n",
       "  </thead>\n",
       "  <tbody>\n",
       "    <tr>\n",
       "      <th>2019-11-27 13:00:00</th>\n",
       "      <td>-2.449294e-16</td>\n",
       "      <td>0.000000e+00</td>\n",
       "    </tr>\n",
       "    <tr>\n",
       "      <th>2019-11-27 14:00:00</th>\n",
       "      <td>3.673940e-16</td>\n",
       "      <td>0.000000e+00</td>\n",
       "    </tr>\n",
       "    <tr>\n",
       "      <th>2019-11-27 15:00:00</th>\n",
       "      <td>-4.898587e-16</td>\n",
       "      <td>0.000000e+00</td>\n",
       "    </tr>\n",
       "    <tr>\n",
       "      <th>2019-11-27 16:00:00</th>\n",
       "      <td>6.123234e-16</td>\n",
       "      <td>0.000000e+00</td>\n",
       "    </tr>\n",
       "    <tr>\n",
       "      <th>2019-11-27 17:00:00</th>\n",
       "      <td>-7.347881e-16</td>\n",
       "      <td>0.000000e+00</td>\n",
       "    </tr>\n",
       "    <tr>\n",
       "      <th>...</th>\n",
       "      <td>...</td>\n",
       "      <td>...</td>\n",
       "    </tr>\n",
       "    <tr>\n",
       "      <th>2021-11-16 02:00:00</th>\n",
       "      <td>0.000000e+00</td>\n",
       "      <td>1.102182e-15</td>\n",
       "    </tr>\n",
       "    <tr>\n",
       "      <th>2021-11-16 03:00:00</th>\n",
       "      <td>0.000000e+00</td>\n",
       "      <td>-9.797174e-16</td>\n",
       "    </tr>\n",
       "    <tr>\n",
       "      <th>2021-11-16 04:00:00</th>\n",
       "      <td>0.000000e+00</td>\n",
       "      <td>8.572528e-16</td>\n",
       "    </tr>\n",
       "    <tr>\n",
       "      <th>2021-11-16 05:00:00</th>\n",
       "      <td>0.000000e+00</td>\n",
       "      <td>-7.347881e-16</td>\n",
       "    </tr>\n",
       "    <tr>\n",
       "      <th>2021-11-16 06:00:00</th>\n",
       "      <td>0.000000e+00</td>\n",
       "      <td>6.123234e-16</td>\n",
       "    </tr>\n",
       "  </tbody>\n",
       "</table>\n",
       "<p>17274 rows × 2 columns</p>\n",
       "</div>"
      ],
      "text/plain": [
       "                             hour         month\n",
       "TimeStamp                                      \n",
       "2019-11-27 13:00:00 -2.449294e-16  0.000000e+00\n",
       "2019-11-27 14:00:00  3.673940e-16  0.000000e+00\n",
       "2019-11-27 15:00:00 -4.898587e-16  0.000000e+00\n",
       "2019-11-27 16:00:00  6.123234e-16  0.000000e+00\n",
       "2019-11-27 17:00:00 -7.347881e-16  0.000000e+00\n",
       "...                           ...           ...\n",
       "2021-11-16 02:00:00  0.000000e+00  1.102182e-15\n",
       "2021-11-16 03:00:00  0.000000e+00 -9.797174e-16\n",
       "2021-11-16 04:00:00  0.000000e+00  8.572528e-16\n",
       "2021-11-16 05:00:00  0.000000e+00 -7.347881e-16\n",
       "2021-11-16 06:00:00  0.000000e+00  6.123234e-16\n",
       "\n",
       "[17274 rows x 2 columns]"
      ]
     },
     "execution_count": 316,
     "metadata": {},
     "output_type": "execute_result"
    }
   ],
   "source": [
    "KKKK[['hour', 'month']].apply(lambda x: np.sin(2*np.pi*(x - x.min()) / x.nunique()), axis=1, result_type='expand')"
   ]
  },
  {
   "cell_type": "code",
   "execution_count": 230,
   "metadata": {
    "scrolled": true
   },
   "outputs": [
    {
     "data": {
      "text/plain": [
       "DatetimeIndex(['2019-11-27 13:00:00', '2019-11-27 14:00:00',\n",
       "               '2019-11-27 15:00:00', '2019-11-27 16:00:00',\n",
       "               '2019-11-27 17:00:00', '2019-11-27 18:00:00',\n",
       "               '2019-11-27 19:00:00', '2019-11-27 20:00:00',\n",
       "               '2019-11-27 21:00:00', '2019-11-27 22:00:00',\n",
       "               ...\n",
       "               '2021-11-15 21:00:00', '2021-11-15 22:00:00',\n",
       "               '2021-11-15 23:00:00', '2021-11-16 00:00:00',\n",
       "               '2021-11-16 01:00:00', '2021-11-16 02:00:00',\n",
       "               '2021-11-16 03:00:00', '2021-11-16 04:00:00',\n",
       "               '2021-11-16 05:00:00', '2021-11-16 06:00:00'],\n",
       "              dtype='datetime64[ns]', name='TimeStamp', length=17274, freq='H')"
      ]
     },
     "execution_count": 230,
     "metadata": {},
     "output_type": "execute_result"
    }
   ],
   "source": [
    "KK_features = (KK.assign)"
   ]
  },
  {
   "cell_type": "code",
   "execution_count": 219,
   "metadata": {
    "scrolled": true
   },
   "outputs": [
    {
     "data": {
      "text/plain": [
       "TimeStamp\n",
       "2019-11-27 13:00:00          NaN\n",
       "2019-11-27 14:00:00    41.258947\n",
       "2019-11-27 15:00:00    35.883077\n",
       "2019-11-27 16:00:00    40.329231\n",
       "2019-11-27 17:00:00    79.226667\n",
       "                         ...    \n",
       "2021-11-16 02:00:00     0.000000\n",
       "2021-11-16 03:00:00     0.000000\n",
       "2021-11-16 04:00:00     0.000000\n",
       "2021-11-16 05:00:00     0.000000\n",
       "2021-11-16 06:00:00    45.170000\n",
       "Freq: H, Name: pm2_5, Length: 17274, dtype: float64"
      ]
     },
     "execution_count": 219,
     "metadata": {},
     "output_type": "execute_result"
    }
   ],
   "source": [
    "KK['pm2_5'].shift(1)"
   ]
  },
  {
   "cell_type": "code",
   "execution_count": 213,
   "metadata": {},
   "outputs": [
    {
     "data": {
      "text/plain": [
       "TimeStamp\n",
       "2019-11-27 13:00:00    41.258947\n",
       "2019-11-27 14:00:00    35.883077\n",
       "2019-11-27 15:00:00    40.329231\n",
       "2019-11-27 16:00:00    79.226667\n",
       "2019-11-27 17:00:00    81.079250\n",
       "                         ...    \n",
       "2021-11-16 02:00:00     0.000000\n",
       "2021-11-16 03:00:00     0.000000\n",
       "2021-11-16 04:00:00     0.000000\n",
       "2021-11-16 05:00:00    45.170000\n",
       "2021-11-16 06:00:00    44.580000\n",
       "Freq: H, Name: pm2_5, Length: 17274, dtype: float64"
      ]
     },
     "execution_count": 213,
     "metadata": {},
     "output_type": "execute_result"
    }
   ],
   "source": [
    "KK['pm2_5']"
   ]
  },
  {
   "cell_type": "code",
   "execution_count": 203,
   "metadata": {},
   "outputs": [
    {
     "data": {
      "text/html": [
       "<div>\n",
       "<style scoped>\n",
       "    .dataframe tbody tr th:only-of-type {\n",
       "        vertical-align: middle;\n",
       "    }\n",
       "\n",
       "    .dataframe tbody tr th {\n",
       "        vertical-align: top;\n",
       "    }\n",
       "\n",
       "    .dataframe thead th {\n",
       "        text-align: right;\n",
       "    }\n",
       "</style>\n",
       "<table border=\"1\" class=\"dataframe\">\n",
       "  <thead>\n",
       "    <tr style=\"text-align: right;\">\n",
       "      <th></th>\n",
       "      <th>channel_id</th>\n",
       "      <th>pm2_5</th>\n",
       "      <th>pm10</th>\n",
       "      <th>s2_pm2_5</th>\n",
       "      <th>s2_pm10</th>\n",
       "    </tr>\n",
       "    <tr>\n",
       "      <th>TimeStamp</th>\n",
       "      <th></th>\n",
       "      <th></th>\n",
       "      <th></th>\n",
       "      <th></th>\n",
       "      <th></th>\n",
       "    </tr>\n",
       "  </thead>\n",
       "  <tbody>\n",
       "    <tr>\n",
       "      <th>2019-11-27 13:00:00</th>\n",
       "      <td>912223.0</td>\n",
       "      <td>41.700</td>\n",
       "      <td>51.150</td>\n",
       "      <td>39.670</td>\n",
       "      <td>48.850</td>\n",
       "    </tr>\n",
       "    <tr>\n",
       "      <th>2019-11-27 14:00:00</th>\n",
       "      <td>912223.0</td>\n",
       "      <td>35.380</td>\n",
       "      <td>43.700</td>\n",
       "      <td>33.580</td>\n",
       "      <td>38.350</td>\n",
       "    </tr>\n",
       "    <tr>\n",
       "      <th>2019-11-27 15:00:00</th>\n",
       "      <td>912223.0</td>\n",
       "      <td>36.300</td>\n",
       "      <td>45.000</td>\n",
       "      <td>34.370</td>\n",
       "      <td>40.870</td>\n",
       "    </tr>\n",
       "    <tr>\n",
       "      <th>2019-11-27 16:00:00</th>\n",
       "      <td>912223.0</td>\n",
       "      <td>77.865</td>\n",
       "      <td>86.715</td>\n",
       "      <td>70.525</td>\n",
       "      <td>79.775</td>\n",
       "    </tr>\n",
       "    <tr>\n",
       "      <th>2019-11-27 17:00:00</th>\n",
       "      <td>912223.0</td>\n",
       "      <td>78.455</td>\n",
       "      <td>88.210</td>\n",
       "      <td>72.810</td>\n",
       "      <td>81.375</td>\n",
       "    </tr>\n",
       "    <tr>\n",
       "      <th>...</th>\n",
       "      <td>...</td>\n",
       "      <td>...</td>\n",
       "      <td>...</td>\n",
       "      <td>...</td>\n",
       "      <td>...</td>\n",
       "    </tr>\n",
       "    <tr>\n",
       "      <th>2021-11-16 02:00:00</th>\n",
       "      <td>NaN</td>\n",
       "      <td>NaN</td>\n",
       "      <td>NaN</td>\n",
       "      <td>NaN</td>\n",
       "      <td>NaN</td>\n",
       "    </tr>\n",
       "    <tr>\n",
       "      <th>2021-11-16 03:00:00</th>\n",
       "      <td>NaN</td>\n",
       "      <td>NaN</td>\n",
       "      <td>NaN</td>\n",
       "      <td>NaN</td>\n",
       "      <td>NaN</td>\n",
       "    </tr>\n",
       "    <tr>\n",
       "      <th>2021-11-16 04:00:00</th>\n",
       "      <td>NaN</td>\n",
       "      <td>NaN</td>\n",
       "      <td>NaN</td>\n",
       "      <td>NaN</td>\n",
       "      <td>NaN</td>\n",
       "    </tr>\n",
       "    <tr>\n",
       "      <th>2021-11-16 05:00:00</th>\n",
       "      <td>912223.0</td>\n",
       "      <td>45.170</td>\n",
       "      <td>60.450</td>\n",
       "      <td>46.580</td>\n",
       "      <td>56.070</td>\n",
       "    </tr>\n",
       "    <tr>\n",
       "      <th>2021-11-16 06:00:00</th>\n",
       "      <td>912223.0</td>\n",
       "      <td>44.580</td>\n",
       "      <td>62.680</td>\n",
       "      <td>41.230</td>\n",
       "      <td>50.880</td>\n",
       "    </tr>\n",
       "  </tbody>\n",
       "</table>\n",
       "<p>17274 rows × 5 columns</p>\n",
       "</div>"
      ],
      "text/plain": [
       "                     channel_id   pm2_5    pm10  s2_pm2_5  s2_pm10\n",
       "TimeStamp                                                         \n",
       "2019-11-27 13:00:00    912223.0  41.700  51.150    39.670   48.850\n",
       "2019-11-27 14:00:00    912223.0  35.380  43.700    33.580   38.350\n",
       "2019-11-27 15:00:00    912223.0  36.300  45.000    34.370   40.870\n",
       "2019-11-27 16:00:00    912223.0  77.865  86.715    70.525   79.775\n",
       "2019-11-27 17:00:00    912223.0  78.455  88.210    72.810   81.375\n",
       "...                         ...     ...     ...       ...      ...\n",
       "2021-11-16 02:00:00         NaN     NaN     NaN       NaN      NaN\n",
       "2021-11-16 03:00:00         NaN     NaN     NaN       NaN      NaN\n",
       "2021-11-16 04:00:00         NaN     NaN     NaN       NaN      NaN\n",
       "2021-11-16 05:00:00    912223.0  45.170  60.450    46.580   56.070\n",
       "2021-11-16 06:00:00    912223.0  44.580  62.680    41.230   50.880\n",
       "\n",
       "[17274 rows x 5 columns]"
      ]
     },
     "execution_count": 203,
     "metadata": {},
     "output_type": "execute_result"
    }
   ],
   "source": [
    "channel_one.groupby(pd.Grouper(key='TimeStamp', freq='1H')).median()"
   ]
  },
  {
   "cell_type": "code",
   "execution_count": 227,
   "metadata": {},
   "outputs": [
    {
     "data": {
      "text/html": [
       "<div>\n",
       "<style scoped>\n",
       "    .dataframe tbody tr th:only-of-type {\n",
       "        vertical-align: middle;\n",
       "    }\n",
       "\n",
       "    .dataframe tbody tr th {\n",
       "        vertical-align: top;\n",
       "    }\n",
       "\n",
       "    .dataframe thead th {\n",
       "        text-align: right;\n",
       "    }\n",
       "</style>\n",
       "<table border=\"1\" class=\"dataframe\">\n",
       "  <thead>\n",
       "    <tr style=\"text-align: right;\">\n",
       "      <th></th>\n",
       "      <th>pm2_5</th>\n",
       "      <th>pm10</th>\n",
       "      <th>s2_pm2_5</th>\n",
       "      <th>s2_pm10</th>\n",
       "    </tr>\n",
       "  </thead>\n",
       "  <tbody>\n",
       "    <tr>\n",
       "      <th>pm2_5</th>\n",
       "      <td>1.000000</td>\n",
       "      <td>0.999412</td>\n",
       "      <td>0.255833</td>\n",
       "      <td>0.256373</td>\n",
       "    </tr>\n",
       "    <tr>\n",
       "      <th>pm10</th>\n",
       "      <td>0.999412</td>\n",
       "      <td>1.000000</td>\n",
       "      <td>0.282602</td>\n",
       "      <td>0.284030</td>\n",
       "    </tr>\n",
       "    <tr>\n",
       "      <th>s2_pm2_5</th>\n",
       "      <td>0.255833</td>\n",
       "      <td>0.282602</td>\n",
       "      <td>1.000000</td>\n",
       "      <td>0.997424</td>\n",
       "    </tr>\n",
       "    <tr>\n",
       "      <th>s2_pm10</th>\n",
       "      <td>0.256373</td>\n",
       "      <td>0.284030</td>\n",
       "      <td>0.997424</td>\n",
       "      <td>1.000000</td>\n",
       "    </tr>\n",
       "  </tbody>\n",
       "</table>\n",
       "</div>"
      ],
      "text/plain": [
       "             pm2_5      pm10  s2_pm2_5   s2_pm10\n",
       "pm2_5     1.000000  0.999412  0.255833  0.256373\n",
       "pm10      0.999412  1.000000  0.282602  0.284030\n",
       "s2_pm2_5  0.255833  0.282602  1.000000  0.997424\n",
       "s2_pm10   0.256373  0.284030  0.997424  1.000000"
      ]
     },
     "execution_count": 227,
     "metadata": {},
     "output_type": "execute_result"
    }
   ],
   "source": [
    "KK.corr()"
   ]
  },
  {
   "cell_type": "code",
   "execution_count": 87,
   "metadata": {
    "scrolled": true
   },
   "outputs": [
    {
     "data": {
      "text/plain": [
       "<bound method PandasDelegate._add_delegate_accessors.<locals>._create_delegator_method.<locals>.f of <pandas.core.indexes.accessors.DatetimeProperties object at 0x7fa35f1a1ca0>>"
      ]
     },
     "execution_count": 87,
     "metadata": {},
     "output_type": "execute_result"
    }
   ],
   "source": [
    "channel_one.TimeStamp.dt"
   ]
  },
  {
   "cell_type": "code",
   "execution_count": 145,
   "metadata": {},
   "outputs": [],
   "source": [
    "hour_mean = channel_one.groupby(channel_one.TimeStamp.dt.month)['pm2_5'].mean().to_numpy()"
   ]
  },
  {
   "cell_type": "code",
   "execution_count": 146,
   "metadata": {},
   "outputs": [],
   "source": [
    "lower, upper = stats.t.interval(alpha=0.95, df=channel_one.groupby(channel_one.TimeStamp.dt.month)['pm2_5'].count()-1, \n",
    "                 loc=channel_one.groupby(channel_one.TimeStamp.dt.month)['pm2_5'].mean(),\n",
    "                scale=channel_one.groupby(channel_one.TimeStamp.dt.month)['pm2_5'].std())"
   ]
  },
  {
   "cell_type": "code",
   "execution_count": 110,
   "metadata": {},
   "outputs": [
    {
     "data": {
      "text/plain": [
       "(24, 1)"
      ]
     },
     "execution_count": 110,
     "metadata": {},
     "output_type": "execute_result"
    }
   ],
   "source": [
    "lower.reshape(-1,1).shape"
   ]
  },
  {
   "cell_type": "code",
   "execution_count": 147,
   "metadata": {},
   "outputs": [
    {
     "data": {
      "text/plain": [
       "array([ 65.18920386,  59.82245696,  37.96603084,  25.8360199 ,\n",
       "        29.70515476,  46.04323767,  87.03750805, 136.67150925,\n",
       "        39.67616047,  44.26139234,  41.73948743,  53.339399  ])"
      ]
     },
     "execution_count": 147,
     "metadata": {},
     "output_type": "execute_result"
    }
   ],
   "source": [
    "hour_mean"
   ]
  },
  {
   "cell_type": "code",
   "execution_count": 125,
   "metadata": {},
   "outputs": [],
   "source": [
    "pd.DataFrame?"
   ]
  },
  {
   "cell_type": "code",
   "execution_count": 148,
   "metadata": {
    "scrolled": true
   },
   "outputs": [],
   "source": [
    "DDD = pd.DataFrame(data=np.array([hour_mean, lower, upper]).T)"
   ]
  },
  {
   "cell_type": "code",
   "execution_count": 149,
   "metadata": {},
   "outputs": [
    {
     "data": {
      "text/plain": [
       "<matplotlib.axes._subplots.AxesSubplot at 0x7fa337681730>"
      ]
     },
     "execution_count": 149,
     "metadata": {},
     "output_type": "execute_result"
    },
    {
     "data": {
      "image/png": "[encoded data removed]",
      "text/plain": [
       "<Figure size 432x288 with 1 Axes>"
      ]
     },
     "metadata": {
      "needs_background": "light"
     },
     "output_type": "display_data"
    }
   ],
   "source": [
    "DDD.plot()"
   ]
  },
  {
   "cell_type": "code",
   "execution_count": 155,
   "metadata": {},
   "outputs": [
    {
     "data": {
      "text/html": [
       "<div>\n",
       "<style scoped>\n",
       "    .dataframe tbody tr th:only-of-type {\n",
       "        vertical-align: middle;\n",
       "    }\n",
       "\n",
       "    .dataframe tbody tr th {\n",
       "        vertical-align: top;\n",
       "    }\n",
       "\n",
       "    .dataframe thead th {\n",
       "        text-align: right;\n",
       "    }\n",
       "</style>\n",
       "<table border=\"1\" class=\"dataframe\">\n",
       "  <thead>\n",
       "    <tr style=\"text-align: right;\">\n",
       "      <th></th>\n",
       "      <th>count</th>\n",
       "      <th>mean</th>\n",
       "      <th>std</th>\n",
       "      <th>min</th>\n",
       "      <th>25%</th>\n",
       "      <th>50%</th>\n",
       "      <th>75%</th>\n",
       "      <th>max</th>\n",
       "    </tr>\n",
       "    <tr>\n",
       "      <th>TimeStamp</th>\n",
       "      <th></th>\n",
       "      <th></th>\n",
       "      <th></th>\n",
       "      <th></th>\n",
       "      <th></th>\n",
       "      <th></th>\n",
       "      <th></th>\n",
       "      <th></th>\n",
       "    </tr>\n",
       "  </thead>\n",
       "  <tbody>\n",
       "    <tr>\n",
       "      <th>2019</th>\n",
       "      <td>16719.0</td>\n",
       "      <td>59.579169</td>\n",
       "      <td>47.443451</td>\n",
       "      <td>1.93</td>\n",
       "      <td>27.57</td>\n",
       "      <td>43.02</td>\n",
       "      <td>76.425</td>\n",
       "      <td>609.17</td>\n",
       "    </tr>\n",
       "    <tr>\n",
       "      <th>2020</th>\n",
       "      <td>237305.0</td>\n",
       "      <td>59.988219</td>\n",
       "      <td>224.187822</td>\n",
       "      <td>0.00</td>\n",
       "      <td>20.22</td>\n",
       "      <td>37.47</td>\n",
       "      <td>56.030</td>\n",
       "      <td>3663.30</td>\n",
       "    </tr>\n",
       "    <tr>\n",
       "      <th>2021</th>\n",
       "      <td>153028.0</td>\n",
       "      <td>47.896370</td>\n",
       "      <td>151.089488</td>\n",
       "      <td>0.00</td>\n",
       "      <td>18.27</td>\n",
       "      <td>34.50</td>\n",
       "      <td>50.380</td>\n",
       "      <td>3772.25</td>\n",
       "    </tr>\n",
       "  </tbody>\n",
       "</table>\n",
       "</div>"
      ],
      "text/plain": [
       "              count       mean         std   min    25%    50%     75%  \\\n",
       "TimeStamp                                                                \n",
       "2019        16719.0  59.579169   47.443451  1.93  27.57  43.02  76.425   \n",
       "2020       237305.0  59.988219  224.187822  0.00  20.22  37.47  56.030   \n",
       "2021       153028.0  47.896370  151.089488  0.00  18.27  34.50  50.380   \n",
       "\n",
       "               max  \n",
       "TimeStamp           \n",
       "2019        609.17  \n",
       "2020       3663.30  \n",
       "2021       3772.25  "
      ]
     },
     "execution_count": 155,
     "metadata": {},
     "output_type": "execute_result"
    }
   ],
   "source": [
    "channel_one.groupby(channel_one.TimeStamp.dt.year)['pm2_5'].describe()"
   ]
  },
  {
   "cell_type": "code",
   "execution_count": 153,
   "metadata": {
    "scrolled": true
   },
   "outputs": [
    {
     "data": {
      "image/png": "[encoded data removed]",
      "text/plain": [
       "<Figure size 1152x504 with 1 Axes>"
      ]
     },
     "metadata": {
      "needs_background": "light"
     },
     "output_type": "display_data"
    }
   ],
   "source": [
    "plt.figure(figsize=(16,7))\n",
    "\n",
    "ax=sns.boxplot(x=channel_one.TimeStamp.dt.year, y='pm2_5', data=channel_one, orient='v', palette = sns.color_palette(\"deep\", 5))\n",
    "ax.set(ylim=(-50, 600))\n",
    "\n",
    "plt.title('Boxplots of Hourly PM 2.5 by Year', fontsize=16)\n",
    "plt.xlabel('')\n",
    "plt.ylabel('ug/m^3', fontsize=12);"
   ]
  },
  {
   "cell_type": "code",
   "execution_count": null,
   "metadata": {
    "scrolled": true
   },
   "outputs": [],
   "source": [
    "fig = plt.figure(figsize=(14,10))\n",
    "testing[['date', 'pm2_5', 'pm10', 's2_pm2_5', 's2_pm10']].plot(x='date', subplots=True, layout=(2,2),\n",
    "                                                              figsize=(14,10), sharex=False, rot=45)\n",
    "plt.tight_layout(pad=5)"
   ]
  },
  {
   "cell_type": "code",
   "execution_count": 25,
   "metadata": {},
   "outputs": [],
   "source": [
    "#delta = datetime.timedelta(hours=24)"
   ]
  },
  {
   "cell_type": "code",
   "execution_count": 27,
   "metadata": {},
   "outputs": [],
   "source": [
    "pd.to_numeric?"
   ]
  },
  {
   "cell_type": "code",
   "execution_count": 391,
   "metadata": {},
   "outputs": [
    {
     "name": "stdout",
     "output_type": "stream",
     "text": [
      "Object `assert` not found.\n"
     ]
    }
   ],
   "source": [
    "assert?"
   ]
  },
  {
   "cell_type": "code",
   "execution_count": 392,
   "metadata": {},
   "outputs": [
    {
     "ename": "SyntaxError",
     "evalue": "invalid syntax (<ipython-input-392-cc3c8914aafa>, line 1)",
     "output_type": "error",
     "traceback": [
      "\u001b[0;36m  File \u001b[0;32m\"<ipython-input-392-cc3c8914aafa>\"\u001b[0;36m, line \u001b[0;32m1\u001b[0m\n\u001b[0;31m    type(assert)\u001b[0m\n\u001b[0m         ^\u001b[0m\n\u001b[0;31mSyntaxError\u001b[0m\u001b[0;31m:\u001b[0m invalid syntax\n"
     ]
    }
   ],
   "source": []
  },
  {
   "cell_type": "code",
   "execution_count": null,
   "metadata": {},
   "outputs": [],
   "source": []
  }
 ],
 "metadata": {
  "kernelspec": {
   "display_name": "Python 3",
   "language": "python",
   "name": "python3"
  },
  "language_info": {
   "codemirror_mode": {
    "name": "ipython",
    "version": 3
   },
   "file_extension": ".py",
   "mimetype": "text/x-python",
   "name": "python",
   "nbconvert_exporter": "python",
   "pygments_lexer": "ipython3",
   "version": "3.8.2"
  }
 },
 "nbformat": 4,
 "nbformat_minor": 4
}
