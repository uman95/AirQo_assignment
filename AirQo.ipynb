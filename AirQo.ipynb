{
 "cells": [
  {
   "cell_type": "code",
   "execution_count": 82,
   "metadata": {},
   "outputs": [],
   "source": [
    "import os\n",
    "import numpy as np\n",
    "import pandas as pd\n",
    "import datetime\n",
    "from scipy.optimize import curve_fit\n",
    "from scipy import stats\n",
    "import matplotlib.pyplot as plt\n",
    "import seaborn as sns"
   ]
  },
  {
   "cell_type": "code",
   "execution_count": 2,
   "metadata": {},
   "outputs": [
    {
     "name": "stdout",
     "output_type": "stream",
     "text": [
      "Exact number of rows: 23567842\n"
     ]
    }
   ],
   "source": [
    "with open('airquality-dataset/sample_dataset.csv') as file:\n",
    "    n_rows = len(file.readlines())\n",
    "\n",
    "print (f'Exact number of rows: {n_rows}')"
   ]
  },
  {
   "cell_type": "code",
   "execution_count": 3,
   "metadata": {},
   "outputs": [
    {
     "name": "stderr",
     "output_type": "stream",
     "text": [
      "/home/usman/.local/lib/python3.8/site-packages/numpy/lib/arraysetops.py:569: FutureWarning: elementwise comparison failed; returning scalar instead, but in the future will perform elementwise comparison\n",
      "  mask |= (ar1 == a)\n"
     ]
    }
   ],
   "source": [
    "Data = pd.read_csv('airquality-dataset/sample_dataset.csv', index_col=0)"
   ]
  },
  {
   "cell_type": "code",
   "execution_count": 4,
   "metadata": {},
   "outputs": [
    {
     "name": "stdout",
     "output_type": "stream",
     "text": [
      "<class 'pandas.core.frame.DataFrame'>\n",
      "Int64Index: 23567841 entries, 0 to 25976646\n",
      "Data columns (total 7 columns):\n",
      " #   Column      Dtype  \n",
      "---  ------      -----  \n",
      " 0   channel_id  int64  \n",
      " 1   pm2_5       float64\n",
      " 2   pm10        float64\n",
      " 3   s2_pm2_5    float64\n",
      " 4   s2_pm10     float64\n",
      " 5   Site        object \n",
      " 6   TimeStamp   object \n",
      "dtypes: float64(4), int64(1), object(2)\n",
      "memory usage: 1.4+ GB\n"
     ]
    }
   ],
   "source": [
    "Data.info()"
   ]
  },
  {
   "cell_type": "code",
   "execution_count": 5,
   "metadata": {},
   "outputs": [],
   "source": [
    "dataType = {'channel_id' : 'uint32',\n",
    "            'pm2_5' : 'float32',\n",
    "            'pm10' : 'float32',\n",
    "            's2_pm2_5' : 'float32',\n",
    "            's2_pm10' : 'float32',\n",
    "            'Site' : 'str',\n",
    "            'TimeStamp' : 'str'\n",
    "           }"
   ]
  },
  {
   "cell_type": "code",
   "execution_count": 17,
   "metadata": {},
   "outputs": [],
   "source": [
    "def load_data(dataPath, dataType: dict) -> pd.core.frame.DataFrame:\n",
    "    data = pd.read_csv(dataPath, dtype=dataType, index_col=0)\n",
    "    data = data.drop_duplicates(ignore_index=True)\n",
    "    data['TimeStamp'] = pd.to_datetime(data['TimeStamp'])\n",
    "    \n",
    "    return data"
   ]
  },
  {
   "cell_type": "code",
   "execution_count": 18,
   "metadata": {},
   "outputs": [
    {
     "name": "stderr",
     "output_type": "stream",
     "text": [
      "/home/usman/.local/lib/python3.8/site-packages/numpy/lib/arraysetops.py:569: FutureWarning: elementwise comparison failed; returning scalar instead, but in the future will perform elementwise comparison\n",
      "  mask |= (ar1 == a)\n"
     ]
    }
   ],
   "source": [
    "data = load_data(dataPath='airquality-dataset/sample_dataset.csv', dataType=dataType)"
   ]
  },
  {
   "cell_type": "code",
   "execution_count": 19,
   "metadata": {},
   "outputs": [
    {
     "data": {
      "text/html": [
       "<div>\n",
       "<style scoped>\n",
       "    .dataframe tbody tr th:only-of-type {\n",
       "        vertical-align: middle;\n",
       "    }\n",
       "\n",
       "    .dataframe tbody tr th {\n",
       "        vertical-align: top;\n",
       "    }\n",
       "\n",
       "    .dataframe thead th {\n",
       "        text-align: right;\n",
       "    }\n",
       "</style>\n",
       "<table border=\"1\" class=\"dataframe\">\n",
       "  <thead>\n",
       "    <tr style=\"text-align: right;\">\n",
       "      <th></th>\n",
       "      <th>channel_id</th>\n",
       "      <th>pm2_5</th>\n",
       "      <th>pm10</th>\n",
       "      <th>s2_pm2_5</th>\n",
       "      <th>s2_pm10</th>\n",
       "      <th>Site</th>\n",
       "      <th>TimeStamp</th>\n",
       "    </tr>\n",
       "  </thead>\n",
       "  <tbody>\n",
       "    <tr>\n",
       "      <th>0</th>\n",
       "      <td>912223</td>\n",
       "      <td>37.020000</td>\n",
       "      <td>45.230000</td>\n",
       "      <td>34.070000</td>\n",
       "      <td>39.820000</td>\n",
       "      <td>Banda, Kampala</td>\n",
       "      <td>2019-11-27 13:24:45</td>\n",
       "    </tr>\n",
       "    <tr>\n",
       "      <th>1</th>\n",
       "      <td>912223</td>\n",
       "      <td>41.700001</td>\n",
       "      <td>50.700001</td>\n",
       "      <td>38.549999</td>\n",
       "      <td>47.430000</td>\n",
       "      <td>Banda, Kampala</td>\n",
       "      <td>2019-11-27 13:26:13</td>\n",
       "    </tr>\n",
       "    <tr>\n",
       "      <th>2</th>\n",
       "      <td>912223</td>\n",
       "      <td>42.150002</td>\n",
       "      <td>52.869999</td>\n",
       "      <td>40.549999</td>\n",
       "      <td>49.950001</td>\n",
       "      <td>Banda, Kampala</td>\n",
       "      <td>2019-11-27 13:30:53</td>\n",
       "    </tr>\n",
       "    <tr>\n",
       "      <th>3</th>\n",
       "      <td>912223</td>\n",
       "      <td>45.099998</td>\n",
       "      <td>57.020000</td>\n",
       "      <td>44.750000</td>\n",
       "      <td>55.029999</td>\n",
       "      <td>Banda, Kampala</td>\n",
       "      <td>2019-11-27 13:32:22</td>\n",
       "    </tr>\n",
       "    <tr>\n",
       "      <th>4</th>\n",
       "      <td>912223</td>\n",
       "      <td>41.720001</td>\n",
       "      <td>52.080002</td>\n",
       "      <td>40.000000</td>\n",
       "      <td>49.200001</td>\n",
       "      <td>Banda, Kampala</td>\n",
       "      <td>2019-11-27 13:33:46</td>\n",
       "    </tr>\n",
       "    <tr>\n",
       "      <th>...</th>\n",
       "      <td>...</td>\n",
       "      <td>...</td>\n",
       "      <td>...</td>\n",
       "      <td>...</td>\n",
       "      <td>...</td>\n",
       "      <td>...</td>\n",
       "      <td>...</td>\n",
       "    </tr>\n",
       "    <tr>\n",
       "      <th>23530779</th>\n",
       "      <td>730016</td>\n",
       "      <td>81.330002</td>\n",
       "      <td>87.830002</td>\n",
       "      <td>62.630001</td>\n",
       "      <td>75.419998</td>\n",
       "      <td>Wobulenzi west, Luwero</td>\n",
       "      <td>2021-11-15 13:38:11</td>\n",
       "    </tr>\n",
       "    <tr>\n",
       "      <th>23530780</th>\n",
       "      <td>730016</td>\n",
       "      <td>57.380001</td>\n",
       "      <td>64.480003</td>\n",
       "      <td>41.630001</td>\n",
       "      <td>55.150002</td>\n",
       "      <td>Wobulenzi west, Luwero</td>\n",
       "      <td>2021-11-15 13:39:33</td>\n",
       "    </tr>\n",
       "    <tr>\n",
       "      <th>23530781</th>\n",
       "      <td>730016</td>\n",
       "      <td>43.150002</td>\n",
       "      <td>52.150002</td>\n",
       "      <td>33.369999</td>\n",
       "      <td>43.230000</td>\n",
       "      <td>Wobulenzi west, Luwero</td>\n",
       "      <td>2021-11-15 13:41:03</td>\n",
       "    </tr>\n",
       "    <tr>\n",
       "      <th>23530782</th>\n",
       "      <td>730016</td>\n",
       "      <td>46.450001</td>\n",
       "      <td>56.950001</td>\n",
       "      <td>38.779999</td>\n",
       "      <td>52.299999</td>\n",
       "      <td>Wobulenzi west, Luwero</td>\n",
       "      <td>2021-11-15 13:42:26</td>\n",
       "    </tr>\n",
       "    <tr>\n",
       "      <th>23530783</th>\n",
       "      <td>730016</td>\n",
       "      <td>42.529999</td>\n",
       "      <td>51.380001</td>\n",
       "      <td>33.750000</td>\n",
       "      <td>48.570000</td>\n",
       "      <td>Wobulenzi west, Luwero</td>\n",
       "      <td>2021-11-15 13:43:48</td>\n",
       "    </tr>\n",
       "  </tbody>\n",
       "</table>\n",
       "<p>23530784 rows × 7 columns</p>\n",
       "</div>"
      ],
      "text/plain": [
       "          channel_id      pm2_5       pm10   s2_pm2_5    s2_pm10  \\\n",
       "0             912223  37.020000  45.230000  34.070000  39.820000   \n",
       "1             912223  41.700001  50.700001  38.549999  47.430000   \n",
       "2             912223  42.150002  52.869999  40.549999  49.950001   \n",
       "3             912223  45.099998  57.020000  44.750000  55.029999   \n",
       "4             912223  41.720001  52.080002  40.000000  49.200001   \n",
       "...              ...        ...        ...        ...        ...   \n",
       "23530779      730016  81.330002  87.830002  62.630001  75.419998   \n",
       "23530780      730016  57.380001  64.480003  41.630001  55.150002   \n",
       "23530781      730016  43.150002  52.150002  33.369999  43.230000   \n",
       "23530782      730016  46.450001  56.950001  38.779999  52.299999   \n",
       "23530783      730016  42.529999  51.380001  33.750000  48.570000   \n",
       "\n",
       "                            Site           TimeStamp  \n",
       "0                 Banda, Kampala 2019-11-27 13:24:45  \n",
       "1                 Banda, Kampala 2019-11-27 13:26:13  \n",
       "2                 Banda, Kampala 2019-11-27 13:30:53  \n",
       "3                 Banda, Kampala 2019-11-27 13:32:22  \n",
       "4                 Banda, Kampala 2019-11-27 13:33:46  \n",
       "...                          ...                 ...  \n",
       "23530779  Wobulenzi west, Luwero 2021-11-15 13:38:11  \n",
       "23530780  Wobulenzi west, Luwero 2021-11-15 13:39:33  \n",
       "23530781  Wobulenzi west, Luwero 2021-11-15 13:41:03  \n",
       "23530782  Wobulenzi west, Luwero 2021-11-15 13:42:26  \n",
       "23530783  Wobulenzi west, Luwero 2021-11-15 13:43:48  \n",
       "\n",
       "[23530784 rows x 7 columns]"
      ]
     },
     "execution_count": 19,
     "metadata": {},
     "output_type": "execute_result"
    }
   ],
   "source": [
    "data"
   ]
  },
  {
   "cell_type": "code",
   "execution_count": 20,
   "metadata": {},
   "outputs": [
    {
     "name": "stdout",
     "output_type": "stream",
     "text": [
      "<class 'pandas.core.frame.DataFrame'>\n",
      "RangeIndex: 23530784 entries, 0 to 23530783\n",
      "Data columns (total 7 columns):\n",
      " #   Column      Dtype         \n",
      "---  ------      -----         \n",
      " 0   channel_id  uint32        \n",
      " 1   pm2_5       float32       \n",
      " 2   pm10        float32       \n",
      " 3   s2_pm2_5    float32       \n",
      " 4   s2_pm10     float32       \n",
      " 5   Site        object        \n",
      " 6   TimeStamp   datetime64[ns]\n",
      "dtypes: datetime64[ns](1), float32(4), object(1), uint32(1)\n",
      "memory usage: 807.9+ MB\n"
     ]
    }
   ],
   "source": [
    "data.info()"
   ]
  },
  {
   "cell_type": "code",
   "execution_count": 28,
   "metadata": {},
   "outputs": [],
   "source": [
    "channelSite = dict(zip(data['channel_id'].unique(), data['Site'].unique()))"
   ]
  },
  {
   "cell_type": "code",
   "execution_count": 30,
   "metadata": {},
   "outputs": [],
   "source": [
    "siteGroups = data.groupby('channel_id')"
   ]
  },
  {
   "cell_type": "code",
   "execution_count": 75,
   "metadata": {},
   "outputs": [
    {
     "name": "stdout",
     "output_type": "stream",
     "text": [
      "<class 'pandas.core.frame.DataFrame'>\n",
      "Int64Index: 467394 entries, 14371685 to 14839078\n",
      "Data columns (total 7 columns):\n",
      " #   Column      Non-Null Count   Dtype         \n",
      "---  ------      --------------   -----         \n",
      " 0   channel_id  467394 non-null  uint32        \n",
      " 1   pm2_5       467394 non-null  float32       \n",
      " 2   pm10        467394 non-null  float32       \n",
      " 3   s2_pm2_5    467394 non-null  float32       \n",
      " 4   s2_pm10     467394 non-null  float32       \n",
      " 5   Site        467394 non-null  object        \n",
      " 6   TimeStamp   467394 non-null  datetime64[ns]\n",
      "dtypes: datetime64[ns](1), float32(4), object(1), uint32(1)\n",
      "memory usage: 19.6+ MB\n"
     ]
    }
   ],
   "source": [
    "siteGroups.get_group(x).info()"
   ]
  },
  {
   "cell_type": "code",
   "execution_count": 55,
   "metadata": {},
   "outputs": [],
   "source": [
    "for x in siteGroups.groups:\n",
    "    if not os.path.exists('data_group'):\n",
    "        os.makedirs('data_group')\n",
    "    siteGroups.get_group(x).to_csv(f'data_group/{x}.csv')"
   ]
  },
  {
   "cell_type": "code",
   "execution_count": 78,
   "metadata": {},
   "outputs": [],
   "source": [
    "def readChannel(channelId: int, dataPath='data_group/') -> pd.core.frame.DataFrame:\n",
    "    path = dataPath + str(channelId) + '.csv'\n",
    "    channelData = pd.read_csv(path, index_col=0, parse_dates=['TimeStamp'])\n",
    "    return channelData"
   ]
  },
  {
   "cell_type": "code",
   "execution_count": 79,
   "metadata": {},
   "outputs": [],
   "source": [
    "channel_one = readChannel(channelId=list(channelSite.keys())[0])"
   ]
  },
  {
   "cell_type": "code",
   "execution_count": 80,
   "metadata": {},
   "outputs": [
    {
     "data": {
      "text/html": [
       "<div>\n",
       "<style scoped>\n",
       "    .dataframe tbody tr th:only-of-type {\n",
       "        vertical-align: middle;\n",
       "    }\n",
       "\n",
       "    .dataframe tbody tr th {\n",
       "        vertical-align: top;\n",
       "    }\n",
       "\n",
       "    .dataframe thead th {\n",
       "        text-align: right;\n",
       "    }\n",
       "</style>\n",
       "<table border=\"1\" class=\"dataframe\">\n",
       "  <thead>\n",
       "    <tr style=\"text-align: right;\">\n",
       "      <th></th>\n",
       "      <th>channel_id</th>\n",
       "      <th>pm2_5</th>\n",
       "      <th>pm10</th>\n",
       "      <th>s2_pm2_5</th>\n",
       "      <th>s2_pm10</th>\n",
       "      <th>Site</th>\n",
       "      <th>TimeStamp</th>\n",
       "    </tr>\n",
       "  </thead>\n",
       "  <tbody>\n",
       "    <tr>\n",
       "      <th>0</th>\n",
       "      <td>912223</td>\n",
       "      <td>37.02</td>\n",
       "      <td>45.23</td>\n",
       "      <td>34.07</td>\n",
       "      <td>39.82</td>\n",
       "      <td>Banda, Kampala</td>\n",
       "      <td>2019-11-27 13:24:45</td>\n",
       "    </tr>\n",
       "    <tr>\n",
       "      <th>1</th>\n",
       "      <td>912223</td>\n",
       "      <td>41.70</td>\n",
       "      <td>50.70</td>\n",
       "      <td>38.55</td>\n",
       "      <td>47.43</td>\n",
       "      <td>Banda, Kampala</td>\n",
       "      <td>2019-11-27 13:26:13</td>\n",
       "    </tr>\n",
       "    <tr>\n",
       "      <th>2</th>\n",
       "      <td>912223</td>\n",
       "      <td>42.15</td>\n",
       "      <td>52.87</td>\n",
       "      <td>40.55</td>\n",
       "      <td>49.95</td>\n",
       "      <td>Banda, Kampala</td>\n",
       "      <td>2019-11-27 13:30:53</td>\n",
       "    </tr>\n",
       "    <tr>\n",
       "      <th>3</th>\n",
       "      <td>912223</td>\n",
       "      <td>45.10</td>\n",
       "      <td>57.02</td>\n",
       "      <td>44.75</td>\n",
       "      <td>55.03</td>\n",
       "      <td>Banda, Kampala</td>\n",
       "      <td>2019-11-27 13:32:22</td>\n",
       "    </tr>\n",
       "    <tr>\n",
       "      <th>4</th>\n",
       "      <td>912223</td>\n",
       "      <td>41.72</td>\n",
       "      <td>52.08</td>\n",
       "      <td>40.00</td>\n",
       "      <td>49.20</td>\n",
       "      <td>Banda, Kampala</td>\n",
       "      <td>2019-11-27 13:33:46</td>\n",
       "    </tr>\n",
       "    <tr>\n",
       "      <th>...</th>\n",
       "      <td>...</td>\n",
       "      <td>...</td>\n",
       "      <td>...</td>\n",
       "      <td>...</td>\n",
       "      <td>...</td>\n",
       "      <td>...</td>\n",
       "      <td>...</td>\n",
       "    </tr>\n",
       "    <tr>\n",
       "      <th>407047</th>\n",
       "      <td>912223</td>\n",
       "      <td>54.83</td>\n",
       "      <td>75.80</td>\n",
       "      <td>52.53</td>\n",
       "      <td>67.00</td>\n",
       "      <td>Banda, Kampala</td>\n",
       "      <td>2021-11-15 21:11:26</td>\n",
       "    </tr>\n",
       "    <tr>\n",
       "      <th>407048</th>\n",
       "      <td>912223</td>\n",
       "      <td>55.60</td>\n",
       "      <td>76.93</td>\n",
       "      <td>55.05</td>\n",
       "      <td>70.72</td>\n",
       "      <td>Banda, Kampala</td>\n",
       "      <td>2021-11-15 21:12:48</td>\n",
       "    </tr>\n",
       "    <tr>\n",
       "      <th>407049</th>\n",
       "      <td>912223</td>\n",
       "      <td>42.07</td>\n",
       "      <td>58.75</td>\n",
       "      <td>39.33</td>\n",
       "      <td>46.98</td>\n",
       "      <td>Banda, Kampala</td>\n",
       "      <td>2021-11-15 21:25:50</td>\n",
       "    </tr>\n",
       "    <tr>\n",
       "      <th>407050</th>\n",
       "      <td>912223</td>\n",
       "      <td>45.17</td>\n",
       "      <td>60.45</td>\n",
       "      <td>46.58</td>\n",
       "      <td>56.07</td>\n",
       "      <td>Banda, Kampala</td>\n",
       "      <td>2021-11-16 05:38:50</td>\n",
       "    </tr>\n",
       "    <tr>\n",
       "      <th>407051</th>\n",
       "      <td>912223</td>\n",
       "      <td>44.58</td>\n",
       "      <td>62.68</td>\n",
       "      <td>41.23</td>\n",
       "      <td>50.88</td>\n",
       "      <td>Banda, Kampala</td>\n",
       "      <td>2021-11-16 06:03:10</td>\n",
       "    </tr>\n",
       "  </tbody>\n",
       "</table>\n",
       "<p>407052 rows × 7 columns</p>\n",
       "</div>"
      ],
      "text/plain": [
       "        channel_id  pm2_5   pm10  s2_pm2_5  s2_pm10            Site  \\\n",
       "0           912223  37.02  45.23     34.07    39.82  Banda, Kampala   \n",
       "1           912223  41.70  50.70     38.55    47.43  Banda, Kampala   \n",
       "2           912223  42.15  52.87     40.55    49.95  Banda, Kampala   \n",
       "3           912223  45.10  57.02     44.75    55.03  Banda, Kampala   \n",
       "4           912223  41.72  52.08     40.00    49.20  Banda, Kampala   \n",
       "...            ...    ...    ...       ...      ...             ...   \n",
       "407047      912223  54.83  75.80     52.53    67.00  Banda, Kampala   \n",
       "407048      912223  55.60  76.93     55.05    70.72  Banda, Kampala   \n",
       "407049      912223  42.07  58.75     39.33    46.98  Banda, Kampala   \n",
       "407050      912223  45.17  60.45     46.58    56.07  Banda, Kampala   \n",
       "407051      912223  44.58  62.68     41.23    50.88  Banda, Kampala   \n",
       "\n",
       "                 TimeStamp  \n",
       "0      2019-11-27 13:24:45  \n",
       "1      2019-11-27 13:26:13  \n",
       "2      2019-11-27 13:30:53  \n",
       "3      2019-11-27 13:32:22  \n",
       "4      2019-11-27 13:33:46  \n",
       "...                    ...  \n",
       "407047 2021-11-15 21:11:26  \n",
       "407048 2021-11-15 21:12:48  \n",
       "407049 2021-11-15 21:25:50  \n",
       "407050 2021-11-16 05:38:50  \n",
       "407051 2021-11-16 06:03:10  \n",
       "\n",
       "[407052 rows x 7 columns]"
      ]
     },
     "execution_count": 80,
     "metadata": {},
     "output_type": "execute_result"
    }
   ],
   "source": [
    "channel_one"
   ]
  },
  {
   "cell_type": "code",
   "execution_count": 81,
   "metadata": {},
   "outputs": [
    {
     "name": "stdout",
     "output_type": "stream",
     "text": [
      "<class 'pandas.core.frame.DataFrame'>\n",
      "Int64Index: 407052 entries, 0 to 407051\n",
      "Data columns (total 7 columns):\n",
      " #   Column      Non-Null Count   Dtype         \n",
      "---  ------      --------------   -----         \n",
      " 0   channel_id  407052 non-null  int64         \n",
      " 1   pm2_5       407052 non-null  float64       \n",
      " 2   pm10        407052 non-null  float64       \n",
      " 3   s2_pm2_5    407052 non-null  float64       \n",
      " 4   s2_pm10     407052 non-null  float64       \n",
      " 5   Site        407052 non-null  object        \n",
      " 6   TimeStamp   407052 non-null  datetime64[ns]\n",
      "dtypes: datetime64[ns](1), float64(4), int64(1), object(1)\n",
      "memory usage: 24.8+ MB\n"
     ]
    }
   ],
   "source": [
    "channel_one.info()"
   ]
  },
  {
   "cell_type": "code",
   "execution_count": 174,
   "metadata": {},
   "outputs": [],
   "source": [
    "pd.Grouper?"
   ]
  },
  {
   "cell_type": "code",
   "execution_count": 177,
   "metadata": {},
   "outputs": [
    {
     "data": {
      "text/html": [
       "<div>\n",
       "<style scoped>\n",
       "    .dataframe tbody tr th:only-of-type {\n",
       "        vertical-align: middle;\n",
       "    }\n",
       "\n",
       "    .dataframe tbody tr th {\n",
       "        vertical-align: top;\n",
       "    }\n",
       "\n",
       "    .dataframe thead th {\n",
       "        text-align: right;\n",
       "    }\n",
       "</style>\n",
       "<table border=\"1\" class=\"dataframe\">\n",
       "  <thead>\n",
       "    <tr style=\"text-align: right;\">\n",
       "      <th></th>\n",
       "      <th>channel_id</th>\n",
       "      <th>pm2_5</th>\n",
       "      <th>pm10</th>\n",
       "      <th>s2_pm2_5</th>\n",
       "      <th>s2_pm10</th>\n",
       "    </tr>\n",
       "    <tr>\n",
       "      <th>TimeStamp</th>\n",
       "      <th></th>\n",
       "      <th></th>\n",
       "      <th></th>\n",
       "      <th></th>\n",
       "      <th></th>\n",
       "    </tr>\n",
       "  </thead>\n",
       "  <tbody>\n",
       "    <tr>\n",
       "      <th>2019-11-27 13:00:00</th>\n",
       "      <td>912223.0</td>\n",
       "      <td>41.258947</td>\n",
       "      <td>51.221579</td>\n",
       "      <td>39.366842</td>\n",
       "      <td>48.085263</td>\n",
       "    </tr>\n",
       "    <tr>\n",
       "      <th>2019-11-27 14:00:00</th>\n",
       "      <td>912223.0</td>\n",
       "      <td>35.883077</td>\n",
       "      <td>43.583846</td>\n",
       "      <td>33.868718</td>\n",
       "      <td>39.694359</td>\n",
       "    </tr>\n",
       "    <tr>\n",
       "      <th>2019-11-27 15:00:00</th>\n",
       "      <td>912223.0</td>\n",
       "      <td>40.329231</td>\n",
       "      <td>49.360769</td>\n",
       "      <td>38.259744</td>\n",
       "      <td>46.074359</td>\n",
       "    </tr>\n",
       "    <tr>\n",
       "      <th>2019-11-27 16:00:00</th>\n",
       "      <td>912223.0</td>\n",
       "      <td>79.226667</td>\n",
       "      <td>90.660238</td>\n",
       "      <td>73.879048</td>\n",
       "      <td>84.298810</td>\n",
       "    </tr>\n",
       "    <tr>\n",
       "      <th>2019-11-27 17:00:00</th>\n",
       "      <td>912223.0</td>\n",
       "      <td>81.079250</td>\n",
       "      <td>90.701000</td>\n",
       "      <td>75.360000</td>\n",
       "      <td>84.586750</td>\n",
       "    </tr>\n",
       "    <tr>\n",
       "      <th>...</th>\n",
       "      <td>...</td>\n",
       "      <td>...</td>\n",
       "      <td>...</td>\n",
       "      <td>...</td>\n",
       "      <td>...</td>\n",
       "    </tr>\n",
       "    <tr>\n",
       "      <th>2021-11-16 02:00:00</th>\n",
       "      <td>NaN</td>\n",
       "      <td>NaN</td>\n",
       "      <td>NaN</td>\n",
       "      <td>NaN</td>\n",
       "      <td>NaN</td>\n",
       "    </tr>\n",
       "    <tr>\n",
       "      <th>2021-11-16 03:00:00</th>\n",
       "      <td>NaN</td>\n",
       "      <td>NaN</td>\n",
       "      <td>NaN</td>\n",
       "      <td>NaN</td>\n",
       "      <td>NaN</td>\n",
       "    </tr>\n",
       "    <tr>\n",
       "      <th>2021-11-16 04:00:00</th>\n",
       "      <td>NaN</td>\n",
       "      <td>NaN</td>\n",
       "      <td>NaN</td>\n",
       "      <td>NaN</td>\n",
       "      <td>NaN</td>\n",
       "    </tr>\n",
       "    <tr>\n",
       "      <th>2021-11-16 05:00:00</th>\n",
       "      <td>912223.0</td>\n",
       "      <td>45.170000</td>\n",
       "      <td>60.450000</td>\n",
       "      <td>46.580000</td>\n",
       "      <td>56.070000</td>\n",
       "    </tr>\n",
       "    <tr>\n",
       "      <th>2021-11-16 06:00:00</th>\n",
       "      <td>912223.0</td>\n",
       "      <td>44.580000</td>\n",
       "      <td>62.680000</td>\n",
       "      <td>41.230000</td>\n",
       "      <td>50.880000</td>\n",
       "    </tr>\n",
       "  </tbody>\n",
       "</table>\n",
       "<p>17274 rows × 5 columns</p>\n",
       "</div>"
      ],
      "text/plain": [
       "                     channel_id      pm2_5       pm10   s2_pm2_5    s2_pm10\n",
       "TimeStamp                                                                  \n",
       "2019-11-27 13:00:00    912223.0  41.258947  51.221579  39.366842  48.085263\n",
       "2019-11-27 14:00:00    912223.0  35.883077  43.583846  33.868718  39.694359\n",
       "2019-11-27 15:00:00    912223.0  40.329231  49.360769  38.259744  46.074359\n",
       "2019-11-27 16:00:00    912223.0  79.226667  90.660238  73.879048  84.298810\n",
       "2019-11-27 17:00:00    912223.0  81.079250  90.701000  75.360000  84.586750\n",
       "...                         ...        ...        ...        ...        ...\n",
       "2021-11-16 02:00:00         NaN        NaN        NaN        NaN        NaN\n",
       "2021-11-16 03:00:00         NaN        NaN        NaN        NaN        NaN\n",
       "2021-11-16 04:00:00         NaN        NaN        NaN        NaN        NaN\n",
       "2021-11-16 05:00:00    912223.0  45.170000  60.450000  46.580000  56.070000\n",
       "2021-11-16 06:00:00    912223.0  44.580000  62.680000  41.230000  50.880000\n",
       "\n",
       "[17274 rows x 5 columns]"
      ]
     },
     "execution_count": 177,
     "metadata": {},
     "output_type": "execute_result"
    }
   ],
   "source": [
    "channel_one.groupby(pd.Grouper(key='TimeStamp', freq='1H')).mean()"
   ]
  },
  {
   "cell_type": "code",
   "execution_count": 87,
   "metadata": {},
   "outputs": [
    {
     "data": {
      "text/plain": [
       "<bound method PandasDelegate._add_delegate_accessors.<locals>._create_delegator_method.<locals>.f of <pandas.core.indexes.accessors.DatetimeProperties object at 0x7fa35f1a1ca0>>"
      ]
     },
     "execution_count": 87,
     "metadata": {},
     "output_type": "execute_result"
    }
   ],
   "source": [
    "channel_one.TimeStamp.dt"
   ]
  },
  {
   "cell_type": "code",
   "execution_count": 145,
   "metadata": {},
   "outputs": [],
   "source": [
    "hour_mean = channel_one.groupby(channel_one.TimeStamp.dt.month)['pm2_5'].mean().to_numpy()"
   ]
  },
  {
   "cell_type": "code",
   "execution_count": 146,
   "metadata": {},
   "outputs": [],
   "source": [
    "lower, upper = stats.t.interval(alpha=0.95, df=channel_one.groupby(channel_one.TimeStamp.dt.month)['pm2_5'].count()-1, \n",
    "                 loc=channel_one.groupby(channel_one.TimeStamp.dt.month)['pm2_5'].mean(),\n",
    "                scale=channel_one.groupby(channel_one.TimeStamp.dt.month)['pm2_5'].std())"
   ]
  },
  {
   "cell_type": "code",
   "execution_count": 110,
   "metadata": {},
   "outputs": [
    {
     "data": {
      "text/plain": [
       "(24, 1)"
      ]
     },
     "execution_count": 110,
     "metadata": {},
     "output_type": "execute_result"
    }
   ],
   "source": [
    "lower.reshape(-1,1).shape"
   ]
  },
  {
   "cell_type": "code",
   "execution_count": 147,
   "metadata": {},
   "outputs": [
    {
     "data": {
      "text/plain": [
       "array([ 65.18920386,  59.82245696,  37.96603084,  25.8360199 ,\n",
       "        29.70515476,  46.04323767,  87.03750805, 136.67150925,\n",
       "        39.67616047,  44.26139234,  41.73948743,  53.339399  ])"
      ]
     },
     "execution_count": 147,
     "metadata": {},
     "output_type": "execute_result"
    }
   ],
   "source": [
    "hour_mean"
   ]
  },
  {
   "cell_type": "code",
   "execution_count": 125,
   "metadata": {},
   "outputs": [],
   "source": [
    "pd.DataFrame?"
   ]
  },
  {
   "cell_type": "code",
   "execution_count": 148,
   "metadata": {
    "scrolled": true
   },
   "outputs": [],
   "source": [
    "DDD = pd.DataFrame(data=np.array([hour_mean, lower, upper]).T)"
   ]
  },
  {
   "cell_type": "code",
   "execution_count": 149,
   "metadata": {},
   "outputs": [
    {
     "data": {
      "text/plain": [
       "<matplotlib.axes._subplots.AxesSubplot at 0x7fa337681730>"
      ]
     },
     "execution_count": 149,
     "metadata": {},
     "output_type": "execute_result"
    },
    {
     "data": {
      "image/png": "[encoded data removed]",
      "text/plain": [
       "<Figure size 432x288 with 1 Axes>"
      ]
     },
     "metadata": {
      "needs_background": "light"
     },
     "output_type": "display_data"
    }
   ],
   "source": [
    "DDD.plot()"
   ]
  },
  {
   "cell_type": "code",
   "execution_count": 155,
   "metadata": {},
   "outputs": [
    {
     "data": {
      "text/html": [
       "<div>\n",
       "<style scoped>\n",
       "    .dataframe tbody tr th:only-of-type {\n",
       "        vertical-align: middle;\n",
       "    }\n",
       "\n",
       "    .dataframe tbody tr th {\n",
       "        vertical-align: top;\n",
       "    }\n",
       "\n",
       "    .dataframe thead th {\n",
       "        text-align: right;\n",
       "    }\n",
       "</style>\n",
       "<table border=\"1\" class=\"dataframe\">\n",
       "  <thead>\n",
       "    <tr style=\"text-align: right;\">\n",
       "      <th></th>\n",
       "      <th>count</th>\n",
       "      <th>mean</th>\n",
       "      <th>std</th>\n",
       "      <th>min</th>\n",
       "      <th>25%</th>\n",
       "      <th>50%</th>\n",
       "      <th>75%</th>\n",
       "      <th>max</th>\n",
       "    </tr>\n",
       "    <tr>\n",
       "      <th>TimeStamp</th>\n",
       "      <th></th>\n",
       "      <th></th>\n",
       "      <th></th>\n",
       "      <th></th>\n",
       "      <th></th>\n",
       "      <th></th>\n",
       "      <th></th>\n",
       "      <th></th>\n",
       "    </tr>\n",
       "  </thead>\n",
       "  <tbody>\n",
       "    <tr>\n",
       "      <th>2019</th>\n",
       "      <td>16719.0</td>\n",
       "      <td>59.579169</td>\n",
       "      <td>47.443451</td>\n",
       "      <td>1.93</td>\n",
       "      <td>27.57</td>\n",
       "      <td>43.02</td>\n",
       "      <td>76.425</td>\n",
       "      <td>609.17</td>\n",
       "    </tr>\n",
       "    <tr>\n",
       "      <th>2020</th>\n",
       "      <td>237305.0</td>\n",
       "      <td>59.988219</td>\n",
       "      <td>224.187822</td>\n",
       "      <td>0.00</td>\n",
       "      <td>20.22</td>\n",
       "      <td>37.47</td>\n",
       "      <td>56.030</td>\n",
       "      <td>3663.30</td>\n",
       "    </tr>\n",
       "    <tr>\n",
       "      <th>2021</th>\n",
       "      <td>153028.0</td>\n",
       "      <td>47.896370</td>\n",
       "      <td>151.089488</td>\n",
       "      <td>0.00</td>\n",
       "      <td>18.27</td>\n",
       "      <td>34.50</td>\n",
       "      <td>50.380</td>\n",
       "      <td>3772.25</td>\n",
       "    </tr>\n",
       "  </tbody>\n",
       "</table>\n",
       "</div>"
      ],
      "text/plain": [
       "              count       mean         std   min    25%    50%     75%  \\\n",
       "TimeStamp                                                                \n",
       "2019        16719.0  59.579169   47.443451  1.93  27.57  43.02  76.425   \n",
       "2020       237305.0  59.988219  224.187822  0.00  20.22  37.47  56.030   \n",
       "2021       153028.0  47.896370  151.089488  0.00  18.27  34.50  50.380   \n",
       "\n",
       "               max  \n",
       "TimeStamp           \n",
       "2019        609.17  \n",
       "2020       3663.30  \n",
       "2021       3772.25  "
      ]
     },
     "execution_count": 155,
     "metadata": {},
     "output_type": "execute_result"
    }
   ],
   "source": [
    "channel_one.groupby(channel_one.TimeStamp.dt.year)['pm2_5'].describe()"
   ]
  },
  {
   "cell_type": "code",
   "execution_count": 153,
   "metadata": {
    "scrolled": true
   },
   "outputs": [
    {
     "data": {
      "image/png": "[encoded data removed]",
      "text/plain": [
       "<Figure size 1152x504 with 1 Axes>"
      ]
     },
     "metadata": {
      "needs_background": "light"
     },
     "output_type": "display_data"
    }
   ],
   "source": [
    "plt.figure(figsize=(16,7))\n",
    "\n",
    "ax=sns.boxplot(x=channel_one.TimeStamp.dt.year, y='pm2_5', data=channel_one, orient='v', palette = sns.color_palette(\"deep\", 5))\n",
    "ax.set(ylim=(-50, 600))\n",
    "\n",
    "plt.title('Boxplots of Hourly PM 2.5 by Year', fontsize=16)\n",
    "plt.xlabel('')\n",
    "plt.ylabel('ug/m^3', fontsize=12);"
   ]
  },
  {
   "cell_type": "code",
   "execution_count": null,
   "metadata": {
    "scrolled": true
   },
   "outputs": [],
   "source": [
    "fig = plt.figure(figsize=(14,10))\n",
    "testing[['date', 'pm2_5', 'pm10', 's2_pm2_5', 's2_pm10']].plot(x='date', subplots=True, layout=(2,2),\n",
    "                                                              figsize=(14,10), sharex=False, rot=45)\n",
    "plt.tight_layout(pad=5)"
   ]
  },
  {
   "cell_type": "code",
   "execution_count": 25,
   "metadata": {},
   "outputs": [],
   "source": [
    "#delta = datetime.timedelta(hours=24)"
   ]
  },
  {
   "cell_type": "code",
   "execution_count": 27,
   "metadata": {},
   "outputs": [],
   "source": [
    "pd.to_numeric?"
   ]
  },
  {
   "cell_type": "code",
   "execution_count": null,
   "metadata": {},
   "outputs": [],
   "source": []
  }
 ],
 "metadata": {
  "kernelspec": {
   "display_name": "Python 3",
   "language": "python",
   "name": "python3"
  },
  "language_info": {
   "codemirror_mode": {
    "name": "ipython",
    "version": 3
   },
   "file_extension": ".py",
   "mimetype": "text/x-python",
   "name": "python",
   "nbconvert_exporter": "python",
   "pygments_lexer": "ipython3",
   "version": "3.8.2"
  }
 },
 "nbformat": 4,
 "nbformat_minor": 4
}
