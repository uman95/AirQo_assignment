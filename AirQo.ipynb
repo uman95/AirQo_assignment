{
 "cells": [
  {
   "cell_type": "code",
   "execution_count": 178,
   "metadata": {},
   "outputs": [],
   "source": [
    "import os\n",
    "import numpy as np\n",
    "import pandas as pd\n",
    "import datetime\n",
    "from scipy.optimize import curve_fit\n",
    "from scipy import stats\n",
    "import matplotlib.pyplot as plt\n",
    "import seaborn as sns"
   ]
  },
  {
   "cell_type": "code",
   "execution_count": 492,
   "metadata": {},
   "outputs": [
    {
     "data": {
      "text/plain": [
       "[        channel_id   pm2_5    pm10  s2_pm2_5  s2_pm10            Site  \\\n",
       " 142033      912223   38.68   46.42     37.45    45.18  Banda, Kampala   \n",
       " 251814      912223   61.58   76.35     59.92    73.58  Banda, Kampala   \n",
       " 230583      912223   40.60   48.85     41.35    49.92  Banda, Kampala   \n",
       " 374368      912223    0.00    0.00     78.85    93.12  Banda, Kampala   \n",
       " 27502       912223   50.68   64.20     50.65    64.13  Banda, Kampala   \n",
       " ...            ...     ...     ...       ...      ...             ...   \n",
       " 78390       912223   11.55   12.17      9.23    11.93  Banda, Kampala   \n",
       " 361322      912223    0.00    0.00     39.97    49.08  Banda, Kampala   \n",
       " 136090      912223   40.02   50.47     37.08    45.10  Banda, Kampala   \n",
       " 147577      912223  119.33  139.87    116.30   128.15  Banda, Kampala   \n",
       " 152935      912223   39.82   46.93     37.22    45.12  Banda, Kampala   \n",
       " \n",
       "                  TimeStamp  \n",
       " 142033 2020-06-23 08:22:11  \n",
       " 251814 2020-12-26 22:16:28  \n",
       " 230583 2020-11-07 13:57:28  \n",
       " 374368 2021-08-22 15:59:40  \n",
       " 27502  2020-01-16 17:05:10  \n",
       " ...                    ...  \n",
       " 78390  2020-03-25 18:11:06  \n",
       " 361322 2021-07-27 15:27:54  \n",
       " 136090 2020-06-15 15:32:17  \n",
       " 147577 2020-06-29 20:09:45  \n",
       " 152935 2020-07-06 05:54:45  \n",
       " \n",
       " [284936 rows x 7 columns],\n",
       "         channel_id   pm2_5    pm10  s2_pm2_5  s2_pm10            Site  \\\n",
       " 186147      912223    0.00    0.00     86.58   103.15  Banda, Kampala   \n",
       " 296422      912223   95.10  109.78     94.33   106.10  Banda, Kampala   \n",
       " 231655      912223   17.83   18.10     19.35    21.23  Banda, Kampala   \n",
       " 34025       912223  140.32  153.15    135.23   147.75  Banda, Kampala   \n",
       " 338341      912223   28.25   30.83     32.23    36.85  Banda, Kampala   \n",
       " ...            ...     ...     ...       ...      ...             ...   \n",
       " 388761      912223   36.67   51.93     35.50    41.60  Banda, Kampala   \n",
       " 7606        912223   15.57   16.23     12.23    13.78  Banda, Kampala   \n",
       " 244093      912223   35.77   44.05     37.60    46.52  Banda, Kampala   \n",
       " 370849      912223   78.20   86.35     64.78    76.88  Banda, Kampala   \n",
       " 147916      912223   32.37   37.22     28.62    31.05  Banda, Kampala   \n",
       " \n",
       "                  TimeStamp  \n",
       " 186147 2020-08-30 16:26:36  \n",
       " 296422 2021-03-26 03:14:10  \n",
       " 231655 2020-11-09 13:37:41  \n",
       " 34025  2020-01-25 16:41:02  \n",
       " 338341 2021-06-16 09:52:07  \n",
       " ...                    ...  \n",
       " 388761 2021-10-09 06:47:14  \n",
       " 7606   2019-12-19 09:24:47  \n",
       " 244093 2020-12-10 09:12:50  \n",
       " 370849 2021-08-15 20:59:49  \n",
       " 147916 2020-06-30 09:27:25  \n",
       " \n",
       " [122116 rows x 7 columns],\n",
       "                      channel_id   pm2_5    pm10  s2_pm2_5  s2_pm10  \\\n",
       " TimeStamp                                                            \n",
       " 2020-06-23 08:22:11      912223   38.68   46.42     37.45    45.18   \n",
       " 2020-12-26 22:16:28      912223   61.58   76.35     59.92    73.58   \n",
       " 2020-11-07 13:57:28      912223   40.60   48.85     41.35    49.92   \n",
       " 2021-08-22 15:59:40      912223    0.00    0.00     78.85    93.12   \n",
       " 2020-01-16 17:05:10      912223   50.68   64.20     50.65    64.13   \n",
       " ...                         ...     ...     ...       ...      ...   \n",
       " 2020-03-25 18:11:06      912223   11.55   12.17      9.23    11.93   \n",
       " 2021-07-27 15:27:54      912223    0.00    0.00     39.97    49.08   \n",
       " 2020-06-15 15:32:17      912223   40.02   50.47     37.08    45.10   \n",
       " 2020-06-29 20:09:45      912223  119.33  139.87    116.30   128.15   \n",
       " 2020-07-06 05:54:45      912223   39.82   46.93     37.22    45.12   \n",
       " \n",
       "                                Site  \n",
       " TimeStamp                            \n",
       " 2020-06-23 08:22:11  Banda, Kampala  \n",
       " 2020-12-26 22:16:28  Banda, Kampala  \n",
       " 2020-11-07 13:57:28  Banda, Kampala  \n",
       " 2021-08-22 15:59:40  Banda, Kampala  \n",
       " 2020-01-16 17:05:10  Banda, Kampala  \n",
       " ...                             ...  \n",
       " 2020-03-25 18:11:06  Banda, Kampala  \n",
       " 2021-07-27 15:27:54  Banda, Kampala  \n",
       " 2020-06-15 15:32:17  Banda, Kampala  \n",
       " 2020-06-29 20:09:45  Banda, Kampala  \n",
       " 2020-07-06 05:54:45  Banda, Kampala  \n",
       " \n",
       " [284936 rows x 6 columns],\n",
       "                      channel_id   pm2_5    pm10  s2_pm2_5  s2_pm10  \\\n",
       " TimeStamp                                                            \n",
       " 2020-08-30 16:26:36      912223    0.00    0.00     86.58   103.15   \n",
       " 2021-03-26 03:14:10      912223   95.10  109.78     94.33   106.10   \n",
       " 2020-11-09 13:37:41      912223   17.83   18.10     19.35    21.23   \n",
       " 2020-01-25 16:41:02      912223  140.32  153.15    135.23   147.75   \n",
       " 2021-06-16 09:52:07      912223   28.25   30.83     32.23    36.85   \n",
       " ...                         ...     ...     ...       ...      ...   \n",
       " 2021-10-09 06:47:14      912223   36.67   51.93     35.50    41.60   \n",
       " 2019-12-19 09:24:47      912223   15.57   16.23     12.23    13.78   \n",
       " 2020-12-10 09:12:50      912223   35.77   44.05     37.60    46.52   \n",
       " 2021-08-15 20:59:49      912223   78.20   86.35     64.78    76.88   \n",
       " 2020-06-30 09:27:25      912223   32.37   37.22     28.62    31.05   \n",
       " \n",
       "                                Site  \n",
       " TimeStamp                            \n",
       " 2020-08-30 16:26:36  Banda, Kampala  \n",
       " 2021-03-26 03:14:10  Banda, Kampala  \n",
       " 2020-11-09 13:37:41  Banda, Kampala  \n",
       " 2020-01-25 16:41:02  Banda, Kampala  \n",
       " 2021-06-16 09:52:07  Banda, Kampala  \n",
       " ...                             ...  \n",
       " 2021-10-09 06:47:14  Banda, Kampala  \n",
       " 2019-12-19 09:24:47  Banda, Kampala  \n",
       " 2020-12-10 09:12:50  Banda, Kampala  \n",
       " 2021-08-15 20:59:49  Banda, Kampala  \n",
       " 2020-06-30 09:27:25  Banda, Kampala  \n",
       " \n",
       " [122116 rows x 6 columns]]"
      ]
     },
     "execution_count": 492,
     "metadata": {},
     "output_type": "execute_result"
    }
   ],
   "source": [
    "train_test_split(channel_one, channel_one_new, test_size=0.3)"
   ]
  },
  {
   "cell_type": "code",
   "execution_count": 494,
   "metadata": {},
   "outputs": [
    {
     "ename": "ValueError",
     "evalue": "could not convert string to float: 'Banda, Kampala'",
     "output_type": "error",
     "traceback": [
      "\u001b[0;31m---------------------------------------------------------------------------\u001b[0m",
      "\u001b[0;31mValueError\u001b[0m                                Traceback (most recent call last)",
      "\u001b[0;32m<ipython-input-494-0f6177cf3c50>\u001b[0m in \u001b[0;36m<module>\u001b[0;34m\u001b[0m\n\u001b[0;32m----> 1\u001b[0;31m \u001b[0mscaler\u001b[0m\u001b[0;34m.\u001b[0m\u001b[0mfit\u001b[0m\u001b[0;34m(\u001b[0m\u001b[0mchannel_one\u001b[0m\u001b[0;34m)\u001b[0m\u001b[0;34m\u001b[0m\u001b[0;34m\u001b[0m\u001b[0m\n\u001b[0m",
      "\u001b[0;32m~/.local/lib/python3.8/site-packages/sklearn/preprocessing/_data.py\u001b[0m in \u001b[0;36mfit\u001b[0;34m(self, X, y)\u001b[0m\n\u001b[1;32m   1198\u001b[0m         \u001b[0;31m# at fit, convert sparse matrices to csc for optimized computation of\u001b[0m\u001b[0;34m\u001b[0m\u001b[0;34m\u001b[0m\u001b[0;34m\u001b[0m\u001b[0m\n\u001b[1;32m   1199\u001b[0m         \u001b[0;31m# the quantiles\u001b[0m\u001b[0;34m\u001b[0m\u001b[0;34m\u001b[0m\u001b[0;34m\u001b[0m\u001b[0m\n\u001b[0;32m-> 1200\u001b[0;31m         X = self._validate_data(X, accept_sparse='csc', estimator=self,\n\u001b[0m\u001b[1;32m   1201\u001b[0m                                 \u001b[0mdtype\u001b[0m\u001b[0;34m=\u001b[0m\u001b[0mFLOAT_DTYPES\u001b[0m\u001b[0;34m,\u001b[0m\u001b[0;34m\u001b[0m\u001b[0;34m\u001b[0m\u001b[0m\n\u001b[1;32m   1202\u001b[0m                                 force_all_finite='allow-nan')\n",
      "\u001b[0;32m~/.local/lib/python3.8/site-packages/sklearn/base.py\u001b[0m in \u001b[0;36m_validate_data\u001b[0;34m(self, X, y, reset, validate_separately, **check_params)\u001b[0m\n\u001b[1;32m    418\u001b[0m                     \u001b[0;34mf\"requires y to be passed, but the target y is None.\"\u001b[0m\u001b[0;34m\u001b[0m\u001b[0;34m\u001b[0m\u001b[0m\n\u001b[1;32m    419\u001b[0m                 )\n\u001b[0;32m--> 420\u001b[0;31m             \u001b[0mX\u001b[0m \u001b[0;34m=\u001b[0m \u001b[0mcheck_array\u001b[0m\u001b[0;34m(\u001b[0m\u001b[0mX\u001b[0m\u001b[0;34m,\u001b[0m \u001b[0;34m**\u001b[0m\u001b[0mcheck_params\u001b[0m\u001b[0;34m)\u001b[0m\u001b[0;34m\u001b[0m\u001b[0;34m\u001b[0m\u001b[0m\n\u001b[0m\u001b[1;32m    421\u001b[0m             \u001b[0mout\u001b[0m \u001b[0;34m=\u001b[0m \u001b[0mX\u001b[0m\u001b[0;34m\u001b[0m\u001b[0;34m\u001b[0m\u001b[0m\n\u001b[1;32m    422\u001b[0m         \u001b[0;32melse\u001b[0m\u001b[0;34m:\u001b[0m\u001b[0;34m\u001b[0m\u001b[0;34m\u001b[0m\u001b[0m\n",
      "\u001b[0;32m~/.local/lib/python3.8/site-packages/sklearn/utils/validation.py\u001b[0m in \u001b[0;36minner_f\u001b[0;34m(*args, **kwargs)\u001b[0m\n\u001b[1;32m     71\u001b[0m                           FutureWarning)\n\u001b[1;32m     72\u001b[0m         \u001b[0mkwargs\u001b[0m\u001b[0;34m.\u001b[0m\u001b[0mupdate\u001b[0m\u001b[0;34m(\u001b[0m\u001b[0;34m{\u001b[0m\u001b[0mk\u001b[0m\u001b[0;34m:\u001b[0m \u001b[0marg\u001b[0m \u001b[0;32mfor\u001b[0m \u001b[0mk\u001b[0m\u001b[0;34m,\u001b[0m \u001b[0marg\u001b[0m \u001b[0;32min\u001b[0m \u001b[0mzip\u001b[0m\u001b[0;34m(\u001b[0m\u001b[0msig\u001b[0m\u001b[0;34m.\u001b[0m\u001b[0mparameters\u001b[0m\u001b[0;34m,\u001b[0m \u001b[0margs\u001b[0m\u001b[0;34m)\u001b[0m\u001b[0;34m}\u001b[0m\u001b[0;34m)\u001b[0m\u001b[0;34m\u001b[0m\u001b[0;34m\u001b[0m\u001b[0m\n\u001b[0;32m---> 73\u001b[0;31m         \u001b[0;32mreturn\u001b[0m \u001b[0mf\u001b[0m\u001b[0;34m(\u001b[0m\u001b[0;34m**\u001b[0m\u001b[0mkwargs\u001b[0m\u001b[0;34m)\u001b[0m\u001b[0;34m\u001b[0m\u001b[0;34m\u001b[0m\u001b[0m\n\u001b[0m\u001b[1;32m     74\u001b[0m     \u001b[0;32mreturn\u001b[0m \u001b[0minner_f\u001b[0m\u001b[0;34m\u001b[0m\u001b[0;34m\u001b[0m\u001b[0m\n\u001b[1;32m     75\u001b[0m \u001b[0;34m\u001b[0m\u001b[0m\n",
      "\u001b[0;32m~/.local/lib/python3.8/site-packages/sklearn/utils/validation.py\u001b[0m in \u001b[0;36mcheck_array\u001b[0;34m(array, accept_sparse, accept_large_sparse, dtype, order, copy, force_all_finite, ensure_2d, allow_nd, ensure_min_samples, ensure_min_features, estimator)\u001b[0m\n\u001b[1;32m    597\u001b[0m                     \u001b[0marray\u001b[0m \u001b[0;34m=\u001b[0m \u001b[0marray\u001b[0m\u001b[0;34m.\u001b[0m\u001b[0mastype\u001b[0m\u001b[0;34m(\u001b[0m\u001b[0mdtype\u001b[0m\u001b[0;34m,\u001b[0m \u001b[0mcasting\u001b[0m\u001b[0;34m=\u001b[0m\u001b[0;34m\"unsafe\"\u001b[0m\u001b[0;34m,\u001b[0m \u001b[0mcopy\u001b[0m\u001b[0;34m=\u001b[0m\u001b[0;32mFalse\u001b[0m\u001b[0;34m)\u001b[0m\u001b[0;34m\u001b[0m\u001b[0;34m\u001b[0m\u001b[0m\n\u001b[1;32m    598\u001b[0m                 \u001b[0;32melse\u001b[0m\u001b[0;34m:\u001b[0m\u001b[0;34m\u001b[0m\u001b[0;34m\u001b[0m\u001b[0m\n\u001b[0;32m--> 599\u001b[0;31m                     \u001b[0marray\u001b[0m \u001b[0;34m=\u001b[0m \u001b[0mnp\u001b[0m\u001b[0;34m.\u001b[0m\u001b[0masarray\u001b[0m\u001b[0;34m(\u001b[0m\u001b[0marray\u001b[0m\u001b[0;34m,\u001b[0m \u001b[0morder\u001b[0m\u001b[0;34m=\u001b[0m\u001b[0morder\u001b[0m\u001b[0;34m,\u001b[0m \u001b[0mdtype\u001b[0m\u001b[0;34m=\u001b[0m\u001b[0mdtype\u001b[0m\u001b[0;34m)\u001b[0m\u001b[0;34m\u001b[0m\u001b[0;34m\u001b[0m\u001b[0m\n\u001b[0m\u001b[1;32m    600\u001b[0m             \u001b[0;32mexcept\u001b[0m \u001b[0mComplexWarning\u001b[0m\u001b[0;34m:\u001b[0m\u001b[0;34m\u001b[0m\u001b[0;34m\u001b[0m\u001b[0m\n\u001b[1;32m    601\u001b[0m                 raise ValueError(\"Complex data not supported\\n\"\n",
      "\u001b[0;32m~/.local/lib/python3.8/site-packages/numpy/core/_asarray.py\u001b[0m in \u001b[0;36masarray\u001b[0;34m(a, dtype, order)\u001b[0m\n\u001b[1;32m     83\u001b[0m \u001b[0;34m\u001b[0m\u001b[0m\n\u001b[1;32m     84\u001b[0m     \"\"\"\n\u001b[0;32m---> 85\u001b[0;31m     \u001b[0;32mreturn\u001b[0m \u001b[0marray\u001b[0m\u001b[0;34m(\u001b[0m\u001b[0ma\u001b[0m\u001b[0;34m,\u001b[0m \u001b[0mdtype\u001b[0m\u001b[0;34m,\u001b[0m \u001b[0mcopy\u001b[0m\u001b[0;34m=\u001b[0m\u001b[0;32mFalse\u001b[0m\u001b[0;34m,\u001b[0m \u001b[0morder\u001b[0m\u001b[0;34m=\u001b[0m\u001b[0morder\u001b[0m\u001b[0;34m)\u001b[0m\u001b[0;34m\u001b[0m\u001b[0;34m\u001b[0m\u001b[0m\n\u001b[0m\u001b[1;32m     86\u001b[0m \u001b[0;34m\u001b[0m\u001b[0m\n\u001b[1;32m     87\u001b[0m \u001b[0;34m\u001b[0m\u001b[0m\n",
      "\u001b[0;31mValueError\u001b[0m: could not convert string to float: 'Banda, Kampala'"
     ]
    }
   ],
   "source": [
    "scaler.fit(channel_one)"
   ]
  },
  {
   "cell_type": "code",
   "execution_count": 179,
   "metadata": {},
   "outputs": [
    {
     "name": "stdout",
     "output_type": "stream",
     "text": [
      "Exact number of rows: 23567842\n"
     ]
    }
   ],
   "source": [
    "with open('airquality-dataset/sample_dataset.csv') as file:\n",
    "    n_rows = len(file.readlines())\n",
    "\n",
    "print (f'Exact number of rows: {n_rows}')"
   ]
  },
  {
   "cell_type": "code",
   "execution_count": 180,
   "metadata": {},
   "outputs": [],
   "source": [
    "Data = pd.read_csv('airquality-dataset/sample_dataset.csv', index_col=0, chunksize=50)"
   ]
  },
  {
   "cell_type": "code",
   "execution_count": 186,
   "metadata": {},
   "outputs": [
    {
     "name": "stdout",
     "output_type": "stream",
     "text": [
      "<class 'pandas.core.frame.DataFrame'>\n",
      "Int64Index: 50 entries, 50 to 99\n",
      "Data columns (total 7 columns):\n",
      " #   Column      Non-Null Count  Dtype  \n",
      "---  ------      --------------  -----  \n",
      " 0   channel_id  50 non-null     int64  \n",
      " 1   pm2_5       50 non-null     float64\n",
      " 2   pm10        50 non-null     float64\n",
      " 3   s2_pm2_5    50 non-null     float64\n",
      " 4   s2_pm10     50 non-null     float64\n",
      " 5   Site        50 non-null     object \n",
      " 6   TimeStamp   50 non-null     object \n",
      "dtypes: float64(4), int64(1), object(2)\n",
      "memory usage: 3.1+ KB\n"
     ]
    }
   ],
   "source": [
    "Data.get_chunk().info()"
   ]
  },
  {
   "cell_type": "code",
   "execution_count": 187,
   "metadata": {},
   "outputs": [],
   "source": [
    "dataType = {'channel_id' : 'uint32',\n",
    "            'pm2_5' : 'float32',\n",
    "            'pm10' : 'float32',\n",
    "            's2_pm2_5' : 'float32',\n",
    "            's2_pm10' : 'float32',\n",
    "            'Site' : 'str',\n",
    "            'TimeStamp' : 'str'\n",
    "           }"
   ]
  },
  {
   "cell_type": "code",
   "execution_count": 188,
   "metadata": {},
   "outputs": [],
   "source": [
    "def load_data(dataPath, dataType: dict) -> pd.core.frame.DataFrame:\n",
    "    data = pd.read_csv(dataPath, dtype=dataType, index_col=0)\n",
    "    data = data.drop_duplicates(ignore_index=True)\n",
    "    data['TimeStamp'] = pd.to_datetime(data['TimeStamp'])\n",
    "    \n",
    "    return data"
   ]
  },
  {
   "cell_type": "code",
   "execution_count": 189,
   "metadata": {},
   "outputs": [
    {
     "name": "stderr",
     "output_type": "stream",
     "text": [
      "/home/usman/.local/lib/python3.8/site-packages/numpy/lib/arraysetops.py:569: FutureWarning: elementwise comparison failed; returning scalar instead, but in the future will perform elementwise comparison\n",
      "  mask |= (ar1 == a)\n"
     ]
    }
   ],
   "source": [
    "data = load_data(dataPath='airquality-dataset/sample_dataset.csv', dataType=dataType)"
   ]
  },
  {
   "cell_type": "code",
   "execution_count": 190,
   "metadata": {},
   "outputs": [
    {
     "data": {
      "text/html": [
       "<div>\n",
       "<style scoped>\n",
       "    .dataframe tbody tr th:only-of-type {\n",
       "        vertical-align: middle;\n",
       "    }\n",
       "\n",
       "    .dataframe tbody tr th {\n",
       "        vertical-align: top;\n",
       "    }\n",
       "\n",
       "    .dataframe thead th {\n",
       "        text-align: right;\n",
       "    }\n",
       "</style>\n",
       "<table border=\"1\" class=\"dataframe\">\n",
       "  <thead>\n",
       "    <tr style=\"text-align: right;\">\n",
       "      <th></th>\n",
       "      <th>channel_id</th>\n",
       "      <th>pm2_5</th>\n",
       "      <th>pm10</th>\n",
       "      <th>s2_pm2_5</th>\n",
       "      <th>s2_pm10</th>\n",
       "      <th>Site</th>\n",
       "      <th>TimeStamp</th>\n",
       "    </tr>\n",
       "  </thead>\n",
       "  <tbody>\n",
       "    <tr>\n",
       "      <th>0</th>\n",
       "      <td>912223</td>\n",
       "      <td>37.020000</td>\n",
       "      <td>45.230000</td>\n",
       "      <td>34.070000</td>\n",
       "      <td>39.820000</td>\n",
       "      <td>Banda, Kampala</td>\n",
       "      <td>2019-11-27 13:24:45</td>\n",
       "    </tr>\n",
       "    <tr>\n",
       "      <th>1</th>\n",
       "      <td>912223</td>\n",
       "      <td>41.700001</td>\n",
       "      <td>50.700001</td>\n",
       "      <td>38.549999</td>\n",
       "      <td>47.430000</td>\n",
       "      <td>Banda, Kampala</td>\n",
       "      <td>2019-11-27 13:26:13</td>\n",
       "    </tr>\n",
       "    <tr>\n",
       "      <th>2</th>\n",
       "      <td>912223</td>\n",
       "      <td>42.150002</td>\n",
       "      <td>52.869999</td>\n",
       "      <td>40.549999</td>\n",
       "      <td>49.950001</td>\n",
       "      <td>Banda, Kampala</td>\n",
       "      <td>2019-11-27 13:30:53</td>\n",
       "    </tr>\n",
       "    <tr>\n",
       "      <th>3</th>\n",
       "      <td>912223</td>\n",
       "      <td>45.099998</td>\n",
       "      <td>57.020000</td>\n",
       "      <td>44.750000</td>\n",
       "      <td>55.029999</td>\n",
       "      <td>Banda, Kampala</td>\n",
       "      <td>2019-11-27 13:32:22</td>\n",
       "    </tr>\n",
       "    <tr>\n",
       "      <th>4</th>\n",
       "      <td>912223</td>\n",
       "      <td>41.720001</td>\n",
       "      <td>52.080002</td>\n",
       "      <td>40.000000</td>\n",
       "      <td>49.200001</td>\n",
       "      <td>Banda, Kampala</td>\n",
       "      <td>2019-11-27 13:33:46</td>\n",
       "    </tr>\n",
       "  </tbody>\n",
       "</table>\n",
       "</div>"
      ],
      "text/plain": [
       "   channel_id      pm2_5       pm10   s2_pm2_5    s2_pm10            Site  \\\n",
       "0      912223  37.020000  45.230000  34.070000  39.820000  Banda, Kampala   \n",
       "1      912223  41.700001  50.700001  38.549999  47.430000  Banda, Kampala   \n",
       "2      912223  42.150002  52.869999  40.549999  49.950001  Banda, Kampala   \n",
       "3      912223  45.099998  57.020000  44.750000  55.029999  Banda, Kampala   \n",
       "4      912223  41.720001  52.080002  40.000000  49.200001  Banda, Kampala   \n",
       "\n",
       "            TimeStamp  \n",
       "0 2019-11-27 13:24:45  \n",
       "1 2019-11-27 13:26:13  \n",
       "2 2019-11-27 13:30:53  \n",
       "3 2019-11-27 13:32:22  \n",
       "4 2019-11-27 13:33:46  "
      ]
     },
     "execution_count": 190,
     "metadata": {},
     "output_type": "execute_result"
    }
   ],
   "source": [
    "data.head()"
   ]
  },
  {
   "cell_type": "code",
   "execution_count": 191,
   "metadata": {},
   "outputs": [
    {
     "name": "stdout",
     "output_type": "stream",
     "text": [
      "<class 'pandas.core.frame.DataFrame'>\n",
      "RangeIndex: 23530784 entries, 0 to 23530783\n",
      "Data columns (total 7 columns):\n",
      " #   Column      Dtype         \n",
      "---  ------      -----         \n",
      " 0   channel_id  uint32        \n",
      " 1   pm2_5       float32       \n",
      " 2   pm10        float32       \n",
      " 3   s2_pm2_5    float32       \n",
      " 4   s2_pm10     float32       \n",
      " 5   Site        object        \n",
      " 6   TimeStamp   datetime64[ns]\n",
      "dtypes: datetime64[ns](1), float32(4), object(1), uint32(1)\n",
      "memory usage: 807.9+ MB\n"
     ]
    }
   ],
   "source": [
    "data.info()"
   ]
  },
  {
   "cell_type": "code",
   "execution_count": 192,
   "metadata": {},
   "outputs": [],
   "source": [
    "channelSite = dict(zip(data['channel_id'].unique(), data['Site'].unique()))"
   ]
  },
  {
   "cell_type": "code",
   "execution_count": 193,
   "metadata": {},
   "outputs": [],
   "source": [
    "siteGroups = data.groupby('channel_id')"
   ]
  },
  {
   "cell_type": "code",
   "execution_count": 194,
   "metadata": {},
   "outputs": [
    {
     "name": "stdout",
     "output_type": "stream",
     "text": [
      "<class 'pandas.core.frame.DataFrame'>\n",
      "Int64Index: 467394 entries, 14371685 to 14839078\n",
      "Data columns (total 7 columns):\n",
      " #   Column      Non-Null Count   Dtype         \n",
      "---  ------      --------------   -----         \n",
      " 0   channel_id  467394 non-null  uint32        \n",
      " 1   pm2_5       467394 non-null  float32       \n",
      " 2   pm10        467394 non-null  float32       \n",
      " 3   s2_pm2_5    467394 non-null  float32       \n",
      " 4   s2_pm10     467394 non-null  float32       \n",
      " 5   Site        467394 non-null  object        \n",
      " 6   TimeStamp   467394 non-null  datetime64[ns]\n",
      "dtypes: datetime64[ns](1), float32(4), object(1), uint32(1)\n",
      "memory usage: 19.6+ MB\n"
     ]
    }
   ],
   "source": [
    "siteGroups.get_group(x).info()"
   ]
  },
  {
   "cell_type": "code",
   "execution_count": 197,
   "metadata": {},
   "outputs": [],
   "source": [
    "for x in siteGroups.groups:\n",
    "    if not os.path.exists('data_group'):\n",
    "        os.makedirs('data_group')\n",
    "    siteGroups.get_group(x).to_csv(f'data_group/{x}.csv')"
   ]
  },
  {
   "cell_type": "code",
   "execution_count": 198,
   "metadata": {},
   "outputs": [],
   "source": [
    "def readChannel(channelId: int, dataPath='data_group/') -> pd.core.frame.DataFrame:\n",
    "    path = dataPath + str(channelId) + '.csv'\n",
    "    channelData = pd.read_csv(path, index_col=0, parse_dates=['TimeStamp'])\n",
    "    return channelData"
   ]
  },
  {
   "cell_type": "code",
   "execution_count": 199,
   "metadata": {},
   "outputs": [],
   "source": [
    "channel_one = readChannel(channelId=list(channelSite.keys())[0])"
   ]
  },
  {
   "cell_type": "code",
   "execution_count": 469,
   "metadata": {},
   "outputs": [],
   "source": [
    "channel_one_new = channel_one.set_index(['TimeStamp'])"
   ]
  },
  {
   "cell_type": "code",
   "execution_count": 473,
   "metadata": {},
   "outputs": [
    {
     "data": {
      "text/html": [
       "<div>\n",
       "<style scoped>\n",
       "    .dataframe tbody tr th:only-of-type {\n",
       "        vertical-align: middle;\n",
       "    }\n",
       "\n",
       "    .dataframe tbody tr th {\n",
       "        vertical-align: top;\n",
       "    }\n",
       "\n",
       "    .dataframe thead th {\n",
       "        text-align: right;\n",
       "    }\n",
       "</style>\n",
       "<table border=\"1\" class=\"dataframe\">\n",
       "  <thead>\n",
       "    <tr style=\"text-align: right;\">\n",
       "      <th></th>\n",
       "      <th>channel_id</th>\n",
       "      <th>pm2_5</th>\n",
       "      <th>pm10</th>\n",
       "      <th>s2_pm2_5</th>\n",
       "      <th>s2_pm10</th>\n",
       "    </tr>\n",
       "    <tr>\n",
       "      <th>TimeStamp</th>\n",
       "      <th></th>\n",
       "      <th></th>\n",
       "      <th></th>\n",
       "      <th></th>\n",
       "      <th></th>\n",
       "    </tr>\n",
       "  </thead>\n",
       "  <tbody>\n",
       "    <tr>\n",
       "      <th>2019-11-27 13:00:00</th>\n",
       "      <td>912223.0</td>\n",
       "      <td>41.258947</td>\n",
       "      <td>51.221579</td>\n",
       "      <td>39.366842</td>\n",
       "      <td>48.085263</td>\n",
       "    </tr>\n",
       "    <tr>\n",
       "      <th>2019-11-27 14:00:00</th>\n",
       "      <td>912223.0</td>\n",
       "      <td>35.883077</td>\n",
       "      <td>43.583846</td>\n",
       "      <td>33.868718</td>\n",
       "      <td>39.694359</td>\n",
       "    </tr>\n",
       "    <tr>\n",
       "      <th>2019-11-27 15:00:00</th>\n",
       "      <td>912223.0</td>\n",
       "      <td>40.329231</td>\n",
       "      <td>49.360769</td>\n",
       "      <td>38.259744</td>\n",
       "      <td>46.074359</td>\n",
       "    </tr>\n",
       "    <tr>\n",
       "      <th>2019-11-27 16:00:00</th>\n",
       "      <td>912223.0</td>\n",
       "      <td>79.226667</td>\n",
       "      <td>90.660238</td>\n",
       "      <td>73.879048</td>\n",
       "      <td>84.298810</td>\n",
       "    </tr>\n",
       "    <tr>\n",
       "      <th>2019-11-27 17:00:00</th>\n",
       "      <td>912223.0</td>\n",
       "      <td>81.079250</td>\n",
       "      <td>90.701000</td>\n",
       "      <td>75.360000</td>\n",
       "      <td>84.586750</td>\n",
       "    </tr>\n",
       "    <tr>\n",
       "      <th>...</th>\n",
       "      <td>...</td>\n",
       "      <td>...</td>\n",
       "      <td>...</td>\n",
       "      <td>...</td>\n",
       "      <td>...</td>\n",
       "    </tr>\n",
       "    <tr>\n",
       "      <th>2021-11-16 02:00:00</th>\n",
       "      <td>NaN</td>\n",
       "      <td>NaN</td>\n",
       "      <td>NaN</td>\n",
       "      <td>NaN</td>\n",
       "      <td>NaN</td>\n",
       "    </tr>\n",
       "    <tr>\n",
       "      <th>2021-11-16 03:00:00</th>\n",
       "      <td>NaN</td>\n",
       "      <td>NaN</td>\n",
       "      <td>NaN</td>\n",
       "      <td>NaN</td>\n",
       "      <td>NaN</td>\n",
       "    </tr>\n",
       "    <tr>\n",
       "      <th>2021-11-16 04:00:00</th>\n",
       "      <td>NaN</td>\n",
       "      <td>NaN</td>\n",
       "      <td>NaN</td>\n",
       "      <td>NaN</td>\n",
       "      <td>NaN</td>\n",
       "    </tr>\n",
       "    <tr>\n",
       "      <th>2021-11-16 05:00:00</th>\n",
       "      <td>912223.0</td>\n",
       "      <td>45.170000</td>\n",
       "      <td>60.450000</td>\n",
       "      <td>46.580000</td>\n",
       "      <td>56.070000</td>\n",
       "    </tr>\n",
       "    <tr>\n",
       "      <th>2021-11-16 06:00:00</th>\n",
       "      <td>912223.0</td>\n",
       "      <td>44.580000</td>\n",
       "      <td>62.680000</td>\n",
       "      <td>41.230000</td>\n",
       "      <td>50.880000</td>\n",
       "    </tr>\n",
       "  </tbody>\n",
       "</table>\n",
       "<p>17274 rows × 5 columns</p>\n",
       "</div>"
      ],
      "text/plain": [
       "                     channel_id      pm2_5       pm10   s2_pm2_5    s2_pm10\n",
       "TimeStamp                                                                  \n",
       "2019-11-27 13:00:00    912223.0  41.258947  51.221579  39.366842  48.085263\n",
       "2019-11-27 14:00:00    912223.0  35.883077  43.583846  33.868718  39.694359\n",
       "2019-11-27 15:00:00    912223.0  40.329231  49.360769  38.259744  46.074359\n",
       "2019-11-27 16:00:00    912223.0  79.226667  90.660238  73.879048  84.298810\n",
       "2019-11-27 17:00:00    912223.0  81.079250  90.701000  75.360000  84.586750\n",
       "...                         ...        ...        ...        ...        ...\n",
       "2021-11-16 02:00:00         NaN        NaN        NaN        NaN        NaN\n",
       "2021-11-16 03:00:00         NaN        NaN        NaN        NaN        NaN\n",
       "2021-11-16 04:00:00         NaN        NaN        NaN        NaN        NaN\n",
       "2021-11-16 05:00:00    912223.0  45.170000  60.450000  46.580000  56.070000\n",
       "2021-11-16 06:00:00    912223.0  44.580000  62.680000  41.230000  50.880000\n",
       "\n",
       "[17274 rows x 5 columns]"
      ]
     },
     "execution_count": 473,
     "metadata": {},
     "output_type": "execute_result"
    }
   ],
   "source": [
    "channel_one_new.resample('H').mean()"
   ]
  },
  {
   "cell_type": "code",
   "execution_count": 330,
   "metadata": {},
   "outputs": [
    {
     "data": {
      "text/html": [
       "<div>\n",
       "<style scoped>\n",
       "    .dataframe tbody tr th:only-of-type {\n",
       "        vertical-align: middle;\n",
       "    }\n",
       "\n",
       "    .dataframe tbody tr th {\n",
       "        vertical-align: top;\n",
       "    }\n",
       "\n",
       "    .dataframe thead th {\n",
       "        text-align: right;\n",
       "    }\n",
       "</style>\n",
       "<table border=\"1\" class=\"dataframe\">\n",
       "  <thead>\n",
       "    <tr style=\"text-align: right;\">\n",
       "      <th></th>\n",
       "      <th>channel_id</th>\n",
       "      <th>pm2_5</th>\n",
       "      <th>pm10</th>\n",
       "      <th>s2_pm2_5</th>\n",
       "      <th>s2_pm10</th>\n",
       "    </tr>\n",
       "    <tr>\n",
       "      <th>TimeStamp</th>\n",
       "      <th></th>\n",
       "      <th></th>\n",
       "      <th></th>\n",
       "      <th></th>\n",
       "      <th></th>\n",
       "    </tr>\n",
       "  </thead>\n",
       "  <tbody>\n",
       "    <tr>\n",
       "      <th>2019-11-27 13:00:00</th>\n",
       "      <td>912223.0</td>\n",
       "      <td>41.258947</td>\n",
       "      <td>51.221579</td>\n",
       "      <td>39.366842</td>\n",
       "      <td>48.085263</td>\n",
       "    </tr>\n",
       "    <tr>\n",
       "      <th>2019-11-27 14:00:00</th>\n",
       "      <td>912223.0</td>\n",
       "      <td>35.883077</td>\n",
       "      <td>43.583846</td>\n",
       "      <td>33.868718</td>\n",
       "      <td>39.694359</td>\n",
       "    </tr>\n",
       "    <tr>\n",
       "      <th>2019-11-27 15:00:00</th>\n",
       "      <td>912223.0</td>\n",
       "      <td>40.329231</td>\n",
       "      <td>49.360769</td>\n",
       "      <td>38.259744</td>\n",
       "      <td>46.074359</td>\n",
       "    </tr>\n",
       "    <tr>\n",
       "      <th>2019-11-27 16:00:00</th>\n",
       "      <td>912223.0</td>\n",
       "      <td>79.226667</td>\n",
       "      <td>90.660238</td>\n",
       "      <td>73.879048</td>\n",
       "      <td>84.298810</td>\n",
       "    </tr>\n",
       "    <tr>\n",
       "      <th>2019-11-27 17:00:00</th>\n",
       "      <td>912223.0</td>\n",
       "      <td>81.079250</td>\n",
       "      <td>90.701000</td>\n",
       "      <td>75.360000</td>\n",
       "      <td>84.586750</td>\n",
       "    </tr>\n",
       "    <tr>\n",
       "      <th>...</th>\n",
       "      <td>...</td>\n",
       "      <td>...</td>\n",
       "      <td>...</td>\n",
       "      <td>...</td>\n",
       "      <td>...</td>\n",
       "    </tr>\n",
       "    <tr>\n",
       "      <th>2021-11-16 02:00:00</th>\n",
       "      <td>NaN</td>\n",
       "      <td>NaN</td>\n",
       "      <td>NaN</td>\n",
       "      <td>NaN</td>\n",
       "      <td>NaN</td>\n",
       "    </tr>\n",
       "    <tr>\n",
       "      <th>2021-11-16 03:00:00</th>\n",
       "      <td>NaN</td>\n",
       "      <td>NaN</td>\n",
       "      <td>NaN</td>\n",
       "      <td>NaN</td>\n",
       "      <td>NaN</td>\n",
       "    </tr>\n",
       "    <tr>\n",
       "      <th>2021-11-16 04:00:00</th>\n",
       "      <td>NaN</td>\n",
       "      <td>NaN</td>\n",
       "      <td>NaN</td>\n",
       "      <td>NaN</td>\n",
       "      <td>NaN</td>\n",
       "    </tr>\n",
       "    <tr>\n",
       "      <th>2021-11-16 05:00:00</th>\n",
       "      <td>912223.0</td>\n",
       "      <td>45.170000</td>\n",
       "      <td>60.450000</td>\n",
       "      <td>46.580000</td>\n",
       "      <td>56.070000</td>\n",
       "    </tr>\n",
       "    <tr>\n",
       "      <th>2021-11-16 06:00:00</th>\n",
       "      <td>912223.0</td>\n",
       "      <td>44.580000</td>\n",
       "      <td>62.680000</td>\n",
       "      <td>41.230000</td>\n",
       "      <td>50.880000</td>\n",
       "    </tr>\n",
       "  </tbody>\n",
       "</table>\n",
       "<p>17274 rows × 5 columns</p>\n",
       "</div>"
      ],
      "text/plain": [
       "                     channel_id      pm2_5       pm10   s2_pm2_5    s2_pm10\n",
       "TimeStamp                                                                  \n",
       "2019-11-27 13:00:00    912223.0  41.258947  51.221579  39.366842  48.085263\n",
       "2019-11-27 14:00:00    912223.0  35.883077  43.583846  33.868718  39.694359\n",
       "2019-11-27 15:00:00    912223.0  40.329231  49.360769  38.259744  46.074359\n",
       "2019-11-27 16:00:00    912223.0  79.226667  90.660238  73.879048  84.298810\n",
       "2019-11-27 17:00:00    912223.0  81.079250  90.701000  75.360000  84.586750\n",
       "...                         ...        ...        ...        ...        ...\n",
       "2021-11-16 02:00:00         NaN        NaN        NaN        NaN        NaN\n",
       "2021-11-16 03:00:00         NaN        NaN        NaN        NaN        NaN\n",
       "2021-11-16 04:00:00         NaN        NaN        NaN        NaN        NaN\n",
       "2021-11-16 05:00:00    912223.0  45.170000  60.450000  46.580000  56.070000\n",
       "2021-11-16 06:00:00    912223.0  44.580000  62.680000  41.230000  50.880000\n",
       "\n",
       "[17274 rows x 5 columns]"
      ]
     },
     "execution_count": 330,
     "metadata": {},
     "output_type": "execute_result"
    }
   ],
   "source": [
    "channel_one.groupby(pd.Grouper(key='TimeStamp', freq='1H')).mean()"
   ]
  },
  {
   "cell_type": "code",
   "execution_count": 368,
   "metadata": {},
   "outputs": [],
   "source": [
    "from sklearn.model_selection import train_test_split\n",
    "from sklearn.preprocessing import StandardScaler, MinMaxScaler, PowerTransformer, RobustScaler, QuantileTransformer\n",
    "from sklearn.linear_model import LinearRegression, Ridge\n",
    "from sklearn.multioutput import MultiOutputRegressor"
   ]
  },
  {
   "cell_type": "code",
   "execution_count": null,
   "metadata": {},
   "outputs": [],
   "source": []
  },
  {
   "cell_type": "code",
   "execution_count": 474,
   "metadata": {},
   "outputs": [],
   "source": [
    "def getFeatures(df: pd.core.frame.DataFrame) -> pd.core.frame.DataFrame:\n",
    "    df = df.drop(labels='channel_id', axis=1).groupby(pd.Grouper(key='TimeStamp', freq='1H')).mean().fillna(method='ffill')\n",
    "    df = df.assign(hour = df.index.hour,\n",
    "                   day = df.index.day,\n",
    "                   month = df.index.month,\n",
    "                   day_of_week = df.index.dayofweek,\n",
    "                   week_of_year = df.index.week)\n",
    "    \n",
    "    return df\n",
    "\n",
    "def generate_cyclical_features(df: pd.core.frame.DataFrame, col_name: list) -> pd.core.frame.DataFrame:\n",
    "    \n",
    "    \n",
    "    for time_col in col_name:\n",
    "        kwargs = {\n",
    "            f'sin_{time_col}' :lambda x: np.sin(2*np.pi*(x[time_col] - x[time_col].min()) / x[time_col].nunique()),\n",
    "            f'cos_{time_col}' :lambda x: np.cos(2*np.pi*(x[time_col] - x[time_col].min()) / x[time_col].nunique())    \n",
    "                 }\n",
    "        df_time = df.assign(**kwargs)[['sin_'+time_col, 'cos_'+time_col]]\n",
    "        \n",
    "        df = pd.concat([df, df_time], axis=1)\n",
    "    \n",
    "    return df\n",
    "\n",
    "def oneHotEncoding(df: pd.core.frame.DataFrame, col_name:list) -> pd.core.frame.DataFrame:\n",
    "    \n",
    "    return pd.get_dummies(data=df, columns=col_name, drop_first=True)\n",
    "    \n",
    "    \n",
    "def featureLabelSplit(df, target:list):\n",
    "    Y = df[target].to_numpy()\n",
    "    X = df.drop(columns=target).to_numpy()\n",
    "    return (X,Y)\n",
    "    \n",
    "def train_test_spliting(X , Y, test_ratio:float):\n",
    "    X_train, X_val, Y_train, Y_val = train_test_split(X, Y, test_size=test_ratio, shuffle=False)\n",
    "    return X_train, Y_train, X_val, Y_val"
   ]
  },
  {
   "cell_type": "code",
   "execution_count": 475,
   "metadata": {},
   "outputs": [],
   "source": [
    "MinMaxScaler?"
   ]
  },
  {
   "cell_type": "code",
   "execution_count": 446,
   "metadata": {},
   "outputs": [],
   "source": [
    "def scaler_transform(X, Y, scaler=\"standard\"):\n",
    "    scalers = {\n",
    "        \"minmax\": MinMaxScaler,\n",
    "        \"standard\": StandardScaler,\n",
    "        \"power\": PowerTransformer,\n",
    "        \"robust\": RobustScaler,\n",
    "        \"quantile\": QuantileTransformer\n",
    "    }\n",
    "    \n",
    "    scaler = scalers[scaler]()\n",
    "    X = scaler.fit_transform(X)\n",
    "    Y = scaler.fit_transform(Y)\n",
    "    \n",
    "    return scaler, X, Y"
   ]
  },
  {
   "cell_type": "code",
   "execution_count": 331,
   "metadata": {
    "scrolled": true
   },
   "outputs": [],
   "source": [
    "AA = getFeatures(channel_one)"
   ]
  },
  {
   "cell_type": "code",
   "execution_count": 334,
   "metadata": {},
   "outputs": [],
   "source": [
    "BB = generate_cyclical_features(AA, ['hour', 'day', 'month',\n",
    "       'day_of_week', 'week_of_year'])"
   ]
  },
  {
   "cell_type": "code",
   "execution_count": 348,
   "metadata": {},
   "outputs": [],
   "source": [
    "CC = oneHotEncoding(BB, col_name=['hour', 'day', 'month','day_of_week', 'week_of_year'])"
   ]
  },
  {
   "cell_type": "code",
   "execution_count": 361,
   "metadata": {},
   "outputs": [],
   "source": [
    "DD = featureLabelSplit(CC, target=['pm2_5', 'pm10', 's2_pm2_5', 's2_pm10'])"
   ]
  },
  {
   "cell_type": "code",
   "execution_count": 362,
   "metadata": {},
   "outputs": [],
   "source": [
    "P, Q = DD"
   ]
  },
  {
   "cell_type": "code",
   "execution_count": 409,
   "metadata": {},
   "outputs": [],
   "source": [
    "P_train, Q_train, P_val, Q_val = train_test_spliting(P, Q, test_ratio=0.3)"
   ]
  },
  {
   "cell_type": "code",
   "execution_count": 456,
   "metadata": {},
   "outputs": [],
   "source": [
    "scaler = RobustScaler()\n",
    "P_train_scale = scaler.fit_transform(P_train)\n",
    "P_val_scale = scaler.transform(P_val)\n",
    "\n",
    "Q_train_scale = scaler.fit_transform(Q_train)\n",
    "Q_val_scale = scaler.transform(Q_val)"
   ]
  },
  {
   "cell_type": "code",
   "execution_count": 457,
   "metadata": {},
   "outputs": [],
   "source": [
    "clf = MultiOutputRegressor(estimator=Ridge()).fit(P_train_scale, Q_train_scale)"
   ]
  },
  {
   "cell_type": "code",
   "execution_count": 458,
   "metadata": {},
   "outputs": [],
   "source": [
    "Y_pred = clf.predict(P_val_scale)"
   ]
  },
  {
   "cell_type": "code",
   "execution_count": 459,
   "metadata": {
    "scrolled": true
   },
   "outputs": [
    {
     "data": {
      "text/plain": [
       "array([[-1.13109931e+00, -1.14459786e+00, -1.09916293e+00,\n",
       "        -1.14221452e+00],\n",
       "       [-1.22479924e+00, -1.23414573e+00, -1.20370056e+00,\n",
       "        -1.24125185e+00],\n",
       "       [-1.26355555e+00, -1.27095796e+00, -1.23730050e+00,\n",
       "        -1.27265021e+00],\n",
       "       ...,\n",
       "       [-9.92626977e-02, -1.23147425e-01,  1.42712284e-01,\n",
       "         9.52877928e-02],\n",
       "       [ 6.32849306e-01,  4.93898803e-01,  4.87581634e-02,\n",
       "        -1.03394804e-04],\n",
       "       [-7.52379299e-02, -1.51281185e-01, -3.00242849e-01,\n",
       "        -3.36449483e-01]])"
      ]
     },
     "execution_count": 459,
     "metadata": {},
     "output_type": "execute_result"
    }
   ],
   "source": [
    "Y_pred"
   ]
  },
  {
   "cell_type": "code",
   "execution_count": 461,
   "metadata": {},
   "outputs": [
    {
     "data": {
      "text/plain": [
       "array([[-2.99202452, -0.92966754,  3.56811309,  5.04850126],\n",
       "       [-6.91736827, -5.28626198, -0.37708712,  0.65953674],\n",
       "       [-8.54097516, -7.07721457, -1.64513304, -0.73192136],\n",
       "       ...,\n",
       "       [40.23440732, 48.76492963, 50.43589382, 59.88997832],\n",
       "       [70.90456297, 78.78485303, 46.89010992, 55.66259742],\n",
       "       [41.24086994, 47.39619374, 33.71897752, 40.75699592]])"
      ]
     },
     "execution_count": 461,
     "metadata": {},
     "output_type": "execute_result"
    }
   ],
   "source": [
    "scaler.inverse_transform(Y_pred)"
   ]
  },
  {
   "cell_type": "code",
   "execution_count": 462,
   "metadata": {},
   "outputs": [
    {
     "data": {
      "text/plain": [
       "array([[10.7774359 , 11.75384615, 11.84435897, 13.20615385],\n",
       "       [ 7.7197619 ,  8.49119048,  8.7297619 ,  9.60833333],\n",
       "       [ 6.55266667,  7.19466667,  7.44688889,  8.08066667],\n",
       "       ...,\n",
       "       [55.364     , 75.686     , 53.398     , 65.636     ],\n",
       "       [45.17      , 60.45      , 46.58      , 56.07      ],\n",
       "       [44.58      , 62.68      , 41.23      , 50.88      ]])"
      ]
     },
     "execution_count": 462,
     "metadata": {},
     "output_type": "execute_result"
    }
   ],
   "source": [
    "Q_val"
   ]
  },
  {
   "cell_type": "code",
   "execution_count": 463,
   "metadata": {},
   "outputs": [
    {
     "data": {
      "text/plain": [
       "array([[-0.80241538, -0.88389385, -0.87986378, -0.95813643],\n",
       "       [-0.8754036 , -0.95095629, -0.96239256, -1.03932154],\n",
       "       [-0.90326275, -0.97760577, -0.99638539, -1.07379346],\n",
       "       ...,\n",
       "       [ 0.26188827,  0.43020325,  0.22120045,  0.22494723],\n",
       "       [ 0.01855238,  0.11703402,  0.04054105,  0.00908968],\n",
       "       [ 0.00446878,  0.16287068, -0.10122014, -0.10802309]])"
      ]
     },
     "execution_count": 463,
     "metadata": {},
     "output_type": "execute_result"
    }
   ],
   "source": [
    "Q_val_scale"
   ]
  },
  {
   "cell_type": "code",
   "execution_count": 464,
   "metadata": {},
   "outputs": [
    {
     "data": {
      "text/plain": [
       "array([[-1.13109931e+00, -1.14459786e+00, -1.09916293e+00,\n",
       "        -1.14221452e+00],\n",
       "       [-1.22479924e+00, -1.23414573e+00, -1.20370056e+00,\n",
       "        -1.24125185e+00],\n",
       "       [-1.26355555e+00, -1.27095796e+00, -1.23730050e+00,\n",
       "        -1.27265021e+00],\n",
       "       ...,\n",
       "       [-9.92626977e-02, -1.23147425e-01,  1.42712284e-01,\n",
       "         9.52877928e-02],\n",
       "       [ 6.32849306e-01,  4.93898803e-01,  4.87581634e-02,\n",
       "        -1.03394804e-04],\n",
       "       [-7.52379299e-02, -1.51281185e-01, -3.00242849e-01,\n",
       "        -3.36449483e-01]])"
      ]
     },
     "execution_count": 464,
     "metadata": {},
     "output_type": "execute_result"
    }
   ],
   "source": [
    "Y_pred"
   ]
  },
  {
   "cell_type": "code",
   "execution_count": 455,
   "metadata": {},
   "outputs": [
    {
     "data": {
      "text/plain": [
       "array([[0.01191101, 0.01478711, 0.0650449 , 0.07795967],\n",
       "       [0.01035905, 0.01258218, 0.0558709 , 0.06416411],\n",
       "       [0.01164261, 0.01424991, 0.06319763, 0.07465352],\n",
       "       ...,\n",
       "       [0.02262745, 0.02567023, 0.12775503, 0.14026273],\n",
       "       [0.00741109, 0.00825295, 0.04332026, 0.04878706],\n",
       "       [0.00354595, 0.00382041, 0.02138817, 0.0221616 ]])"
      ]
     },
     "execution_count": 455,
     "metadata": {},
     "output_type": "execute_result"
    }
   ],
   "source": [
    "Q_train_scale"
   ]
  },
  {
   "cell_type": "code",
   "execution_count": 440,
   "metadata": {},
   "outputs": [
    {
     "data": {
      "text/plain": [
       "array([[0.00308034, 0.00335941, 0.04204783, 0.04108246],\n",
       "       [0.00220641, 0.0024269 , 0.02852002, 0.02712673],\n",
       "       [0.00187284, 0.00205633, 0.02294805, 0.021201  ],\n",
       "       ...,\n",
       "       [0.01582378, 0.02163208, 0.22253018, 0.24445473],\n",
       "       [0.01291019, 0.01727742, 0.19291717, 0.20734878],\n",
       "       [0.01274156, 0.01791479, 0.1696802 , 0.18721708]])"
      ]
     },
     "execution_count": 440,
     "metadata": {},
     "output_type": "execute_result"
    }
   ],
   "source": [
    "Q_val_scale"
   ]
  },
  {
   "cell_type": "code",
   "execution_count": 223,
   "metadata": {},
   "outputs": [],
   "source": [
    "def generate_time_lags(df, n_lags):\n",
    "    df_n = df.copy()\n",
    "    for n in range(1, n_lags + 1):\n",
    "        df_n[f\"lag{n}\"] = df_n[\"pm2_5\"].shift(n)\n",
    "    df_n = df_n.iloc[n_lags:]\n",
    "    return df_n"
   ]
  },
  {
   "cell_type": "code",
   "execution_count": 224,
   "metadata": {},
   "outputs": [
    {
     "data": {
      "text/html": [
       "<div>\n",
       "<style scoped>\n",
       "    .dataframe tbody tr th:only-of-type {\n",
       "        vertical-align: middle;\n",
       "    }\n",
       "\n",
       "    .dataframe tbody tr th {\n",
       "        vertical-align: top;\n",
       "    }\n",
       "\n",
       "    .dataframe thead th {\n",
       "        text-align: right;\n",
       "    }\n",
       "</style>\n",
       "<table border=\"1\" class=\"dataframe\">\n",
       "  <thead>\n",
       "    <tr style=\"text-align: right;\">\n",
       "      <th></th>\n",
       "      <th>pm2_5</th>\n",
       "      <th>pm10</th>\n",
       "      <th>s2_pm2_5</th>\n",
       "      <th>s2_pm10</th>\n",
       "      <th>lag1</th>\n",
       "      <th>lag2</th>\n",
       "      <th>lag3</th>\n",
       "      <th>lag4</th>\n",
       "      <th>lag5</th>\n",
       "      <th>lag6</th>\n",
       "      <th>...</th>\n",
       "      <th>lag15</th>\n",
       "      <th>lag16</th>\n",
       "      <th>lag17</th>\n",
       "      <th>lag18</th>\n",
       "      <th>lag19</th>\n",
       "      <th>lag20</th>\n",
       "      <th>lag21</th>\n",
       "      <th>lag22</th>\n",
       "      <th>lag23</th>\n",
       "      <th>lag24</th>\n",
       "    </tr>\n",
       "    <tr>\n",
       "      <th>TimeStamp</th>\n",
       "      <th></th>\n",
       "      <th></th>\n",
       "      <th></th>\n",
       "      <th></th>\n",
       "      <th></th>\n",
       "      <th></th>\n",
       "      <th></th>\n",
       "      <th></th>\n",
       "      <th></th>\n",
       "      <th></th>\n",
       "      <th></th>\n",
       "      <th></th>\n",
       "      <th></th>\n",
       "      <th></th>\n",
       "      <th></th>\n",
       "      <th></th>\n",
       "      <th></th>\n",
       "      <th></th>\n",
       "      <th></th>\n",
       "      <th></th>\n",
       "      <th></th>\n",
       "    </tr>\n",
       "  </thead>\n",
       "  <tbody>\n",
       "    <tr>\n",
       "      <th>2019-11-28 13:00:00</th>\n",
       "      <td>30.688611</td>\n",
       "      <td>34.675833</td>\n",
       "      <td>28.362222</td>\n",
       "      <td>31.460556</td>\n",
       "      <td>30.525405</td>\n",
       "      <td>25.983953</td>\n",
       "      <td>31.153611</td>\n",
       "      <td>14.856818</td>\n",
       "      <td>17.107442</td>\n",
       "      <td>31.133953</td>\n",
       "      <td>...</td>\n",
       "      <td>0.000000</td>\n",
       "      <td>0.000000</td>\n",
       "      <td>116.990000</td>\n",
       "      <td>110.520800</td>\n",
       "      <td>82.615714</td>\n",
       "      <td>81.079250</td>\n",
       "      <td>79.226667</td>\n",
       "      <td>40.329231</td>\n",
       "      <td>35.883077</td>\n",
       "      <td>41.258947</td>\n",
       "    </tr>\n",
       "    <tr>\n",
       "      <th>2019-11-28 14:00:00</th>\n",
       "      <td>22.213421</td>\n",
       "      <td>24.083947</td>\n",
       "      <td>20.923158</td>\n",
       "      <td>22.537632</td>\n",
       "      <td>30.688611</td>\n",
       "      <td>30.525405</td>\n",
       "      <td>25.983953</td>\n",
       "      <td>31.153611</td>\n",
       "      <td>14.856818</td>\n",
       "      <td>17.107442</td>\n",
       "      <td>...</td>\n",
       "      <td>0.000000</td>\n",
       "      <td>0.000000</td>\n",
       "      <td>0.000000</td>\n",
       "      <td>116.990000</td>\n",
       "      <td>110.520800</td>\n",
       "      <td>82.615714</td>\n",
       "      <td>81.079250</td>\n",
       "      <td>79.226667</td>\n",
       "      <td>40.329231</td>\n",
       "      <td>35.883077</td>\n",
       "    </tr>\n",
       "    <tr>\n",
       "      <th>2019-11-28 15:00:00</th>\n",
       "      <td>23.437436</td>\n",
       "      <td>26.122564</td>\n",
       "      <td>21.779487</td>\n",
       "      <td>23.848974</td>\n",
       "      <td>22.213421</td>\n",
       "      <td>30.688611</td>\n",
       "      <td>30.525405</td>\n",
       "      <td>25.983953</td>\n",
       "      <td>31.153611</td>\n",
       "      <td>14.856818</td>\n",
       "      <td>...</td>\n",
       "      <td>0.000000</td>\n",
       "      <td>0.000000</td>\n",
       "      <td>0.000000</td>\n",
       "      <td>0.000000</td>\n",
       "      <td>116.990000</td>\n",
       "      <td>110.520800</td>\n",
       "      <td>82.615714</td>\n",
       "      <td>81.079250</td>\n",
       "      <td>79.226667</td>\n",
       "      <td>40.329231</td>\n",
       "    </tr>\n",
       "    <tr>\n",
       "      <th>2019-11-28 16:00:00</th>\n",
       "      <td>40.217500</td>\n",
       "      <td>49.051500</td>\n",
       "      <td>37.680000</td>\n",
       "      <td>44.879250</td>\n",
       "      <td>23.437436</td>\n",
       "      <td>22.213421</td>\n",
       "      <td>30.688611</td>\n",
       "      <td>30.525405</td>\n",
       "      <td>25.983953</td>\n",
       "      <td>31.153611</td>\n",
       "      <td>...</td>\n",
       "      <td>0.000000</td>\n",
       "      <td>0.000000</td>\n",
       "      <td>0.000000</td>\n",
       "      <td>0.000000</td>\n",
       "      <td>0.000000</td>\n",
       "      <td>116.990000</td>\n",
       "      <td>110.520800</td>\n",
       "      <td>82.615714</td>\n",
       "      <td>81.079250</td>\n",
       "      <td>79.226667</td>\n",
       "    </tr>\n",
       "    <tr>\n",
       "      <th>2019-11-28 17:00:00</th>\n",
       "      <td>87.453721</td>\n",
       "      <td>96.437907</td>\n",
       "      <td>80.326047</td>\n",
       "      <td>88.528140</td>\n",
       "      <td>40.217500</td>\n",
       "      <td>23.437436</td>\n",
       "      <td>22.213421</td>\n",
       "      <td>30.688611</td>\n",
       "      <td>30.525405</td>\n",
       "      <td>25.983953</td>\n",
       "      <td>...</td>\n",
       "      <td>0.000000</td>\n",
       "      <td>0.000000</td>\n",
       "      <td>0.000000</td>\n",
       "      <td>0.000000</td>\n",
       "      <td>0.000000</td>\n",
       "      <td>0.000000</td>\n",
       "      <td>116.990000</td>\n",
       "      <td>110.520800</td>\n",
       "      <td>82.615714</td>\n",
       "      <td>81.079250</td>\n",
       "    </tr>\n",
       "    <tr>\n",
       "      <th>...</th>\n",
       "      <td>...</td>\n",
       "      <td>...</td>\n",
       "      <td>...</td>\n",
       "      <td>...</td>\n",
       "      <td>...</td>\n",
       "      <td>...</td>\n",
       "      <td>...</td>\n",
       "      <td>...</td>\n",
       "      <td>...</td>\n",
       "      <td>...</td>\n",
       "      <td>...</td>\n",
       "      <td>...</td>\n",
       "      <td>...</td>\n",
       "      <td>...</td>\n",
       "      <td>...</td>\n",
       "      <td>...</td>\n",
       "      <td>...</td>\n",
       "      <td>...</td>\n",
       "      <td>...</td>\n",
       "      <td>...</td>\n",
       "      <td>...</td>\n",
       "    </tr>\n",
       "    <tr>\n",
       "      <th>2021-11-16 02:00:00</th>\n",
       "      <td>0.000000</td>\n",
       "      <td>0.000000</td>\n",
       "      <td>0.000000</td>\n",
       "      <td>0.000000</td>\n",
       "      <td>0.000000</td>\n",
       "      <td>0.000000</td>\n",
       "      <td>0.000000</td>\n",
       "      <td>0.000000</td>\n",
       "      <td>55.364000</td>\n",
       "      <td>39.253750</td>\n",
       "      <td>...</td>\n",
       "      <td>38.719070</td>\n",
       "      <td>31.557907</td>\n",
       "      <td>27.168864</td>\n",
       "      <td>26.934186</td>\n",
       "      <td>36.511628</td>\n",
       "      <td>41.242778</td>\n",
       "      <td>47.470000</td>\n",
       "      <td>0.000000</td>\n",
       "      <td>0.000000</td>\n",
       "      <td>0.000000</td>\n",
       "    </tr>\n",
       "    <tr>\n",
       "      <th>2021-11-16 03:00:00</th>\n",
       "      <td>0.000000</td>\n",
       "      <td>0.000000</td>\n",
       "      <td>0.000000</td>\n",
       "      <td>0.000000</td>\n",
       "      <td>0.000000</td>\n",
       "      <td>0.000000</td>\n",
       "      <td>0.000000</td>\n",
       "      <td>0.000000</td>\n",
       "      <td>0.000000</td>\n",
       "      <td>55.364000</td>\n",
       "      <td>...</td>\n",
       "      <td>33.848372</td>\n",
       "      <td>38.719070</td>\n",
       "      <td>31.557907</td>\n",
       "      <td>27.168864</td>\n",
       "      <td>26.934186</td>\n",
       "      <td>36.511628</td>\n",
       "      <td>41.242778</td>\n",
       "      <td>47.470000</td>\n",
       "      <td>0.000000</td>\n",
       "      <td>0.000000</td>\n",
       "    </tr>\n",
       "    <tr>\n",
       "      <th>2021-11-16 04:00:00</th>\n",
       "      <td>0.000000</td>\n",
       "      <td>0.000000</td>\n",
       "      <td>0.000000</td>\n",
       "      <td>0.000000</td>\n",
       "      <td>0.000000</td>\n",
       "      <td>0.000000</td>\n",
       "      <td>0.000000</td>\n",
       "      <td>0.000000</td>\n",
       "      <td>0.000000</td>\n",
       "      <td>0.000000</td>\n",
       "      <td>...</td>\n",
       "      <td>35.956977</td>\n",
       "      <td>33.848372</td>\n",
       "      <td>38.719070</td>\n",
       "      <td>31.557907</td>\n",
       "      <td>27.168864</td>\n",
       "      <td>26.934186</td>\n",
       "      <td>36.511628</td>\n",
       "      <td>41.242778</td>\n",
       "      <td>47.470000</td>\n",
       "      <td>0.000000</td>\n",
       "    </tr>\n",
       "    <tr>\n",
       "      <th>2021-11-16 05:00:00</th>\n",
       "      <td>45.170000</td>\n",
       "      <td>60.450000</td>\n",
       "      <td>46.580000</td>\n",
       "      <td>56.070000</td>\n",
       "      <td>0.000000</td>\n",
       "      <td>0.000000</td>\n",
       "      <td>0.000000</td>\n",
       "      <td>0.000000</td>\n",
       "      <td>0.000000</td>\n",
       "      <td>0.000000</td>\n",
       "      <td>...</td>\n",
       "      <td>38.830698</td>\n",
       "      <td>35.956977</td>\n",
       "      <td>33.848372</td>\n",
       "      <td>38.719070</td>\n",
       "      <td>31.557907</td>\n",
       "      <td>27.168864</td>\n",
       "      <td>26.934186</td>\n",
       "      <td>36.511628</td>\n",
       "      <td>41.242778</td>\n",
       "      <td>47.470000</td>\n",
       "    </tr>\n",
       "    <tr>\n",
       "      <th>2021-11-16 06:00:00</th>\n",
       "      <td>44.580000</td>\n",
       "      <td>62.680000</td>\n",
       "      <td>41.230000</td>\n",
       "      <td>50.880000</td>\n",
       "      <td>45.170000</td>\n",
       "      <td>0.000000</td>\n",
       "      <td>0.000000</td>\n",
       "      <td>0.000000</td>\n",
       "      <td>0.000000</td>\n",
       "      <td>0.000000</td>\n",
       "      <td>...</td>\n",
       "      <td>53.047674</td>\n",
       "      <td>38.830698</td>\n",
       "      <td>35.956977</td>\n",
       "      <td>33.848372</td>\n",
       "      <td>38.719070</td>\n",
       "      <td>31.557907</td>\n",
       "      <td>27.168864</td>\n",
       "      <td>26.934186</td>\n",
       "      <td>36.511628</td>\n",
       "      <td>41.242778</td>\n",
       "    </tr>\n",
       "  </tbody>\n",
       "</table>\n",
       "<p>17250 rows × 28 columns</p>\n",
       "</div>"
      ],
      "text/plain": [
       "                         pm2_5       pm10   s2_pm2_5    s2_pm10       lag1  \\\n",
       "TimeStamp                                                                    \n",
       "2019-11-28 13:00:00  30.688611  34.675833  28.362222  31.460556  30.525405   \n",
       "2019-11-28 14:00:00  22.213421  24.083947  20.923158  22.537632  30.688611   \n",
       "2019-11-28 15:00:00  23.437436  26.122564  21.779487  23.848974  22.213421   \n",
       "2019-11-28 16:00:00  40.217500  49.051500  37.680000  44.879250  23.437436   \n",
       "2019-11-28 17:00:00  87.453721  96.437907  80.326047  88.528140  40.217500   \n",
       "...                        ...        ...        ...        ...        ...   \n",
       "2021-11-16 02:00:00   0.000000   0.000000   0.000000   0.000000   0.000000   \n",
       "2021-11-16 03:00:00   0.000000   0.000000   0.000000   0.000000   0.000000   \n",
       "2021-11-16 04:00:00   0.000000   0.000000   0.000000   0.000000   0.000000   \n",
       "2021-11-16 05:00:00  45.170000  60.450000  46.580000  56.070000   0.000000   \n",
       "2021-11-16 06:00:00  44.580000  62.680000  41.230000  50.880000  45.170000   \n",
       "\n",
       "                          lag2       lag3       lag4       lag5       lag6  \\\n",
       "TimeStamp                                                                    \n",
       "2019-11-28 13:00:00  25.983953  31.153611  14.856818  17.107442  31.133953   \n",
       "2019-11-28 14:00:00  30.525405  25.983953  31.153611  14.856818  17.107442   \n",
       "2019-11-28 15:00:00  30.688611  30.525405  25.983953  31.153611  14.856818   \n",
       "2019-11-28 16:00:00  22.213421  30.688611  30.525405  25.983953  31.153611   \n",
       "2019-11-28 17:00:00  23.437436  22.213421  30.688611  30.525405  25.983953   \n",
       "...                        ...        ...        ...        ...        ...   \n",
       "2021-11-16 02:00:00   0.000000   0.000000   0.000000  55.364000  39.253750   \n",
       "2021-11-16 03:00:00   0.000000   0.000000   0.000000   0.000000  55.364000   \n",
       "2021-11-16 04:00:00   0.000000   0.000000   0.000000   0.000000   0.000000   \n",
       "2021-11-16 05:00:00   0.000000   0.000000   0.000000   0.000000   0.000000   \n",
       "2021-11-16 06:00:00   0.000000   0.000000   0.000000   0.000000   0.000000   \n",
       "\n",
       "                     ...      lag15      lag16       lag17       lag18  \\\n",
       "TimeStamp            ...                                                 \n",
       "2019-11-28 13:00:00  ...   0.000000   0.000000  116.990000  110.520800   \n",
       "2019-11-28 14:00:00  ...   0.000000   0.000000    0.000000  116.990000   \n",
       "2019-11-28 15:00:00  ...   0.000000   0.000000    0.000000    0.000000   \n",
       "2019-11-28 16:00:00  ...   0.000000   0.000000    0.000000    0.000000   \n",
       "2019-11-28 17:00:00  ...   0.000000   0.000000    0.000000    0.000000   \n",
       "...                  ...        ...        ...         ...         ...   \n",
       "2021-11-16 02:00:00  ...  38.719070  31.557907   27.168864   26.934186   \n",
       "2021-11-16 03:00:00  ...  33.848372  38.719070   31.557907   27.168864   \n",
       "2021-11-16 04:00:00  ...  35.956977  33.848372   38.719070   31.557907   \n",
       "2021-11-16 05:00:00  ...  38.830698  35.956977   33.848372   38.719070   \n",
       "2021-11-16 06:00:00  ...  53.047674  38.830698   35.956977   33.848372   \n",
       "\n",
       "                          lag19       lag20       lag21       lag22  \\\n",
       "TimeStamp                                                             \n",
       "2019-11-28 13:00:00   82.615714   81.079250   79.226667   40.329231   \n",
       "2019-11-28 14:00:00  110.520800   82.615714   81.079250   79.226667   \n",
       "2019-11-28 15:00:00  116.990000  110.520800   82.615714   81.079250   \n",
       "2019-11-28 16:00:00    0.000000  116.990000  110.520800   82.615714   \n",
       "2019-11-28 17:00:00    0.000000    0.000000  116.990000  110.520800   \n",
       "...                         ...         ...         ...         ...   \n",
       "2021-11-16 02:00:00   36.511628   41.242778   47.470000    0.000000   \n",
       "2021-11-16 03:00:00   26.934186   36.511628   41.242778   47.470000   \n",
       "2021-11-16 04:00:00   27.168864   26.934186   36.511628   41.242778   \n",
       "2021-11-16 05:00:00   31.557907   27.168864   26.934186   36.511628   \n",
       "2021-11-16 06:00:00   38.719070   31.557907   27.168864   26.934186   \n",
       "\n",
       "                         lag23      lag24  \n",
       "TimeStamp                                  \n",
       "2019-11-28 13:00:00  35.883077  41.258947  \n",
       "2019-11-28 14:00:00  40.329231  35.883077  \n",
       "2019-11-28 15:00:00  79.226667  40.329231  \n",
       "2019-11-28 16:00:00  81.079250  79.226667  \n",
       "2019-11-28 17:00:00  82.615714  81.079250  \n",
       "...                        ...        ...  \n",
       "2021-11-16 02:00:00   0.000000   0.000000  \n",
       "2021-11-16 03:00:00   0.000000   0.000000  \n",
       "2021-11-16 04:00:00  47.470000   0.000000  \n",
       "2021-11-16 05:00:00  41.242778  47.470000  \n",
       "2021-11-16 06:00:00  36.511628  41.242778  \n",
       "\n",
       "[17250 rows x 28 columns]"
      ]
     },
     "execution_count": 224,
     "metadata": {},
     "output_type": "execute_result"
    }
   ],
   "source": [
    "generate_time_lags(KK, 24)"
   ]
  },
  {
   "cell_type": "code",
   "execution_count": 257,
   "metadata": {},
   "outputs": [
    {
     "name": "stderr",
     "output_type": "stream",
     "text": [
      "/home/usman/.local/lib/python3.8/site-packages/pandas/core/ops/array_ops.py:253: FutureWarning: elementwise comparison failed; returning scalar instead, but in the future will perform elementwise comparison\n",
      "  res_values = method(rvalues)\n"
     ]
    },
    {
     "ename": "ValueError",
     "evalue": "The truth value of a DataFrame is ambiguous. Use a.empty, a.bool(), a.item(), a.any() or a.all().",
     "output_type": "error",
     "traceback": [
      "\u001b[0;31m---------------------------------------------------------------------------\u001b[0m",
      "\u001b[0;31mValueError\u001b[0m                                Traceback (most recent call last)",
      "\u001b[0;32m<ipython-input-257-fdb4431cb7bb>\u001b[0m in \u001b[0;36m<module>\u001b[0;34m\u001b[0m\n\u001b[0;32m----> 1\u001b[0;31m \u001b[0mKK\u001b[0m\u001b[0;34m.\u001b[0m\u001b[0massign\u001b[0m\u001b[0;34m(\u001b[0m\u001b[0mhour\u001b[0m\u001b[0;34m=\u001b[0m\u001b[0mKK\u001b[0m\u001b[0;34m.\u001b[0m\u001b[0mindex\u001b[0m\u001b[0;34m.\u001b[0m\u001b[0mget_level_values\u001b[0m\u001b[0;34m)\u001b[0m\u001b[0;34m\u001b[0m\u001b[0;34m\u001b[0m\u001b[0m\n\u001b[0m",
      "\u001b[0;32m~/.local/lib/python3.8/site-packages/pandas/core/frame.py\u001b[0m in \u001b[0;36massign\u001b[0;34m(self, **kwargs)\u001b[0m\n\u001b[1;32m   3565\u001b[0m \u001b[0;34m\u001b[0m\u001b[0m\n\u001b[1;32m   3566\u001b[0m         \u001b[0;32mfor\u001b[0m \u001b[0mk\u001b[0m\u001b[0;34m,\u001b[0m \u001b[0mv\u001b[0m \u001b[0;32min\u001b[0m \u001b[0mkwargs\u001b[0m\u001b[0;34m.\u001b[0m\u001b[0mitems\u001b[0m\u001b[0;34m(\u001b[0m\u001b[0;34m)\u001b[0m\u001b[0;34m:\u001b[0m\u001b[0;34m\u001b[0m\u001b[0;34m\u001b[0m\u001b[0m\n\u001b[0;32m-> 3567\u001b[0;31m             \u001b[0mdata\u001b[0m\u001b[0;34m[\u001b[0m\u001b[0mk\u001b[0m\u001b[0;34m]\u001b[0m \u001b[0;34m=\u001b[0m \u001b[0mcom\u001b[0m\u001b[0;34m.\u001b[0m\u001b[0mapply_if_callable\u001b[0m\u001b[0;34m(\u001b[0m\u001b[0mv\u001b[0m\u001b[0;34m,\u001b[0m \u001b[0mdata\u001b[0m\u001b[0;34m)\u001b[0m\u001b[0;34m\u001b[0m\u001b[0;34m\u001b[0m\u001b[0m\n\u001b[0m\u001b[1;32m   3568\u001b[0m         \u001b[0;32mreturn\u001b[0m \u001b[0mdata\u001b[0m\u001b[0;34m\u001b[0m\u001b[0;34m\u001b[0m\u001b[0m\n\u001b[1;32m   3569\u001b[0m \u001b[0;34m\u001b[0m\u001b[0m\n",
      "\u001b[0;32m~/.local/lib/python3.8/site-packages/pandas/core/common.py\u001b[0m in \u001b[0;36mapply_if_callable\u001b[0;34m(maybe_callable, obj, **kwargs)\u001b[0m\n\u001b[1;32m    341\u001b[0m \u001b[0;34m\u001b[0m\u001b[0m\n\u001b[1;32m    342\u001b[0m     \u001b[0;32mif\u001b[0m \u001b[0mcallable\u001b[0m\u001b[0;34m(\u001b[0m\u001b[0mmaybe_callable\u001b[0m\u001b[0;34m)\u001b[0m\u001b[0;34m:\u001b[0m\u001b[0;34m\u001b[0m\u001b[0;34m\u001b[0m\u001b[0m\n\u001b[0;32m--> 343\u001b[0;31m         \u001b[0;32mreturn\u001b[0m \u001b[0mmaybe_callable\u001b[0m\u001b[0;34m(\u001b[0m\u001b[0mobj\u001b[0m\u001b[0;34m,\u001b[0m \u001b[0;34m**\u001b[0m\u001b[0mkwargs\u001b[0m\u001b[0;34m)\u001b[0m\u001b[0;34m\u001b[0m\u001b[0;34m\u001b[0m\u001b[0m\n\u001b[0m\u001b[1;32m    344\u001b[0m \u001b[0;34m\u001b[0m\u001b[0m\n\u001b[1;32m    345\u001b[0m     \u001b[0;32mreturn\u001b[0m \u001b[0mmaybe_callable\u001b[0m\u001b[0;34m\u001b[0m\u001b[0;34m\u001b[0m\u001b[0m\n",
      "\u001b[0;32m~/.local/lib/python3.8/site-packages/pandas/core/indexes/base.py\u001b[0m in \u001b[0;36m_get_level_values\u001b[0;34m(self, level)\u001b[0m\n\u001b[1;32m   1477\u001b[0m         \u001b[0mIndex\u001b[0m\u001b[0;34m(\u001b[0m\u001b[0;34m[\u001b[0m\u001b[0;34m'a'\u001b[0m\u001b[0;34m,\u001b[0m \u001b[0;34m'b'\u001b[0m\u001b[0;34m,\u001b[0m \u001b[0;34m'c'\u001b[0m\u001b[0;34m]\u001b[0m\u001b[0;34m,\u001b[0m \u001b[0mdtype\u001b[0m\u001b[0;34m=\u001b[0m\u001b[0;34m'object'\u001b[0m\u001b[0;34m)\u001b[0m\u001b[0;34m\u001b[0m\u001b[0;34m\u001b[0m\u001b[0m\n\u001b[1;32m   1478\u001b[0m         \"\"\"\n\u001b[0;32m-> 1479\u001b[0;31m         \u001b[0mself\u001b[0m\u001b[0;34m.\u001b[0m\u001b[0m_validate_index_level\u001b[0m\u001b[0;34m(\u001b[0m\u001b[0mlevel\u001b[0m\u001b[0;34m)\u001b[0m\u001b[0;34m\u001b[0m\u001b[0;34m\u001b[0m\u001b[0m\n\u001b[0m\u001b[1;32m   1480\u001b[0m         \u001b[0;32mreturn\u001b[0m \u001b[0mself\u001b[0m\u001b[0;34m\u001b[0m\u001b[0;34m\u001b[0m\u001b[0m\n\u001b[1;32m   1481\u001b[0m \u001b[0;34m\u001b[0m\u001b[0m\n",
      "\u001b[0;32m~/.local/lib/python3.8/site-packages/pandas/core/indexes/base.py\u001b[0m in \u001b[0;36m_validate_index_level\u001b[0;34m(self, level)\u001b[0m\n\u001b[1;32m   1412\u001b[0m                     \u001b[0;34mf\"Too many levels: Index has only 1 level, not {level + 1}\"\u001b[0m\u001b[0;34m\u001b[0m\u001b[0;34m\u001b[0m\u001b[0m\n\u001b[1;32m   1413\u001b[0m                 )\n\u001b[0;32m-> 1414\u001b[0;31m         \u001b[0;32melif\u001b[0m \u001b[0mlevel\u001b[0m \u001b[0;34m!=\u001b[0m \u001b[0mself\u001b[0m\u001b[0;34m.\u001b[0m\u001b[0mname\u001b[0m\u001b[0;34m:\u001b[0m\u001b[0;34m\u001b[0m\u001b[0;34m\u001b[0m\u001b[0m\n\u001b[0m\u001b[1;32m   1415\u001b[0m             raise KeyError(\n\u001b[1;32m   1416\u001b[0m                 \u001b[0;34mf\"Requested level ({level}) does not match index name ({self.name})\"\u001b[0m\u001b[0;34m\u001b[0m\u001b[0;34m\u001b[0m\u001b[0m\n",
      "\u001b[0;32m~/.local/lib/python3.8/site-packages/pandas/core/generic.py\u001b[0m in \u001b[0;36m__nonzero__\u001b[0;34m(self)\u001b[0m\n\u001b[1;32m   1476\u001b[0m \u001b[0;34m\u001b[0m\u001b[0m\n\u001b[1;32m   1477\u001b[0m     \u001b[0;32mdef\u001b[0m \u001b[0m__nonzero__\u001b[0m\u001b[0;34m(\u001b[0m\u001b[0mself\u001b[0m\u001b[0;34m)\u001b[0m\u001b[0;34m:\u001b[0m\u001b[0;34m\u001b[0m\u001b[0;34m\u001b[0m\u001b[0m\n\u001b[0;32m-> 1478\u001b[0;31m         raise ValueError(\n\u001b[0m\u001b[1;32m   1479\u001b[0m             \u001b[0;34mf\"The truth value of a {type(self).__name__} is ambiguous. \"\u001b[0m\u001b[0;34m\u001b[0m\u001b[0;34m\u001b[0m\u001b[0m\n\u001b[1;32m   1480\u001b[0m             \u001b[0;34m\"Use a.empty, a.bool(), a.item(), a.any() or a.all().\"\u001b[0m\u001b[0;34m\u001b[0m\u001b[0;34m\u001b[0m\u001b[0m\n",
      "\u001b[0;31mValueError\u001b[0m: The truth value of a DataFrame is ambiguous. Use a.empty, a.bool(), a.item(), a.any() or a.all()."
     ]
    }
   ],
   "source": [
    "KK.assign(hour=KK.index)"
   ]
  },
  {
   "cell_type": "code",
   "execution_count": 259,
   "metadata": {},
   "outputs": [],
   "source": [
    "feat = KK.assign(hour = KK.index.hour,\n",
    "                 day = KK.index.day,\n",
    "                 month = KK.index.month,\n",
    "                 day_of_week = KK.index.dayofweek,\n",
    "                 week_of_year = KK.index.week)"
   ]
  },
  {
   "cell_type": "code",
   "execution_count": 267,
   "metadata": {},
   "outputs": [
    {
     "data": {
      "text/plain": [
       "7"
      ]
     },
     "execution_count": 267,
     "metadata": {},
     "output_type": "execute_result"
    }
   ],
   "source": [
    "feat.day_of_week.nunique()"
   ]
  },
  {
   "cell_type": "code",
   "execution_count": 274,
   "metadata": {},
   "outputs": [],
   "source": [
    "time_col = 'hour'"
   ]
  },
  {
   "cell_type": "code",
   "execution_count": 288,
   "metadata": {},
   "outputs": [],
   "source": [
    "dico = {f'sin_{time_col}' :lambda x: np.sin(2*np.pi*(x[time_col] - x[time_col].min()) / x[time_col].nunique()),\n",
    "        f'cos_{time_col}' :lambda x: np.cos(2*np.pi*(x[time_col] - x[time_col].min()) / x[time_col].nunique())}"
   ]
  },
  {
   "cell_type": "code",
   "execution_count": 290,
   "metadata": {},
   "outputs": [
    {
     "data": {
      "text/plain": [
       "-0.2588190451025208"
      ]
     },
     "execution_count": 290,
     "metadata": {},
     "output_type": "execute_result"
    }
   ],
   "source": [
    "np.sin(2*np.pi*(13-0)/24)"
   ]
  },
  {
   "cell_type": "code",
   "execution_count": 289,
   "metadata": {
    "scrolled": true
   },
   "outputs": [
    {
     "data": {
      "text/html": [
       "<div>\n",
       "<style scoped>\n",
       "    .dataframe tbody tr th:only-of-type {\n",
       "        vertical-align: middle;\n",
       "    }\n",
       "\n",
       "    .dataframe tbody tr th {\n",
       "        vertical-align: top;\n",
       "    }\n",
       "\n",
       "    .dataframe thead th {\n",
       "        text-align: right;\n",
       "    }\n",
       "</style>\n",
       "<table border=\"1\" class=\"dataframe\">\n",
       "  <thead>\n",
       "    <tr style=\"text-align: right;\">\n",
       "      <th></th>\n",
       "      <th>pm2_5</th>\n",
       "      <th>pm10</th>\n",
       "      <th>s2_pm2_5</th>\n",
       "      <th>s2_pm10</th>\n",
       "      <th>hour</th>\n",
       "      <th>sin_hour</th>\n",
       "      <th>cos_hour</th>\n",
       "    </tr>\n",
       "    <tr>\n",
       "      <th>TimeStamp</th>\n",
       "      <th></th>\n",
       "      <th></th>\n",
       "      <th></th>\n",
       "      <th></th>\n",
       "      <th></th>\n",
       "      <th></th>\n",
       "      <th></th>\n",
       "    </tr>\n",
       "  </thead>\n",
       "  <tbody>\n",
       "    <tr>\n",
       "      <th>2019-11-27 13:00:00</th>\n",
       "      <td>41.258947</td>\n",
       "      <td>51.221579</td>\n",
       "      <td>39.366842</td>\n",
       "      <td>48.085263</td>\n",
       "      <td>13</td>\n",
       "      <td>-0.258819</td>\n",
       "      <td>-9.659258e-01</td>\n",
       "    </tr>\n",
       "    <tr>\n",
       "      <th>2019-11-27 14:00:00</th>\n",
       "      <td>35.883077</td>\n",
       "      <td>43.583846</td>\n",
       "      <td>33.868718</td>\n",
       "      <td>39.694359</td>\n",
       "      <td>14</td>\n",
       "      <td>-0.500000</td>\n",
       "      <td>-8.660254e-01</td>\n",
       "    </tr>\n",
       "    <tr>\n",
       "      <th>2019-11-27 15:00:00</th>\n",
       "      <td>40.329231</td>\n",
       "      <td>49.360769</td>\n",
       "      <td>38.259744</td>\n",
       "      <td>46.074359</td>\n",
       "      <td>15</td>\n",
       "      <td>-0.707107</td>\n",
       "      <td>-7.071068e-01</td>\n",
       "    </tr>\n",
       "    <tr>\n",
       "      <th>2019-11-27 16:00:00</th>\n",
       "      <td>79.226667</td>\n",
       "      <td>90.660238</td>\n",
       "      <td>73.879048</td>\n",
       "      <td>84.298810</td>\n",
       "      <td>16</td>\n",
       "      <td>-0.866025</td>\n",
       "      <td>-5.000000e-01</td>\n",
       "    </tr>\n",
       "    <tr>\n",
       "      <th>2019-11-27 17:00:00</th>\n",
       "      <td>81.079250</td>\n",
       "      <td>90.701000</td>\n",
       "      <td>75.360000</td>\n",
       "      <td>84.586750</td>\n",
       "      <td>17</td>\n",
       "      <td>-0.965926</td>\n",
       "      <td>-2.588190e-01</td>\n",
       "    </tr>\n",
       "    <tr>\n",
       "      <th>...</th>\n",
       "      <td>...</td>\n",
       "      <td>...</td>\n",
       "      <td>...</td>\n",
       "      <td>...</td>\n",
       "      <td>...</td>\n",
       "      <td>...</td>\n",
       "      <td>...</td>\n",
       "    </tr>\n",
       "    <tr>\n",
       "      <th>2021-11-16 02:00:00</th>\n",
       "      <td>NaN</td>\n",
       "      <td>NaN</td>\n",
       "      <td>NaN</td>\n",
       "      <td>NaN</td>\n",
       "      <td>2</td>\n",
       "      <td>0.500000</td>\n",
       "      <td>8.660254e-01</td>\n",
       "    </tr>\n",
       "    <tr>\n",
       "      <th>2021-11-16 03:00:00</th>\n",
       "      <td>NaN</td>\n",
       "      <td>NaN</td>\n",
       "      <td>NaN</td>\n",
       "      <td>NaN</td>\n",
       "      <td>3</td>\n",
       "      <td>0.707107</td>\n",
       "      <td>7.071068e-01</td>\n",
       "    </tr>\n",
       "    <tr>\n",
       "      <th>2021-11-16 04:00:00</th>\n",
       "      <td>NaN</td>\n",
       "      <td>NaN</td>\n",
       "      <td>NaN</td>\n",
       "      <td>NaN</td>\n",
       "      <td>4</td>\n",
       "      <td>0.866025</td>\n",
       "      <td>5.000000e-01</td>\n",
       "    </tr>\n",
       "    <tr>\n",
       "      <th>2021-11-16 05:00:00</th>\n",
       "      <td>45.170000</td>\n",
       "      <td>60.450000</td>\n",
       "      <td>46.580000</td>\n",
       "      <td>56.070000</td>\n",
       "      <td>5</td>\n",
       "      <td>0.965926</td>\n",
       "      <td>2.588190e-01</td>\n",
       "    </tr>\n",
       "    <tr>\n",
       "      <th>2021-11-16 06:00:00</th>\n",
       "      <td>44.580000</td>\n",
       "      <td>62.680000</td>\n",
       "      <td>41.230000</td>\n",
       "      <td>50.880000</td>\n",
       "      <td>6</td>\n",
       "      <td>1.000000</td>\n",
       "      <td>6.123234e-17</td>\n",
       "    </tr>\n",
       "  </tbody>\n",
       "</table>\n",
       "<p>17274 rows × 7 columns</p>\n",
       "</div>"
      ],
      "text/plain": [
       "                         pm2_5       pm10   s2_pm2_5    s2_pm10  hour  \\\n",
       "TimeStamp                                                               \n",
       "2019-11-27 13:00:00  41.258947  51.221579  39.366842  48.085263    13   \n",
       "2019-11-27 14:00:00  35.883077  43.583846  33.868718  39.694359    14   \n",
       "2019-11-27 15:00:00  40.329231  49.360769  38.259744  46.074359    15   \n",
       "2019-11-27 16:00:00  79.226667  90.660238  73.879048  84.298810    16   \n",
       "2019-11-27 17:00:00  81.079250  90.701000  75.360000  84.586750    17   \n",
       "...                        ...        ...        ...        ...   ...   \n",
       "2021-11-16 02:00:00        NaN        NaN        NaN        NaN     2   \n",
       "2021-11-16 03:00:00        NaN        NaN        NaN        NaN     3   \n",
       "2021-11-16 04:00:00        NaN        NaN        NaN        NaN     4   \n",
       "2021-11-16 05:00:00  45.170000  60.450000  46.580000  56.070000     5   \n",
       "2021-11-16 06:00:00  44.580000  62.680000  41.230000  50.880000     6   \n",
       "\n",
       "                     sin_hour      cos_hour  \n",
       "TimeStamp                                    \n",
       "2019-11-27 13:00:00 -0.258819 -9.659258e-01  \n",
       "2019-11-27 14:00:00 -0.500000 -8.660254e-01  \n",
       "2019-11-27 15:00:00 -0.707107 -7.071068e-01  \n",
       "2019-11-27 16:00:00 -0.866025 -5.000000e-01  \n",
       "2019-11-27 17:00:00 -0.965926 -2.588190e-01  \n",
       "...                       ...           ...  \n",
       "2021-11-16 02:00:00  0.500000  8.660254e-01  \n",
       "2021-11-16 03:00:00  0.707107  7.071068e-01  \n",
       "2021-11-16 04:00:00  0.866025  5.000000e-01  \n",
       "2021-11-16 05:00:00  0.965926  2.588190e-01  \n",
       "2021-11-16 06:00:00  1.000000  6.123234e-17  \n",
       "\n",
       "[17274 rows x 7 columns]"
      ]
     },
     "execution_count": 289,
     "metadata": {},
     "output_type": "execute_result"
    }
   ],
   "source": [
    "KK.assign(hour = KK.index.hour, month=KK.).assign(**dico)"
   ]
  },
  {
   "cell_type": "code",
   "execution_count": 302,
   "metadata": {},
   "outputs": [],
   "source": [
    "KK.assign?"
   ]
  },
  {
   "cell_type": "code",
   "execution_count": 306,
   "metadata": {},
   "outputs": [],
   "source": [
    "KKKK.agg?"
   ]
  },
  {
   "cell_type": "code",
   "execution_count": 308,
   "metadata": {},
   "outputs": [
    {
     "name": "stdout",
     "output_type": "stream",
     "text": [
      "Object `apply` not found.\n"
     ]
    }
   ],
   "source": [
    "KKKK['hour'].apply?"
   ]
  },
  {
   "cell_type": "code",
   "execution_count": 316,
   "metadata": {},
   "outputs": [
    {
     "data": {
      "text/html": [
       "<div>\n",
       "<style scoped>\n",
       "    .dataframe tbody tr th:only-of-type {\n",
       "        vertical-align: middle;\n",
       "    }\n",
       "\n",
       "    .dataframe tbody tr th {\n",
       "        vertical-align: top;\n",
       "    }\n",
       "\n",
       "    .dataframe thead th {\n",
       "        text-align: right;\n",
       "    }\n",
       "</style>\n",
       "<table border=\"1\" class=\"dataframe\">\n",
       "  <thead>\n",
       "    <tr style=\"text-align: right;\">\n",
       "      <th></th>\n",
       "      <th>hour</th>\n",
       "      <th>month</th>\n",
       "    </tr>\n",
       "    <tr>\n",
       "      <th>TimeStamp</th>\n",
       "      <th></th>\n",
       "      <th></th>\n",
       "    </tr>\n",
       "  </thead>\n",
       "  <tbody>\n",
       "    <tr>\n",
       "      <th>2019-11-27 13:00:00</th>\n",
       "      <td>-2.449294e-16</td>\n",
       "      <td>0.000000e+00</td>\n",
       "    </tr>\n",
       "    <tr>\n",
       "      <th>2019-11-27 14:00:00</th>\n",
       "      <td>3.673940e-16</td>\n",
       "      <td>0.000000e+00</td>\n",
       "    </tr>\n",
       "    <tr>\n",
       "      <th>2019-11-27 15:00:00</th>\n",
       "      <td>-4.898587e-16</td>\n",
       "      <td>0.000000e+00</td>\n",
       "    </tr>\n",
       "    <tr>\n",
       "      <th>2019-11-27 16:00:00</th>\n",
       "      <td>6.123234e-16</td>\n",
       "      <td>0.000000e+00</td>\n",
       "    </tr>\n",
       "    <tr>\n",
       "      <th>2019-11-27 17:00:00</th>\n",
       "      <td>-7.347881e-16</td>\n",
       "      <td>0.000000e+00</td>\n",
       "    </tr>\n",
       "    <tr>\n",
       "      <th>...</th>\n",
       "      <td>...</td>\n",
       "      <td>...</td>\n",
       "    </tr>\n",
       "    <tr>\n",
       "      <th>2021-11-16 02:00:00</th>\n",
       "      <td>0.000000e+00</td>\n",
       "      <td>1.102182e-15</td>\n",
       "    </tr>\n",
       "    <tr>\n",
       "      <th>2021-11-16 03:00:00</th>\n",
       "      <td>0.000000e+00</td>\n",
       "      <td>-9.797174e-16</td>\n",
       "    </tr>\n",
       "    <tr>\n",
       "      <th>2021-11-16 04:00:00</th>\n",
       "      <td>0.000000e+00</td>\n",
       "      <td>8.572528e-16</td>\n",
       "    </tr>\n",
       "    <tr>\n",
       "      <th>2021-11-16 05:00:00</th>\n",
       "      <td>0.000000e+00</td>\n",
       "      <td>-7.347881e-16</td>\n",
       "    </tr>\n",
       "    <tr>\n",
       "      <th>2021-11-16 06:00:00</th>\n",
       "      <td>0.000000e+00</td>\n",
       "      <td>6.123234e-16</td>\n",
       "    </tr>\n",
       "  </tbody>\n",
       "</table>\n",
       "<p>17274 rows × 2 columns</p>\n",
       "</div>"
      ],
      "text/plain": [
       "                             hour         month\n",
       "TimeStamp                                      \n",
       "2019-11-27 13:00:00 -2.449294e-16  0.000000e+00\n",
       "2019-11-27 14:00:00  3.673940e-16  0.000000e+00\n",
       "2019-11-27 15:00:00 -4.898587e-16  0.000000e+00\n",
       "2019-11-27 16:00:00  6.123234e-16  0.000000e+00\n",
       "2019-11-27 17:00:00 -7.347881e-16  0.000000e+00\n",
       "...                           ...           ...\n",
       "2021-11-16 02:00:00  0.000000e+00  1.102182e-15\n",
       "2021-11-16 03:00:00  0.000000e+00 -9.797174e-16\n",
       "2021-11-16 04:00:00  0.000000e+00  8.572528e-16\n",
       "2021-11-16 05:00:00  0.000000e+00 -7.347881e-16\n",
       "2021-11-16 06:00:00  0.000000e+00  6.123234e-16\n",
       "\n",
       "[17274 rows x 2 columns]"
      ]
     },
     "execution_count": 316,
     "metadata": {},
     "output_type": "execute_result"
    }
   ],
   "source": [
    "KKKK[['hour', 'month']].apply(lambda x: np.sin(2*np.pi*(x - x.min()) / x.nunique()), axis=1, result_type='expand')"
   ]
  },
  {
   "cell_type": "code",
   "execution_count": 230,
   "metadata": {
    "scrolled": true
   },
   "outputs": [
    {
     "data": {
      "text/plain": [
       "DatetimeIndex(['2019-11-27 13:00:00', '2019-11-27 14:00:00',\n",
       "               '2019-11-27 15:00:00', '2019-11-27 16:00:00',\n",
       "               '2019-11-27 17:00:00', '2019-11-27 18:00:00',\n",
       "               '2019-11-27 19:00:00', '2019-11-27 20:00:00',\n",
       "               '2019-11-27 21:00:00', '2019-11-27 22:00:00',\n",
       "               ...\n",
       "               '2021-11-15 21:00:00', '2021-11-15 22:00:00',\n",
       "               '2021-11-15 23:00:00', '2021-11-16 00:00:00',\n",
       "               '2021-11-16 01:00:00', '2021-11-16 02:00:00',\n",
       "               '2021-11-16 03:00:00', '2021-11-16 04:00:00',\n",
       "               '2021-11-16 05:00:00', '2021-11-16 06:00:00'],\n",
       "              dtype='datetime64[ns]', name='TimeStamp', length=17274, freq='H')"
      ]
     },
     "execution_count": 230,
     "metadata": {},
     "output_type": "execute_result"
    }
   ],
   "source": [
    "KK_features = (KK.assign)"
   ]
  },
  {
   "cell_type": "code",
   "execution_count": 219,
   "metadata": {
    "scrolled": true
   },
   "outputs": [
    {
     "data": {
      "text/plain": [
       "TimeStamp\n",
       "2019-11-27 13:00:00          NaN\n",
       "2019-11-27 14:00:00    41.258947\n",
       "2019-11-27 15:00:00    35.883077\n",
       "2019-11-27 16:00:00    40.329231\n",
       "2019-11-27 17:00:00    79.226667\n",
       "                         ...    \n",
       "2021-11-16 02:00:00     0.000000\n",
       "2021-11-16 03:00:00     0.000000\n",
       "2021-11-16 04:00:00     0.000000\n",
       "2021-11-16 05:00:00     0.000000\n",
       "2021-11-16 06:00:00    45.170000\n",
       "Freq: H, Name: pm2_5, Length: 17274, dtype: float64"
      ]
     },
     "execution_count": 219,
     "metadata": {},
     "output_type": "execute_result"
    }
   ],
   "source": [
    "KK['pm2_5'].shift(1)"
   ]
  },
  {
   "cell_type": "code",
   "execution_count": 213,
   "metadata": {},
   "outputs": [
    {
     "data": {
      "text/plain": [
       "TimeStamp\n",
       "2019-11-27 13:00:00    41.258947\n",
       "2019-11-27 14:00:00    35.883077\n",
       "2019-11-27 15:00:00    40.329231\n",
       "2019-11-27 16:00:00    79.226667\n",
       "2019-11-27 17:00:00    81.079250\n",
       "                         ...    \n",
       "2021-11-16 02:00:00     0.000000\n",
       "2021-11-16 03:00:00     0.000000\n",
       "2021-11-16 04:00:00     0.000000\n",
       "2021-11-16 05:00:00    45.170000\n",
       "2021-11-16 06:00:00    44.580000\n",
       "Freq: H, Name: pm2_5, Length: 17274, dtype: float64"
      ]
     },
     "execution_count": 213,
     "metadata": {},
     "output_type": "execute_result"
    }
   ],
   "source": [
    "KK['pm2_5']"
   ]
  },
  {
   "cell_type": "code",
   "execution_count": 203,
   "metadata": {},
   "outputs": [
    {
     "data": {
      "text/html": [
       "<div>\n",
       "<style scoped>\n",
       "    .dataframe tbody tr th:only-of-type {\n",
       "        vertical-align: middle;\n",
       "    }\n",
       "\n",
       "    .dataframe tbody tr th {\n",
       "        vertical-align: top;\n",
       "    }\n",
       "\n",
       "    .dataframe thead th {\n",
       "        text-align: right;\n",
       "    }\n",
       "</style>\n",
       "<table border=\"1\" class=\"dataframe\">\n",
       "  <thead>\n",
       "    <tr style=\"text-align: right;\">\n",
       "      <th></th>\n",
       "      <th>channel_id</th>\n",
       "      <th>pm2_5</th>\n",
       "      <th>pm10</th>\n",
       "      <th>s2_pm2_5</th>\n",
       "      <th>s2_pm10</th>\n",
       "    </tr>\n",
       "    <tr>\n",
       "      <th>TimeStamp</th>\n",
       "      <th></th>\n",
       "      <th></th>\n",
       "      <th></th>\n",
       "      <th></th>\n",
       "      <th></th>\n",
       "    </tr>\n",
       "  </thead>\n",
       "  <tbody>\n",
       "    <tr>\n",
       "      <th>2019-11-27 13:00:00</th>\n",
       "      <td>912223.0</td>\n",
       "      <td>41.700</td>\n",
       "      <td>51.150</td>\n",
       "      <td>39.670</td>\n",
       "      <td>48.850</td>\n",
       "    </tr>\n",
       "    <tr>\n",
       "      <th>2019-11-27 14:00:00</th>\n",
       "      <td>912223.0</td>\n",
       "      <td>35.380</td>\n",
       "      <td>43.700</td>\n",
       "      <td>33.580</td>\n",
       "      <td>38.350</td>\n",
       "    </tr>\n",
       "    <tr>\n",
       "      <th>2019-11-27 15:00:00</th>\n",
       "      <td>912223.0</td>\n",
       "      <td>36.300</td>\n",
       "      <td>45.000</td>\n",
       "      <td>34.370</td>\n",
       "      <td>40.870</td>\n",
       "    </tr>\n",
       "    <tr>\n",
       "      <th>2019-11-27 16:00:00</th>\n",
       "      <td>912223.0</td>\n",
       "      <td>77.865</td>\n",
       "      <td>86.715</td>\n",
       "      <td>70.525</td>\n",
       "      <td>79.775</td>\n",
       "    </tr>\n",
       "    <tr>\n",
       "      <th>2019-11-27 17:00:00</th>\n",
       "      <td>912223.0</td>\n",
       "      <td>78.455</td>\n",
       "      <td>88.210</td>\n",
       "      <td>72.810</td>\n",
       "      <td>81.375</td>\n",
       "    </tr>\n",
       "    <tr>\n",
       "      <th>...</th>\n",
       "      <td>...</td>\n",
       "      <td>...</td>\n",
       "      <td>...</td>\n",
       "      <td>...</td>\n",
       "      <td>...</td>\n",
       "    </tr>\n",
       "    <tr>\n",
       "      <th>2021-11-16 02:00:00</th>\n",
       "      <td>NaN</td>\n",
       "      <td>NaN</td>\n",
       "      <td>NaN</td>\n",
       "      <td>NaN</td>\n",
       "      <td>NaN</td>\n",
       "    </tr>\n",
       "    <tr>\n",
       "      <th>2021-11-16 03:00:00</th>\n",
       "      <td>NaN</td>\n",
       "      <td>NaN</td>\n",
       "      <td>NaN</td>\n",
       "      <td>NaN</td>\n",
       "      <td>NaN</td>\n",
       "    </tr>\n",
       "    <tr>\n",
       "      <th>2021-11-16 04:00:00</th>\n",
       "      <td>NaN</td>\n",
       "      <td>NaN</td>\n",
       "      <td>NaN</td>\n",
       "      <td>NaN</td>\n",
       "      <td>NaN</td>\n",
       "    </tr>\n",
       "    <tr>\n",
       "      <th>2021-11-16 05:00:00</th>\n",
       "      <td>912223.0</td>\n",
       "      <td>45.170</td>\n",
       "      <td>60.450</td>\n",
       "      <td>46.580</td>\n",
       "      <td>56.070</td>\n",
       "    </tr>\n",
       "    <tr>\n",
       "      <th>2021-11-16 06:00:00</th>\n",
       "      <td>912223.0</td>\n",
       "      <td>44.580</td>\n",
       "      <td>62.680</td>\n",
       "      <td>41.230</td>\n",
       "      <td>50.880</td>\n",
       "    </tr>\n",
       "  </tbody>\n",
       "</table>\n",
       "<p>17274 rows × 5 columns</p>\n",
       "</div>"
      ],
      "text/plain": [
       "                     channel_id   pm2_5    pm10  s2_pm2_5  s2_pm10\n",
       "TimeStamp                                                         \n",
       "2019-11-27 13:00:00    912223.0  41.700  51.150    39.670   48.850\n",
       "2019-11-27 14:00:00    912223.0  35.380  43.700    33.580   38.350\n",
       "2019-11-27 15:00:00    912223.0  36.300  45.000    34.370   40.870\n",
       "2019-11-27 16:00:00    912223.0  77.865  86.715    70.525   79.775\n",
       "2019-11-27 17:00:00    912223.0  78.455  88.210    72.810   81.375\n",
       "...                         ...     ...     ...       ...      ...\n",
       "2021-11-16 02:00:00         NaN     NaN     NaN       NaN      NaN\n",
       "2021-11-16 03:00:00         NaN     NaN     NaN       NaN      NaN\n",
       "2021-11-16 04:00:00         NaN     NaN     NaN       NaN      NaN\n",
       "2021-11-16 05:00:00    912223.0  45.170  60.450    46.580   56.070\n",
       "2021-11-16 06:00:00    912223.0  44.580  62.680    41.230   50.880\n",
       "\n",
       "[17274 rows x 5 columns]"
      ]
     },
     "execution_count": 203,
     "metadata": {},
     "output_type": "execute_result"
    }
   ],
   "source": [
    "channel_one.groupby(pd.Grouper(key='TimeStamp', freq='1H')).median()"
   ]
  },
  {
   "cell_type": "code",
   "execution_count": 227,
   "metadata": {},
   "outputs": [
    {
     "data": {
      "text/html": [
       "<div>\n",
       "<style scoped>\n",
       "    .dataframe tbody tr th:only-of-type {\n",
       "        vertical-align: middle;\n",
       "    }\n",
       "\n",
       "    .dataframe tbody tr th {\n",
       "        vertical-align: top;\n",
       "    }\n",
       "\n",
       "    .dataframe thead th {\n",
       "        text-align: right;\n",
       "    }\n",
       "</style>\n",
       "<table border=\"1\" class=\"dataframe\">\n",
       "  <thead>\n",
       "    <tr style=\"text-align: right;\">\n",
       "      <th></th>\n",
       "      <th>pm2_5</th>\n",
       "      <th>pm10</th>\n",
       "      <th>s2_pm2_5</th>\n",
       "      <th>s2_pm10</th>\n",
       "    </tr>\n",
       "  </thead>\n",
       "  <tbody>\n",
       "    <tr>\n",
       "      <th>pm2_5</th>\n",
       "      <td>1.000000</td>\n",
       "      <td>0.999412</td>\n",
       "      <td>0.255833</td>\n",
       "      <td>0.256373</td>\n",
       "    </tr>\n",
       "    <tr>\n",
       "      <th>pm10</th>\n",
       "      <td>0.999412</td>\n",
       "      <td>1.000000</td>\n",
       "      <td>0.282602</td>\n",
       "      <td>0.284030</td>\n",
       "    </tr>\n",
       "    <tr>\n",
       "      <th>s2_pm2_5</th>\n",
       "      <td>0.255833</td>\n",
       "      <td>0.282602</td>\n",
       "      <td>1.000000</td>\n",
       "      <td>0.997424</td>\n",
       "    </tr>\n",
       "    <tr>\n",
       "      <th>s2_pm10</th>\n",
       "      <td>0.256373</td>\n",
       "      <td>0.284030</td>\n",
       "      <td>0.997424</td>\n",
       "      <td>1.000000</td>\n",
       "    </tr>\n",
       "  </tbody>\n",
       "</table>\n",
       "</div>"
      ],
      "text/plain": [
       "             pm2_5      pm10  s2_pm2_5   s2_pm10\n",
       "pm2_5     1.000000  0.999412  0.255833  0.256373\n",
       "pm10      0.999412  1.000000  0.282602  0.284030\n",
       "s2_pm2_5  0.255833  0.282602  1.000000  0.997424\n",
       "s2_pm10   0.256373  0.284030  0.997424  1.000000"
      ]
     },
     "execution_count": 227,
     "metadata": {},
     "output_type": "execute_result"
    }
   ],
   "source": [
    "KK.corr()"
   ]
  },
  {
   "cell_type": "code",
   "execution_count": 87,
   "metadata": {
    "scrolled": true
   },
   "outputs": [
    {
     "data": {
      "text/plain": [
       "<bound method PandasDelegate._add_delegate_accessors.<locals>._create_delegator_method.<locals>.f of <pandas.core.indexes.accessors.DatetimeProperties object at 0x7fa35f1a1ca0>>"
      ]
     },
     "execution_count": 87,
     "metadata": {},
     "output_type": "execute_result"
    }
   ],
   "source": [
    "channel_one.TimeStamp.dt"
   ]
  },
  {
   "cell_type": "code",
   "execution_count": 145,
   "metadata": {},
   "outputs": [],
   "source": [
    "hour_mean = channel_one.groupby(channel_one.TimeStamp.dt.month)['pm2_5'].mean().to_numpy()"
   ]
  },
  {
   "cell_type": "code",
   "execution_count": 146,
   "metadata": {},
   "outputs": [],
   "source": [
    "lower, upper = stats.t.interval(alpha=0.95, df=channel_one.groupby(channel_one.TimeStamp.dt.month)['pm2_5'].count()-1, \n",
    "                 loc=channel_one.groupby(channel_one.TimeStamp.dt.month)['pm2_5'].mean(),\n",
    "                scale=channel_one.groupby(channel_one.TimeStamp.dt.month)['pm2_5'].std())"
   ]
  },
  {
   "cell_type": "code",
   "execution_count": 110,
   "metadata": {},
   "outputs": [
    {
     "data": {
      "text/plain": [
       "(24, 1)"
      ]
     },
     "execution_count": 110,
     "metadata": {},
     "output_type": "execute_result"
    }
   ],
   "source": [
    "lower.reshape(-1,1).shape"
   ]
  },
  {
   "cell_type": "code",
   "execution_count": 147,
   "metadata": {},
   "outputs": [
    {
     "data": {
      "text/plain": [
       "array([ 65.18920386,  59.82245696,  37.96603084,  25.8360199 ,\n",
       "        29.70515476,  46.04323767,  87.03750805, 136.67150925,\n",
       "        39.67616047,  44.26139234,  41.73948743,  53.339399  ])"
      ]
     },
     "execution_count": 147,
     "metadata": {},
     "output_type": "execute_result"
    }
   ],
   "source": [
    "hour_mean"
   ]
  },
  {
   "cell_type": "code",
   "execution_count": 125,
   "metadata": {},
   "outputs": [],
   "source": [
    "pd.DataFrame?"
   ]
  },
  {
   "cell_type": "code",
   "execution_count": 148,
   "metadata": {
    "scrolled": true
   },
   "outputs": [],
   "source": [
    "DDD = pd.DataFrame(data=np.array([hour_mean, lower, upper]).T)"
   ]
  },
  {
   "cell_type": "code",
   "execution_count": 149,
   "metadata": {},
   "outputs": [
    {
     "data": {
      "text/plain": [
       "<matplotlib.axes._subplots.AxesSubplot at 0x7fa337681730>"
      ]
     },
     "execution_count": 149,
     "metadata": {},
     "output_type": "execute_result"
    },
    {
     "data": {
      "image/png": "[encoded data removed]",
      "text/plain": [
       "<Figure size 432x288 with 1 Axes>"
      ]
     },
     "metadata": {
      "needs_background": "light"
     },
     "output_type": "display_data"
    }
   ],
   "source": [
    "DDD.plot()"
   ]
  },
  {
   "cell_type": "code",
   "execution_count": 155,
   "metadata": {},
   "outputs": [
    {
     "data": {
      "text/html": [
       "<div>\n",
       "<style scoped>\n",
       "    .dataframe tbody tr th:only-of-type {\n",
       "        vertical-align: middle;\n",
       "    }\n",
       "\n",
       "    .dataframe tbody tr th {\n",
       "        vertical-align: top;\n",
       "    }\n",
       "\n",
       "    .dataframe thead th {\n",
       "        text-align: right;\n",
       "    }\n",
       "</style>\n",
       "<table border=\"1\" class=\"dataframe\">\n",
       "  <thead>\n",
       "    <tr style=\"text-align: right;\">\n",
       "      <th></th>\n",
       "      <th>count</th>\n",
       "      <th>mean</th>\n",
       "      <th>std</th>\n",
       "      <th>min</th>\n",
       "      <th>25%</th>\n",
       "      <th>50%</th>\n",
       "      <th>75%</th>\n",
       "      <th>max</th>\n",
       "    </tr>\n",
       "    <tr>\n",
       "      <th>TimeStamp</th>\n",
       "      <th></th>\n",
       "      <th></th>\n",
       "      <th></th>\n",
       "      <th></th>\n",
       "      <th></th>\n",
       "      <th></th>\n",
       "      <th></th>\n",
       "      <th></th>\n",
       "    </tr>\n",
       "  </thead>\n",
       "  <tbody>\n",
       "    <tr>\n",
       "      <th>2019</th>\n",
       "      <td>16719.0</td>\n",
       "      <td>59.579169</td>\n",
       "      <td>47.443451</td>\n",
       "      <td>1.93</td>\n",
       "      <td>27.57</td>\n",
       "      <td>43.02</td>\n",
       "      <td>76.425</td>\n",
       "      <td>609.17</td>\n",
       "    </tr>\n",
       "    <tr>\n",
       "      <th>2020</th>\n",
       "      <td>237305.0</td>\n",
       "      <td>59.988219</td>\n",
       "      <td>224.187822</td>\n",
       "      <td>0.00</td>\n",
       "      <td>20.22</td>\n",
       "      <td>37.47</td>\n",
       "      <td>56.030</td>\n",
       "      <td>3663.30</td>\n",
       "    </tr>\n",
       "    <tr>\n",
       "      <th>2021</th>\n",
       "      <td>153028.0</td>\n",
       "      <td>47.896370</td>\n",
       "      <td>151.089488</td>\n",
       "      <td>0.00</td>\n",
       "      <td>18.27</td>\n",
       "      <td>34.50</td>\n",
       "      <td>50.380</td>\n",
       "      <td>3772.25</td>\n",
       "    </tr>\n",
       "  </tbody>\n",
       "</table>\n",
       "</div>"
      ],
      "text/plain": [
       "              count       mean         std   min    25%    50%     75%  \\\n",
       "TimeStamp                                                                \n",
       "2019        16719.0  59.579169   47.443451  1.93  27.57  43.02  76.425   \n",
       "2020       237305.0  59.988219  224.187822  0.00  20.22  37.47  56.030   \n",
       "2021       153028.0  47.896370  151.089488  0.00  18.27  34.50  50.380   \n",
       "\n",
       "               max  \n",
       "TimeStamp           \n",
       "2019        609.17  \n",
       "2020       3663.30  \n",
       "2021       3772.25  "
      ]
     },
     "execution_count": 155,
     "metadata": {},
     "output_type": "execute_result"
    }
   ],
   "source": [
    "channel_one.groupby(channel_one.TimeStamp.dt.year)['pm2_5'].describe()"
   ]
  },
  {
   "cell_type": "code",
   "execution_count": 153,
   "metadata": {
    "scrolled": true
   },
   "outputs": [
    {
     "data": {
      "image/png": "[encoded data removed]",
      "text/plain": [
       "<Figure size 1152x504 with 1 Axes>"
      ]
     },
     "metadata": {
      "needs_background": "light"
     },
     "output_type": "display_data"
    }
   ],
   "source": [
    "plt.figure(figsize=(16,7))\n",
    "\n",
    "ax=sns.boxplot(x=channel_one.TimeStamp.dt.year, y='pm2_5', data=channel_one, orient='v', palette = sns.color_palette(\"deep\", 5))\n",
    "ax.set(ylim=(-50, 600))\n",
    "\n",
    "plt.title('Boxplots of Hourly PM 2.5 by Year', fontsize=16)\n",
    "plt.xlabel('')\n",
    "plt.ylabel('ug/m^3', fontsize=12);"
   ]
  },
  {
   "cell_type": "code",
   "execution_count": null,
   "metadata": {
    "scrolled": true
   },
   "outputs": [],
   "source": [
    "fig = plt.figure(figsize=(14,10))\n",
    "testing[['date', 'pm2_5', 'pm10', 's2_pm2_5', 's2_pm10']].plot(x='date', subplots=True, layout=(2,2),\n",
    "                                                              figsize=(14,10), sharex=False, rot=45)\n",
    "plt.tight_layout(pad=5)"
   ]
  },
  {
   "cell_type": "code",
   "execution_count": 25,
   "metadata": {},
   "outputs": [],
   "source": [
    "#delta = datetime.timedelta(hours=24)"
   ]
  },
  {
   "cell_type": "code",
   "execution_count": 27,
   "metadata": {},
   "outputs": [],
   "source": [
    "pd.to_numeric?"
   ]
  },
  {
   "cell_type": "code",
   "execution_count": 391,
   "metadata": {},
   "outputs": [
    {
     "name": "stdout",
     "output_type": "stream",
     "text": [
      "Object `assert` not found.\n"
     ]
    }
   ],
   "source": [
    "assert?"
   ]
  },
  {
   "cell_type": "code",
   "execution_count": 392,
   "metadata": {},
   "outputs": [
    {
     "ename": "SyntaxError",
     "evalue": "invalid syntax (<ipython-input-392-cc3c8914aafa>, line 1)",
     "output_type": "error",
     "traceback": [
      "\u001b[0;36m  File \u001b[0;32m\"<ipython-input-392-cc3c8914aafa>\"\u001b[0;36m, line \u001b[0;32m1\u001b[0m\n\u001b[0;31m    type(assert)\u001b[0m\n\u001b[0m         ^\u001b[0m\n\u001b[0;31mSyntaxError\u001b[0m\u001b[0;31m:\u001b[0m invalid syntax\n"
     ]
    }
   ],
   "source": []
  },
  {
   "cell_type": "code",
   "execution_count": null,
   "metadata": {},
   "outputs": [],
   "source": [
    "class WindowGenerator():\n",
    "    def __init__(self, input_width, label_width, shift,\n",
    "               train_df=train_df, val_df=val_df, test_df=test_df,\n",
    "               label_columns=None):\n",
    "        # Store the raw data.\n",
    "        self.train_df = train_df\n",
    "        self.val_df = val_df\n",
    "        self.test_df = test_df\n",
    "\n",
    "        # Work out the label column indices.\n",
    "        self.label_columns = label_columns\n",
    "        if label_columns is not None:\n",
    "            self.label_columns_indices = {name: i for i, name in\n",
    "                                        enumerate(label_columns)}\n",
    "            print(self.label_columns_indices)\n",
    "        self.column_indices = {name: i for i, name in\n",
    "                               enumerate(train_df.columns)}\n",
    "\n",
    "        # Work out the window parameters.\n",
    "        self.input_width = input_width\n",
    "        self.label_width = label_width\n",
    "        self.shift = shift\n",
    "\n",
    "        self.total_window_size = input_width + shift\n",
    "\n",
    "        self.input_slice = slice(0, input_width)\n",
    "        self.input_indices = np.arange(self.total_window_size)[self.input_slice]\n",
    "\n",
    "        self.label_start = self.total_window_size - self.label_width\n",
    "        self.labels_slice = slice(self.label_start, None)\n",
    "        self.label_indices = np.arange(self.total_window_size)[self.labels_slice]\n",
    "\n",
    "    def __repr__(self):\n",
    "        return '\\n'.join([\n",
    "            f'Total window size: {self.total_window_size}',\n",
    "            f'Input indices: {self.input_indices}',\n",
    "            f'Label indices: {self.label_indices}',\n",
    "            f'Label column name(s): {self.label_columns}'])\n",
    "    \n",
    "    def split_window(self, features):\n",
    "        inputs = features[:, self.input_slice, :]\n",
    "        labels = features[:, self.labels_slice, :]\n",
    "        if self.label_columns is not None:\n",
    "            labels = tf.stack(\n",
    "                [labels[:, :, self.column_indices[name]] for name in self.label_columns],\n",
    "                axis=-1)\n",
    "\n",
    "        # Slicing doesn't preserve static shape information, so set the shapes\n",
    "        # manually. This way the `tf.data.Datasets` are easier to inspect.\n",
    "        inputs.set_shape([None, self.input_width, None])\n",
    "        labels.set_shape([None, self.label_width, None])\n",
    "\n",
    "        return inputs, labels\n",
    "\n",
    "    def plot(self, model=None, plot_col=None, max_subplots=3):\n",
    "        inputs, labels = self.example\n",
    "        plt.figure(figsize=(12, 8))\n",
    "        plot_col_index = self.column_indices[plot_col]\n",
    "        max_n = min(max_subplots, len(inputs))\n",
    "        for n in range(max_n):\n",
    "            plt.subplot(max_n, 1, n+1)\n",
    "            plt.ylabel(f'{plot_col} [normed]')\n",
    "            plt.plot(self.input_indices, inputs[n, :, plot_col_index],\n",
    "                     label='Inputs', marker='.', zorder=-10)\n",
    "\n",
    "            if self.label_columns:\n",
    "                label_col_index = self.label_columns_indices.get(plot_col, None)\n",
    "            else:\n",
    "                label_col_index = plot_col_index\n",
    "\n",
    "            if label_col_index is None:\n",
    "                continue\n",
    "\n",
    "            plt.scatter(self.label_indices, labels[n, :, label_col_index],\n",
    "                        edgecolors='k', label='Labels', c='#2ca02c', s=64)\n",
    "            if model is not None:\n",
    "                predictions = model(inputs)\n",
    "                plt.scatter(self.label_indices, predictions[n, :, label_col_index],\n",
    "                          marker='X', edgecolors='k', label='Predictions',\n",
    "                          c='#ff7f0e', s=64)\n",
    "\n",
    "            if n == 0:\n",
    "                plt.legend()\n",
    "\n",
    "        plt.xlabel('Time [h]')\n",
    "\n",
    "\n",
    "    def make_dataset(self, data):\n",
    "        data = np.array(data, dtype=np.float32)\n",
    "        ds = tf.keras.preprocessing.timeseries_dataset_from_array(\n",
    "          data=data,\n",
    "          targets=None,\n",
    "          sequence_length=self.total_window_size,\n",
    "          sequence_stride=1,\n",
    "          shuffle=True,\n",
    "          batch_size=32,)\n",
    "\n",
    "        ds = ds.map(self.split_window)\n",
    "\n",
    "        return ds\n",
    "\n",
    "    WindowGenerator.make_dataset = make_dataset\n",
    "    \n",
    "    @property\n",
    "    def train(self):\n",
    "        return self.make_dataset(self.train_df)\n",
    "\n",
    "    @property\n",
    "    def val(self):\n",
    "        return self.make_dataset(self.val_df)\n",
    "\n",
    "    @property\n",
    "    def test(self):\n",
    "        return self.make_dataset(self.test_df)\n",
    "\n",
    "    @property\n",
    "    def example(self):\n",
    "        \"\"\"Get and cache an example batch of `inputs, labels` for plotting.\"\"\"\n",
    "        result = getattr(self, '_example', None)\n",
    "        if result is None:\n",
    "            # No example batch was found, so get one from the `.train` dataset\n",
    "            result = next(iter(self.train))\n",
    "            # And cache it for next time\n",
    "            self._example = result\n",
    "        return result\n",
    "\n",
    "    WindowGenerator.train = train\n",
    "    WindowGenerator.val = val\n",
    "    WindowGenerator.test = test\n",
    "    WindowGenerator.example = example\n"
   ]
  }
 ],
 "metadata": {
  "kernelspec": {
   "display_name": "Python 3",
   "language": "python",
   "name": "python3"
  },
  "language_info": {
   "codemirror_mode": {
    "name": "ipython",
    "version": 3
   },
   "file_extension": ".py",
   "mimetype": "text/x-python",
   "name": "python",
   "nbconvert_exporter": "python",
   "pygments_lexer": "ipython3",
   "version": "3.8.2"
  }
 },
 "nbformat": 4,
 "nbformat_minor": 4
}
